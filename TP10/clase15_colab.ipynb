{
  "nbformat": 4,
  "nbformat_minor": 0,
  "metadata": {
    "colab": {
      "name": "clase15_colab.ipynb",
      "provenance": [],
      "collapsed_sections": []
    },
    "kernelspec": {
      "name": "python3",
      "display_name": "Python 3"
    }
  },
  "cells": [
    {
      "cell_type": "markdown",
      "source": [
        "#Alumno: Brian Alex Fuentes Acuña.\n",
        "#Padrón: 101785"
      ],
      "metadata": {
        "id": "I2bWqD9XSwxP"
      }
    },
    {
      "cell_type": "markdown",
      "metadata": {
        "id": "Ps2p9Pz0B4ZG"
      },
      "source": [
        "# Clase 15: Control óptimo\n",
        "\n",
        "Vamos a hacer algunos ejercicios de ejemplo de la [guía 7](https://campus.fi.uba.ar/pluginfile.php/385190/mod_resource/content/9/guia7.pdf). Entraremos en detalles sobre los conceptos a partir de los ejercicios sin mucha introducción al tema por lo que deberías haber mirado la [clase teórica](https://campus.fi.uba.ar/mod/url/view.php?id=170346).\n",
        "\n",
        "## Ejercicio 2\n",
        "\n",
        "Para el siguiente sistema discreto:\n",
        "\n",
        "$$\n",
        "    x_{k+1} = \\left[\\begin{matrix}0 & 1\\\\-1 & 1\\end{matrix}\\right] x_{k} + \\left[\\begin{matrix}0\\\\ 1\\end{matrix}\\right] u_{k}\\\\\n",
        "        x_0 = \\left[\\begin{matrix}1 \\\\1\\end{matrix}\\right]\n",
        "$$\n",
        "\n",
        "determinar el control por realimentación de estados que minimiza el criterio:\n",
        "\n",
        "$$\n",
        "    J = \\frac{1}{2} \\sum^{\\infty}_{i=1} \\left[ (x_{i1})^2 + u_{i}^2\\right]\n",
        "$$"
      ]
    },
    {
      "cell_type": "code",
      "metadata": {
        "id": "nTCfgLKHmx8T"
      },
      "source": [
        "# Bibliotecas necesarias y funciones auxiliares\n",
        "!pip install slycot\n",
        "!pip install control\n",
        "import control as ctrl\n",
        "import numpy as np\n",
        "import scipy as sp\n",
        "import matplotlib.pyplot as plt\n",
        "\n",
        "\n",
        "def zplane_plot(eigvals, title='Plano Z - Autovalores'):\n",
        "    \"\"\"Grafica autovalores en el plano complejo Z y el circulo unitario de referencia.\"\"\"\n",
        "    fig, axes = plt.figure(), plt.gca()\n",
        "    unit_circle = plt.Circle([0, 0], radius=1, linestyle='--', fill=False)\n",
        "    axes.add_artist(unit_circle)\n",
        "    axes.plot(np.real(eigvals), np.imag(eigvals), 'x')\n",
        "    plt.xlim((-1.5, 1.5))\n",
        "    plt.ylim((-1.5, 1.5))\n",
        "    plt.title(title)\n",
        "    plt.ylabel(r'$\\mathscr{Im}(\\lambda)$')\n",
        "    plt.xlabel(r'$\\mathscr{Re}(\\lambda)$')\n",
        "    plt.grid()\n",
        "    plt.show()"
      ],
      "execution_count": null,
      "outputs": []
    },
    {
      "cell_type": "markdown",
      "metadata": {
        "id": "BvF_LYQ4qGl5"
      },
      "source": [
        "Tenemos entonces que minimizar el criterio, que deberemos traducir a la forma:\n",
        "\n",
        "$$\n",
        "    J = \\frac{1}{2} \\sum^{\\infty}_{i=1} \\left[ x_i^T Q x_i+ u_i^T R u_i\\right]\n",
        "$$\n",
        "\n",
        "Para extraer las formas cuadráticas que manifiestan los pesos adoptados para el criterio de optimalidad. En este caso serían:\n",
        "\n",
        "$$\n",
        "Q =  \\begin{bmatrix} 1 & 0\\\\ 0 & 0\\end{bmatrix}\n",
        "$$\n",
        "\n",
        "y\n",
        "\n",
        "$$ R = 1 $$\n",
        "\n",
        "Esto quiere decir, que estamos ponderando la velocidad de respuesta de la variable de estado $x_{i1}$ y dandole el mismo peso a la acción de control.\n",
        "\n",
        "Para el control LQR, necesitamos encontrar los $K_i$ que en $i \\to \\infty$ minimizan dicho criterio. Esto sale de resolver la ecuación algebráica de Riccati:\n",
        "\n",
        "$$\n",
        "S = A^T S A - A^T S B \\left( R + B^T S B \\right)^{-1} B^T S A + Q\n",
        "$$\n",
        "\n",
        "Para luego reemplazar en:\n",
        "\n",
        "$$\n",
        "K = -\\left( R + B^T S B\\right)^{-1} B^T S A\n",
        "$$\n",
        "\n",
        "Ingresemos los datos y aprovechemos las funciones de la biblioteca de control:"
      ]
    },
    {
      "cell_type": "code",
      "metadata": {
        "id": "et9U7d1AvrOI",
        "colab": {
          "base_uri": "https://localhost:8080/",
          "height": 697
        },
        "outputId": "3ca1425b-c923-41e7-c801-cdfcd64b2042"
      },
      "source": [
        "# Definición del sistema\n",
        "A = [[0, 1], [-1, -1]]\n",
        "B = [[0], [1]]\n",
        "C = [[1, 0]] # El problema no indica la salida, supongamos que es x_1\n",
        "D = [0]\n",
        "x0 = [1, 1]\n",
        "# Como T_s no se indica, asumiremos 1\n",
        "Ts = 1\n",
        "\n",
        "sys = ctrl.ss(A, B, C, D, Ts)\n",
        "print('El sistema a controlar es:\\n', sys)\n",
        "\n",
        "# Definiciones para el control:\n",
        "Q = [[1, 0], [0, 0]]\n",
        "R = 1\n",
        "\n",
        "# Análisis del sistema:\n",
        "Cm = ctrl.ctrb(sys.A, sys.B)\n",
        "if (np.linalg.matrix_rank(Cm) == len(sys.A)):\n",
        "  print('Es controlable.')\n",
        "else:\n",
        "  print('No es controlable.')\n",
        "Om = ctrl.obsv(sys.A, sys.C)\n",
        "if (np.linalg.matrix_rank(Om) == len(sys.A)):\n",
        "  print('Es observable.')\n",
        "else:\n",
        "  print('No es observable.')\n",
        "\n",
        "eigvals_openloop = np.linalg.eigvals(sys.A)\n",
        "print('Tiene autovalores a lazo abierto en', np.linalg.eigvals(sys.A), 'sobre el circulo unitario:')\n",
        "\n",
        "zplane_plot(eigvals_openloop)\n",
        "\n",
        "print('Su función transferencia es:', ctrl.tf(sys))"
      ],
      "execution_count": 15,
      "outputs": [
        {
          "output_type": "stream",
          "name": "stdout",
          "text": [
            "El sistema a controlar es:\n",
            " A = [[ 0.  1.]\n",
            "     [-1. -1.]]\n",
            "\n",
            "B = [[0.]\n",
            "     [1.]]\n",
            "\n",
            "C = [[1. 0.]]\n",
            "\n",
            "D = [[0.]]\n",
            "\n",
            "dt = 1\n",
            "\n",
            "Es controlable.\n",
            "Es observable.\n",
            "Tiene autovalores a lazo abierto en [-0.5+0.8660254j -0.5-0.8660254j] sobre el circulo unitario:\n"
          ]
        },
        {
          "output_type": "display_data",
          "data": {
            "image/png": "[encoded data removed]",
            "text/plain": [
              "<Figure size 432x288 with 1 Axes>"
            ]
          },
          "metadata": {
            "needs_background": "light"
          }
        },
        {
          "output_type": "stream",
          "name": "stdout",
          "text": [
            "Su función transferencia es: \n",
            "     1\n",
            "-----------\n",
            "z^2 + z + 1\n",
            "\n",
            "dt = 1\n",
            "\n"
          ]
        }
      ]
    },
    {
      "cell_type": "markdown",
      "metadata": {
        "id": "8jq2X3K2z-cl"
      },
      "source": [
        "Debemos controlar primero las condiciones de la existencia de K. La controlabilidad (estabilizabilidad) del sistema ya la verificamos. Nos queda:\n",
        "\n",
        "$ \\left\\{A, T\\right\\}$ debe ser detectable, con $T^T T = Q$\n",
        "\n",
        "Debido al valor de Q, la factorización es directa:\n",
        "\n",
        "$ T = Q $\n",
        "\n",
        "Evaluamos:"
      ]
    },
    {
      "cell_type": "code",
      "metadata": {
        "id": "NwHRrjEK0tkn",
        "colab": {
          "base_uri": "https://localhost:8080/",
          "height": 0
        },
        "outputId": "135fcdd1-56fa-4719-d058-1efbd607621e"
      },
      "source": [
        "T = sp.linalg.sqrtm(Q)\n",
        "Om = ctrl.obsv(sys.A, T)\n",
        "if (np.linalg.matrix_rank(Om) == len(sys.A)):\n",
        "  print('Es observable.')\n",
        "else:\n",
        "  print('No es observable.')"
      ],
      "execution_count": 16,
      "outputs": [
        {
          "output_type": "stream",
          "name": "stdout",
          "text": [
            "Es observable.\n"
          ]
        }
      ]
    },
    {
      "cell_type": "markdown",
      "metadata": {
        "id": "NZkkVWxM1gCG"
      },
      "source": [
        "Esto nos habilita a usar los métodos numéricos disponibles para resolver la ecuación de Riccati y luego calcular el $K$. Todo esto lo resuelve directo la función $\\verb|dare()|$"
      ]
    },
    {
      "cell_type": "code",
      "metadata": {
        "id": "TXXertHC1qum",
        "colab": {
          "base_uri": "https://localhost:8080/",
          "height": 333
        },
        "outputId": "7ebfa101-7535-44c3-df51-cf2d9727528b"
      },
      "source": [
        "S, L, K = ctrl.dare(sys.A, sys.B, Q, R)\n",
        "print('Las ganancias del controlador óptimo son:', K)\n",
        "\n",
        "# Debemos cambiarle el signo:\n",
        "\n",
        "K = -K\n",
        "\n",
        "# Definición del sistema a lazo cerrado:\n",
        "\n",
        "sys_lqr = ctrl.ss(sys.A + sys.B @ K, sys.B, sys.C + sys.D @ K, sys.D, Ts)\n",
        "\n",
        "#Y se obtienen los siguientes autovalores a lazo cerrado:\n",
        "\n",
        "# Podría haber usado directo L, devuelta por dare()\n",
        "eigvals_closedloop = np.linalg.eigvals(sys_lqr.A)\n",
        "print('Los autovalores son:', eigvals_closedloop)\n",
        "zplane_plot(eigvals_closedloop)"
      ],
      "execution_count": 17,
      "outputs": [
        {
          "output_type": "stream",
          "name": "stdout",
          "text": [
            "Las ganancias del controlador óptimo son: [[-0.65398566 -0.48586827]]\n",
            "Los autovalores son: [-0.25706586+0.52908551j -0.25706586-0.52908551j]\n"
          ]
        },
        {
          "output_type": "display_data",
          "data": {
            "image/png": "[encoded data removed]",
            "text/plain": [
              "<Figure size 432x288 with 1 Axes>"
            ]
          },
          "metadata": {
            "needs_background": "light"
          }
        }
      ]
    },
    {
      "cell_type": "markdown",
      "metadata": {
        "id": "w9sQHC6c5AYa"
      },
      "source": [
        "Comparamos a continuación la respuesta a las condiciones iniciales indicadas. El controlador LQR diseñado debería presentar una respuesta asintóticamente estable, que no tenía a lazo abierto."
      ]
    },
    {
      "cell_type": "code",
      "metadata": {
        "id": "1dOGz6EM4_O6",
        "colab": {
          "base_uri": "https://localhost:8080/",
          "height": 573
        },
        "outputId": "05840c53-f655-422f-e52b-0597fe4474a2"
      },
      "source": [
        "# Tiempos de simulación\n",
        "t_ini = 0\n",
        "t_final = 10\n",
        "t_step = 1\n",
        "t = np.arange(t_ini, t_final, t_step)\n",
        "\n",
        "# Simulación y análisis de resultados\n",
        "_, yout, xout = ctrl.initial_response(sys, t, X0=x0, return_x=True)\n",
        "plt.plot(t, xout[0,:],'.-', label='$x_1$')\n",
        "plt.plot(t, xout[1,:],'.-', label='$x_2$')\n",
        "plt.legend()\n",
        "plt.title('Respuesta a lazo abierto')\n",
        "plt.xlabel('Tiempo (s)')\n",
        "plt.ylabel('$x$')\n",
        "plt.grid()\n",
        "plt.show()\n",
        "\n",
        "plt.figure()\n",
        "_, yout, xout = ctrl.initial_response(sys_lqr, t, X0=x0, return_x=True)\n",
        "plt.plot(t, xout[0,:],'.-', label='$x_1$')\n",
        "plt.plot(t, xout[1,:],'.-', label='$x_2$')\n",
        "plt.legend()\n",
        "plt.title('Respuesta a lazo cerrado')\n",
        "plt.xlabel('Tiempo (s)')\n",
        "plt.ylabel('$x$')\n",
        "plt.grid()\n",
        "plt.show()"
      ],
      "execution_count": 18,
      "outputs": [
        {
          "output_type": "display_data",
          "data": {
            "image/png": "[encoded data removed]",
            "text/plain": [
              "<Figure size 432x288 with 1 Axes>"
            ]
          },
          "metadata": {
            "needs_background": "light"
          }
        },
        {
          "output_type": "display_data",
          "data": {
            "image/png": "[encoded data removed]",
            "text/plain": [
              "<Figure size 432x288 with 1 Axes>"
            ]
          },
          "metadata": {
            "needs_background": "light"
          }
        }
      ]
    },
    {
      "cell_type": "markdown",
      "metadata": {
        "id": "siMeAk0wB1py"
      },
      "source": [
        "Se observa que el controlador óptimo estabiliza la planta. "
      ]
    },
    {
      "cell_type": "markdown",
      "metadata": {
        "id": "wuCH6EoCmWcm"
      },
      "source": [
        "## Ejercicio 4:\n",
        "\n",
        "Para el sistema doble integrador dado por:\n",
        "\n",
        "$$\n",
        "    \\dot{x} = \\left[\\begin{matrix}0 & 1\\\\0 & 0\\end{matrix}\\right] x + \\left[\\begin{matrix}0\\\\ 1\\end{matrix}\\right] u\\\\\n",
        "        y = C x\n",
        "$$\n",
        "\n",
        "hallar el control que minimiza el siguiente funcional de costo:\n",
        "\n",
        "$$\n",
        "    J = \\int^{\\infty}_{0} \\left( y^Ty + u^Tu \\right) dt\n",
        "$$\n",
        "\n",
        "dadas las matrices: \n",
        "\n",
        "$$\n",
        "    C_1 = \\left[\\begin{matrix}1 & 0\\end{matrix}\\right]\\\\\n",
        "    C_2 = \\left[\\begin{matrix}0 & 1\\end{matrix}\\right]\\\\\n",
        "$$"
      ]
    },
    {
      "cell_type": "markdown",
      "metadata": {
        "id": "G8UgRYYWCjw3"
      },
      "source": [
        "Para el caso en tiempo continuo, debemos llegar a la siguiente función costo:\n",
        "\n",
        "$$\n",
        "    J = \\frac{1}{2} \\int^{\\infty}_{t_0} \\left[ x(t)^T Q x(t)+ u(t)^T R u(t)\\right] d\\tau\n",
        "$$\n",
        "\n",
        "Para extraer las formas cuadráticas que manifiestan los pesos adoptados para el criterio de optimalidad. En este caso, el enunciado nos da una pista, ya que nos pide un funcional en donde solo aparece considerada la salida en lugar del estado vector de estado. Entonces:\n",
        "\n",
        "$$\n",
        "y^T y = \\left(Cx\\right)^T C x = x^T C^T C x = x^T Q x\n",
        "$$\n",
        "\n",
        "por lo que:\n",
        "\n",
        "$$ Q = C^T C $$\n",
        "\n",
        "y\n",
        "\n",
        "$$ R = 1 $$\n",
        "\n",
        "Para el control LQR en tiempo continuo, necesitamos encontrar los $K_i$ que en $t \\to \\infty$ minimizan dicho criterio. Esto sale de resolver la ecuación algebráica de Riccati en tiempo continuo:\n",
        "\n",
        "$$\n",
        "P A + A P + Q - P B R^{-1} B^T P = 0\n",
        "$$\n",
        "\n",
        "Para luego reemplazar en:\n",
        "\n",
        "$$\n",
        "K = - R^{-1} B^T P\n",
        "$$\n",
        "\n",
        "Ingresemos los datos y, al igual que con el caso discreto, veremos de utilizar las funciones de la biblioteca de control:\n"
      ]
    },
    {
      "cell_type": "code",
      "metadata": {
        "id": "Ij5PHYi4Y9xJ",
        "colab": {
          "base_uri": "https://localhost:8080/",
          "height": 0
        },
        "outputId": "bc0c4553-acf4-464e-d475-b776926cfbb6"
      },
      "source": [
        "# Definición del sistema\n",
        "A = [[0, 1], [0, 0]]\n",
        "B = [[0], [1]]\n",
        "C1 = [[1, 0]]\n",
        "C2 = [[0, 1]]\n",
        "D = [0]\n",
        "x0 = [-1, 1]\n",
        "\n",
        "sys = ctrl.ss(A, B, C1, D)\n",
        "print('El sistema a controlar es:\\n', sys)\n",
        "\n",
        "# Definiciones para el control:\n",
        "Q = sys.C.transpose() * sys.C\n",
        "R = 1\n",
        "\n",
        "# Análisis del sistema:\n",
        "Cm = ctrl.ctrb(sys.A, sys.B)\n",
        "if (np.linalg.matrix_rank(Cm) == len(sys.A)):\n",
        "  print('Es controlable.')\n",
        "else:\n",
        "  print('No es controlable.')\n",
        "Om1 = ctrl.obsv(sys.A, sys.C)\n",
        "if (np.linalg.matrix_rank(Om1) == len(sys.A)):\n",
        "  print('Para C1 es observable.')\n",
        "else:\n",
        "  print('Para C1 no es observable.')\n",
        "\n",
        "eigvals_openloop = np.linalg.eigvals(sys.A)\n",
        "print('Tiene autovalores a lazo abierto en', np.linalg.eigvals(sys.A))\n",
        "\n",
        "print('Su función transferencia es:', ctrl.tf(sys))"
      ],
      "execution_count": 19,
      "outputs": [
        {
          "output_type": "stream",
          "name": "stdout",
          "text": [
            "El sistema a controlar es:\n",
            " A = [[0. 1.]\n",
            "     [0. 0.]]\n",
            "\n",
            "B = [[0.]\n",
            "     [1.]]\n",
            "\n",
            "C = [[1. 0.]]\n",
            "\n",
            "D = [[0.]]\n",
            "\n",
            "Es controlable.\n",
            "Para C1 es observable.\n",
            "Tiene autovalores a lazo abierto en [0. 0.]\n",
            "Su función transferencia es: \n",
            " 1\n",
            "---\n",
            "s^2\n",
            "\n"
          ]
        }
      ]
    },
    {
      "cell_type": "markdown",
      "metadata": {
        "id": "hZKgTECzcb4d"
      },
      "source": [
        "Al igual que el caso discreto, debemos controlar las condiciones de la existencia de K. La controlabilidad (estabilizabilidad) del sistema ya la verificamos. Verificamos:\n",
        "\n",
        "$ \\left\\{A, T\\right\\}$ debe ser detectable, con $T^T T = Q$\n",
        "\n",
        "Evaluamos:"
      ]
    },
    {
      "cell_type": "code",
      "metadata": {
        "id": "WSP-qhl_dQ8z",
        "colab": {
          "base_uri": "https://localhost:8080/",
          "height": 0
        },
        "outputId": "a8a1f2f9-febf-4026-95e6-8a8759232087"
      },
      "source": [
        "# En general podemos factorizar como: \n",
        "# T = sp.linalg.sqrtm(Q)\n",
        "# En este caso está factorizada:\n",
        "T = sys.C\n",
        "Om = ctrl.obsv(sys.A, T)\n",
        "if (np.linalg.matrix_rank(Om) == len(sys.A)):\n",
        "  print('Es observable.')\n",
        "else:\n",
        "  print('No es observable.')"
      ],
      "execution_count": 20,
      "outputs": [
        {
          "output_type": "stream",
          "name": "stdout",
          "text": [
            "Es observable.\n"
          ]
        }
      ]
    },
    {
      "cell_type": "markdown",
      "metadata": {
        "id": "oFyzMHWWdazS"
      },
      "source": [
        "Podemos resover la ecuación de Riccati y hallar $K$ directo con la función $\\verb|lqr()|$:"
      ]
    },
    {
      "cell_type": "code",
      "metadata": {
        "id": "kxVMISILd5-f",
        "colab": {
          "base_uri": "https://localhost:8080/",
          "height": 0
        },
        "outputId": "2689c52a-79a7-42ec-c415-9fcd2ee58f43"
      },
      "source": [
        "K, S, E = ctrl.lqr(sys, Q, R)\n",
        "print('Las ganancias del controlador óptimo son:', K)\n",
        "\n",
        "# Debemos cambiarle el signo:\n",
        "\n",
        "K = -K\n",
        "\n",
        "# Definición del sistema a lazo cerrado:\n",
        "\n",
        "sys_lqr = ctrl.ss(sys.A+sys.B @ K, sys.B, sys.C + sys.D @ K, sys.D)\n",
        "\n",
        "#Y se obtienen los siguientes autovalores a lazo cerrado:\n",
        "\n",
        "eigvals_closedloop = np.linalg.eigvals(sys_lqr.A)\n",
        "print('Los autovalores son:', eigvals_closedloop)"
      ],
      "execution_count": 21,
      "outputs": [
        {
          "output_type": "stream",
          "name": "stdout",
          "text": [
            "Las ganancias del controlador óptimo son: [[1.         1.41421356]]\n",
            "Los autovalores son: [-0.70710678+0.70710678j -0.70710678-0.70710678j]\n"
          ]
        }
      ]
    },
    {
      "cell_type": "markdown",
      "metadata": {
        "id": "wiv_xG_qd0zY"
      },
      "source": [
        "Comparamos a continuación la respuesta a unas condiciones iniciales supuestas para el sistema a lazo abierto y con el controlador LQR diseñado:"
      ]
    },
    {
      "cell_type": "code",
      "metadata": {
        "id": "7-qlxTf4els8",
        "colab": {
          "base_uri": "https://localhost:8080/",
          "height": 573
        },
        "outputId": "f16a35d5-266b-45f8-986f-f38debe097b9"
      },
      "source": [
        "# Tiempos de simulación\n",
        "t_ini = 0\n",
        "t_final = 10\n",
        "t_step = 0.001\n",
        "t = np.arange(t_ini, t_final, t_step)\n",
        "\n",
        "# Simulación y análisis de resultados\n",
        "_, yout, xout = ctrl.initial_response(sys, t, X0=x0, return_x=True)\n",
        "plt.plot(t, xout[0,:],'.-', label='$x_1$')\n",
        "plt.plot(t, xout[1,:],'.-', label='$x_2$')\n",
        "plt.legend()\n",
        "plt.title('Respuesta a lazo abierto')\n",
        "plt.xlabel('Tiempo (s)')\n",
        "plt.ylabel('$x$')\n",
        "plt.grid()\n",
        "plt.show()\n",
        "\n",
        "plt.figure()\n",
        "_, yout, xout = ctrl.initial_response(sys_lqr, t, X0=x0, return_x=True)\n",
        "plt.plot(t, xout[0,:],'.-', label='$x_1$')\n",
        "plt.plot(t, xout[1,:],'.-', label='$x_2$')\n",
        "plt.legend()\n",
        "plt.title('Respuesta a lazo cerrado')\n",
        "plt.xlabel('Tiempo (s)')\n",
        "plt.ylabel('$x$')\n",
        "plt.grid()\n",
        "plt.show()\n"
      ],
      "execution_count": 28,
      "outputs": [
        {
          "output_type": "display_data",
          "data": {
            "image/png": "[encoded data removed]",
            "text/plain": [
              "<Figure size 432x288 with 1 Axes>"
            ]
          },
          "metadata": {
            "needs_background": "light"
          }
        },
        {
          "output_type": "display_data",
          "data": {
            "image/png": "[encoded data removed]",
            "text/plain": [
              "<Figure size 432x288 with 1 Axes>"
            ]
          },
          "metadata": {
            "needs_background": "light"
          }
        }
      ]
    },
    {
      "cell_type": "markdown",
      "metadata": {
        "id": "x3ROQcE2e58H"
      },
      "source": [
        "En el primer gráfico se ve la respuesta a condiciones iniciales del integrador doble, en donde la variable de estado $x_2$ crece indefinidamente. En cambio, se observa que el controlador óptimo estabiliza la planta y hace que ambas variables de estado terminen en 0.\n",
        "."
      ]
    },
    {
      "cell_type": "markdown",
      "metadata": {
        "id": "i0hIxrHyMvT9"
      },
      "source": [
        "## Tarea: \n",
        "\n",
        "Resolver el ejercicio para el caso de $C_2$. Explicar. **Pista:** leer sección 11.1.3 del libro de Bay."
      ]
    },
    {
      "cell_type": "code",
      "source": [
        "sys_ = ctrl.ss(A, B, C2, D)\n",
        "print('El sistema a controlar es:\\n', sys)\n",
        "\n",
        "# Definiciones para el control:\n",
        "Q_ = sys_.C.transpose() * sys_.C\n",
        "R_ = 1\n",
        "\n",
        "# Análisis del sistema:\n",
        "Cm_ = ctrl.ctrb(sys_.A, sys_.B)\n",
        "if (np.linalg.matrix_rank(Cm_) == len(sys_.A)):\n",
        "  print('Es controlable.')\n",
        "else:\n",
        "  print('No es controlable.')\n",
        "Om1_ = ctrl.obsv(sys_.A, sys_.C)\n",
        "if (np.linalg.matrix_rank(Om1_) == len(sys_.A)):\n",
        "  print('Para C2 es observable.')\n",
        "else:\n",
        "  print('Para C2 no es observable.')\n",
        "\n",
        "eigvals_openloop_ = np.linalg.eigvals(sys_.A)\n",
        "print('Tiene autovalores a lazo abierto en', np.linalg.eigvals(sys_.A))\n",
        "\n",
        "print('Su función transferencia es:', ctrl.tf(sys))"
      ],
      "metadata": {
        "colab": {
          "base_uri": "https://localhost:8080/",
          "height": 0
        },
        "id": "vc5HQRSILNNG",
        "outputId": "0c55f4b6-0c24-4482-abaf-d0b38e9a1920"
      },
      "execution_count": 23,
      "outputs": [
        {
          "output_type": "stream",
          "name": "stdout",
          "text": [
            "El sistema a controlar es:\n",
            " A = [[0. 1.]\n",
            "     [0. 0.]]\n",
            "\n",
            "B = [[0.]\n",
            "     [1.]]\n",
            "\n",
            "C = [[1. 0.]]\n",
            "\n",
            "D = [[0.]]\n",
            "\n",
            "Es controlable.\n",
            "Para C2 no es observable.\n",
            "Tiene autovalores a lazo abierto en [0. 0.]\n",
            "Su función transferencia es: \n",
            " 1\n",
            "---\n",
            "s^2\n",
            "\n"
          ]
        }
      ]
    },
    {
      "cell_type": "markdown",
      "source": [
        " Debemos volver a controlar las condiciones de la existencia de K. La controlabilidad (estabilizabilidad) del sistema ya la verificamos. Verificamos:\n",
        "\n",
        "$ \\left\\{A, T\\right\\}$ debe ser detectable, con $T^T T = Q$\n",
        "\n",
        "Evaluamos:"
      ],
      "metadata": {
        "id": "BPgPr5aeM63D"
      }
    },
    {
      "cell_type": "code",
      "source": [
        "# En general podemos factorizar como: \n",
        "# T = sp.linalg.sqrtm(Q)\n",
        "# En este caso está factorizada:\n",
        "T_ = sys_.C\n",
        "Om_ = ctrl.obsv(sys_.A, T_)\n",
        "if (np.linalg.matrix_rank(Om_) == len(sys_.A)):\n",
        "  print('Es observable.')\n",
        "else:\n",
        "  print('No es observable.')"
      ],
      "metadata": {
        "colab": {
          "base_uri": "https://localhost:8080/",
          "height": 0
        },
        "id": "ySq3F4lvNXpQ",
        "outputId": "262686a0-3e01-434a-d9f4-d9af1c6df80e"
      },
      "execution_count": 24,
      "outputs": [
        {
          "output_type": "stream",
          "name": "stdout",
          "text": [
            "No es observable.\n"
          ]
        }
      ]
    },
    {
      "cell_type": "markdown",
      "source": [
        "No es observable, no existe solucion unica, pero esto no nos impide hallar algun controlador optimo.\n",
        "\n",
        "Podemos resolver la ecuación de Riccati resolviendolo analiticamente.\n",
        "\n",
        "$$\n",
        "0= A^T P + PA + C^T C - P B R^1 B^T P\n",
        "$$\n",
        "\n",
        "Con P en forma generica:\n",
        "\n",
        "$$\n",
        "P= \\begin{bmatrix} P_{11} & P_{12} \\\\ P_{12} & P_{22}\\end{bmatrix}\n",
        "$$\n",
        "Reemplazando P en la ecuacion.\n",
        "$$\n",
        "    \\begin{bmatrix} 0 & 0 \\\\ 0 & 0\\end{bmatrix} =\n",
        "     \\left[\\begin{matrix}\n",
        "            -P_{12}^2    &       P_{11} - P_{12}P_{22} \\\\\n",
        "          P_{11} - P_{12}P_{22}  & - P_{22}^2 + 2.P_{12} + 1\n",
        "    \\end{matrix}\\right]\n",
        "$$\n",
        "\n",
        "entonces: \n",
        "\n",
        "$P_{12}=P_{11}= 0$ y $ - P_{22}^2 + 1=0$ con raices en $P_{22}= \\pm 1$.\n",
        "\n",
        "solo es definida positiva con $P_{22}= 1$.\n",
        "\n",
        "Entonces con este P encontrado se puede encontrar una constante de realimentacion K que sea optimo.\n",
        "\n",
        "segun el libro de **John Bay**:\n",
        "\n",
        " \"Al pedir que el sistema sea estabilizable, estamos garantizando que existe una retroalimentación K que lleva el estado x (t) asintóticamente a cero y da un costo finito\n",
        "\n",
        " Este hecho por sí solo no garantiza que el sistema sea estable si J converge [...].\n",
        " \n",
        " Para esa garantía necesitamos la otra condición, es decir, detectabilidad.\"\n",
        "\n",
        " Entonces con tener un sistema estabilizable y no detectable solo se puede decir que existe algun K que lleve a los estados asintoticamente a cero, pero no se puede garantizar! para ello se necesita a detectabilidad la cual en esta ocacion no se cumple.\n",
        "\n",
        " Entonces veamos como nos queda.\n",
        "\n"
      ],
      "metadata": {
        "id": "r9guVAqWNnrk"
      }
    },
    {
      "cell_type": "code",
      "source": [
        "from operator import invert\n",
        "P=  [[0, 0], [0, 1]]\n",
        "\n",
        "K_= -R_ * sys_.B.transpose() @ P\n",
        "print('Las ganancias del controlador óptimo son:', K_)\n",
        "\n",
        "# Definición del sistema a lazo cerrado:\n",
        "\n",
        "sys_lqr_ = ctrl.ss(sys_.A+sys_.B @ K_, sys_.B, sys_.C + sys_.D @ K_, sys_.D)\n",
        "\n",
        "#Y se obtienen los siguientes autovalores a lazo cerrado:\n",
        "\n",
        "eigvals_closedloop_ = np.linalg.eigvals(sys_lqr_.A)\n",
        "print('Los autovalores son:', eigvals_closedloop_)\n"
      ],
      "metadata": {
        "colab": {
          "base_uri": "https://localhost:8080/",
          "height": 0
        },
        "id": "lBJKtnRDNwrD",
        "outputId": "a23f6a84-3554-4003-d6ac-fc3eeed3844a"
      },
      "execution_count": 25,
      "outputs": [
        {
          "output_type": "stream",
          "name": "stdout",
          "text": [
            "Las ganancias del controlador óptimo son: [[ 0. -1.]]\n",
            "Los autovalores son: [ 0. -1.]\n"
          ]
        }
      ]
    },
    {
      "cell_type": "markdown",
      "source": [
        "Se ve que de verdad existe un **K**  y hay un autovalor estable por lo que se tendra que $x_1$ si convergera a cero pero no necesariamente lo hará $x_2$"
      ],
      "metadata": {
        "id": "FO79aehmYdCZ"
      }
    },
    {
      "cell_type": "code",
      "source": [
        "x0_ = [-10, 2]\n",
        "\n",
        "# Simulación y análisis de resultados\n",
        "_, yout_, xout_ = ctrl.initial_response(sys_, t, X0=x0_, return_x=True)\n",
        "plt.plot(t, xout_[0,:],'r.-', label='$x_1$')\n",
        "plt.plot(t, xout_[1,:],'b.-', label='$x_2$')\n",
        "plt.legend()\n",
        "plt.title('Respuesta a lazo abierto')\n",
        "plt.xlabel('Tiempo (s)')\n",
        "plt.ylabel('$x$')\n",
        "plt.grid()\n",
        "plt.show()\n",
        "\n",
        "\n",
        "plt.figure()\n",
        "_, yout_, xout_ = ctrl.initial_response(sys_lqr_, t, X0=x0, return_x=True)\n",
        "_, yout2_, xout2_ = ctrl.initial_response(sys_lqr_, t, X0=x0_, return_x=True)\n",
        "fig, ((ax1, ax2)) = plt.subplots(1, 2, figsize=(18,7))\n",
        "\n",
        "fig.suptitle('Respuesta a lazo cerrado')\n",
        "ax1.plot(t, xout_[0,:],'r.-', label='$x_1$')\n",
        "ax1.plot(t, xout_[1,:],'b.-', label='$x_2$')\n",
        "ax1.set_title(\"Lazo cerrado: $x_0= [-1, 1]$\")\n",
        "#plt.legend()\n",
        "ax2.plot(t, xout2_[0,:],'r.-', label='$x_1$')\n",
        "ax2.plot(t, xout2_[1,:],'b.-', label='$x_2$')\n",
        "ax2.set_title(\"Lazo cerrado: $x_0= [-10, 2]$\")\n",
        "\n",
        "ax1.set(xlabel='Tiempo(s)', ylabel= '$x$')\n",
        "ax2.set(xlabel='Tiempo(s)', ylabel= '$x$')\n",
        "plt.legend(loc='upper left',framealpha=1,  frameon=True)\n",
        "plt.show()\n",
        "fig.tight_layout()"
      ],
      "metadata": {
        "colab": {
          "base_uri": "https://localhost:8080/",
          "height": 788
        },
        "id": "wsgQLnuVdaDk",
        "outputId": "328bca91-3026-4055-e6ed-b684eeebddd8"
      },
      "execution_count": 26,
      "outputs": [
        {
          "output_type": "display_data",
          "data": {
            "image/png": "[encoded data removed]",
            "text/plain": [
              "<Figure size 432x288 with 1 Axes>"
            ]
          },
          "metadata": {
            "needs_background": "light"
          }
        },
        {
          "output_type": "display_data",
          "data": {
            "text/plain": [
              "<Figure size 432x288 with 0 Axes>"
            ]
          },
          "metadata": {}
        },
        {
          "output_type": "display_data",
          "data": {
            "image/png": "[encoded data removed]",
            "text/plain": [
              "<Figure size 1296x504 with 2 Axes>"
            ]
          },
          "metadata": {
            "needs_background": "light"
          }
        }
      ]
    },
    {
      "cell_type": "markdown",
      "source": [
        "Se observa como con las condiciones iniciales antes usadas pareciera ser que el lazo es asintiticamente estable.\n",
        "\n",
        "Pero ya cambiando las condiciones iniciales se ve que claramente no es asi, y que solo fue un efecto de la condicion inicial."
      ],
      "metadata": {
        "id": "X-0vtXXrltfz"
      }
    }
  ]
}