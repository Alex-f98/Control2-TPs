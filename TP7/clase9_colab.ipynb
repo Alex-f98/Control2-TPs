{
  "nbformat": 4,
  "nbformat_minor": 0,
  "metadata": {
    "colab": {
      "name": "clase9_colab.ipynb",
      "provenance": [],
      "collapsed_sections": []
    },
    "kernelspec": {
      "display_name": "control_venv",
      "language": "python",
      "name": "control_venv"
    },
    "language_info": {
      "codemirror_mode": {
        "name": "ipython",
        "version": 3
      },
      "file_extension": ".py",
      "mimetype": "text/x-python",
      "name": "python",
      "nbconvert_exporter": "python",
      "pygments_lexer": "ipython3",
      "version": "3.5.3"
    }
  },
  "cells": [
    {
      "cell_type": "markdown",
      "metadata": {
        "id": "dwuph7vz5DYJ"
      },
      "source": [
        "##Alumno: Brian Alex Fuentes Acuña.\n",
        "##Padrón: 101785."
      ]
    },
    {
      "cell_type": "markdown",
      "metadata": {
        "id": "38xCIGHD_k-1"
      },
      "source": [
        "## Clase 9: Gramianos de controlabilidad y observabilidad\n",
        "\n",
        "Los tests de controlabilidad y observabilidad nos alcanzan para confirmar si un sistema es controlable y observable. Sin embargo, no nos indican qué tan fácil es controlar u observar el sistema. Para esto podemos utilizar los gramianos, y para más adelante tener como herramienta para establecer reducciones de órden de modelos con ese criterio.\n",
        "\n",
        "Dado un sistema LTI MIMO tal que:\n",
        "\n",
        "$$ \\dot{x} = A x + B u $$\n",
        "\n",
        "El gramiano de controlabilidad es:\n",
        "\n",
        "$$ G_C(t_0, t_1) = \\int_{t_0}^{t_1} e^{A\\left(t_0 - \\tau\\right)}B B^T e^{A^T \\left(t_0 - \\tau\\right)} d\\tau$$ \n",
        "\n",
        "Que es una matriz simétrica y semidefinida positiva. Decimos que:\n",
        "\n",
        "El sistema dado es controlable en el intervalo $[t_0, t_1]$ si y solo si:\n",
        "\n",
        "$$ |G_C(t_0, t_1)| \\neq 0  \\, \\forall t \\in [t_0, t_1]$$ \n",
        "\n",
        "Si este sistema tiene ecuación de salida dada por:\n",
        "\n",
        "$$ y = C x + D u $$\n",
        "\n",
        "El gramiano de observabilidad es:\n",
        "\n",
        "$$ G_O(t_0, t_1) = \\int_{t_0}^{t_1} e^{A^T \\left(\\tau - t_0\\right)}C^T C e^{A\\left(\\tau - t_0\\right)} d\\tau$$ \n",
        "\n",
        "Que es una matriz simétrica y semidefinida positiva. Decimos que:\n",
        "\n",
        "El sistema dado es observable en el intervalo $[t_0, t_1]$ si y solo si:\n",
        "\n",
        "$$ |G_O(t_0, t_1)| \\neq 0  \\, \\forall t \\in [t_0, t_1]$$ \n",
        "\n",
        "Volvamos al ejercicio resuelto la clase pasada y repitamos aplicando el gramiano de controlabilidad:\n",
        "\n",
        "**Ejercicio 7:**\n",
        "\n",
        "<figure>\n",
        "<center>\n",
        "<img src='https://drive.google.com/uc?id=1AWb_mm--HrIPDPQ-4vGigO235uCuOYxG'/>\n",
        "<figcaption> Ejercicio 7 </figcaption></center>\n",
        "</figure>\n",
        "\n",
        "Su ecuación de estado era:\n",
        "\n",
        "$$ \\begin{bmatrix}\\dot{v_1} \\\\ \\dot{v_2} \\end{bmatrix} = \\begin{bmatrix}-\\frac{1}{R_1 C_1} & 0 \\\\ 0 & -\\frac{1}{R_2 C_2} \\end{bmatrix}\\begin{bmatrix}v_1 \\\\ v_2 \\end{bmatrix}+ \\begin{bmatrix}\\frac{1}{R_1 C_1} \\\\ \\frac{1}{R_2 C_2} \\end{bmatrix} v(t) $$\n",
        "\n",
        "y la de salida:\n",
        "\n",
        "$$ y = \\begin{bmatrix}1 & 1\\end{bmatrix} \\begin{bmatrix}v_1 \\\\ v_2 \\end{bmatrix}$$ \n",
        "\n",
        "Tomemos algunos valores numéricos para particularizar el cálculo:\n",
        "\n",
        "* $R_1 = 950\\Omega$  \n",
        "* $R_2 = 1{,}05~\\text{k}\\Omega$  \n",
        "* $C_1 = 1{,}1~\\mu\\text{F}$  \n",
        "* $C_2 = 1~\\mu\\text{F}$\n",
        "\n",
        "Dado que $t_0 = 0$ s y $t_1 = t$, el gramiano de controlabilidad queda:\n",
        "\n",
        "$$ G_C(t) = \\int_0^t e^{-A\\tau}B B^T e^{-A^T\\tau} d\\tau$$ \n",
        "\n",
        "Empezamos utizando el test de controlabilidad que ya conocemos:"
      ]
    },
    {
      "cell_type": "code",
      "metadata": {
        "id": "pPgHAgqO_k-2"
      },
      "source": [
        "!pip install slycot\n",
        "!pip install control==0.8.4 # Some functions not working with 0.9.0\n",
        "import numpy as np\n",
        "import control as ctrl\n",
        "import scipy as sp\n",
        "import sympy as symb\n",
        "import matplotlib.pyplot as plt\n",
        "\n",
        "R1 = 950\n",
        "R2 = 1050\n",
        "C1 = 1.1e-6\n",
        "C2 = 1e-6\n",
        "A = np.array([[-1/R1/C1, 0], [0, -1/R2/C2]])\n",
        "B = np.array([[1/R1/C1], [1/R2/C2]])\n",
        "C = np.array([1, 1])\n",
        "D = 0\n",
        "t_final = 0.01\n",
        "\n",
        "sys = ctrl.StateSpace(A, B, C, D)\n",
        "\n",
        "P = ctrl.ctrb(A, B)\n",
        "print('\\n P =')\n",
        "print(P)\n",
        "\n",
        "print('El rango de P es', np.linalg.matrix_rank(P), 'entonces es controlable')\n"
      ],
      "execution_count": null,
      "outputs": []
    },
    {
      "cell_type": "markdown",
      "metadata": {
        "id": "0bpRyJEGijoW"
      },
      "source": [
        "Nos dice que el sistema es controlable. Evaluemos ahora el gramiano de controlabilidad para $t_1 = 0{,}01$.\n",
        "\n",
        "La cuenta da:\n",
        "\n",
        "$$ G_C(t) = \\begin{bmatrix}\\frac{e^{\\left(\\frac{2 t}{R_1 C_1} \\right)} - 1}{2 R_1 C_1} & \\frac{e^{\\left[t \\left(\\frac{1}{R_1 C_1}+\\frac{1}{R_2 C_2}\\right)\\right]} - 1}{R_1 C_1 + R_2 C_2} \\\\ \\frac{e^{\\left[t \\left(\\frac{1}{R_1 C_1}+\\frac{1}{R_2 C_2}\\right)\\right]} - 1}{R_1 C_1 + R_2 C_2} & \\frac{e^{\\left(\\frac{2 t}{R_2 C_2}\\right)} - 1}{2 R_2 C_2} \\end{bmatrix} $$\n",
        "\n",
        "**Ejercicio** Llegar a la expresión anterior a partir de la integral dada y la definición del sistema.\n",
        "\n",
        "**RTA:**\n",
        "\n",
        "$$\n",
        "BB^T=\n",
        "\\begin{bmatrix}\n",
        "\\frac{1}{R_1^2C_1^2} & \\frac{1}{R_1C_1R_2C_2}\\\\\n",
        "\\frac{1}{R_1C_1R_2C_2} & \\frac{1}{R_2^2C_2^2}\n",
        "\\end{bmatrix}\n",
        "$$\n",
        "<!---->\n",
        "$$\\tau= t_0 - t$$\n",
        "$$\n",
        "G_C(t_1)=\n",
        "\\int_{t_0}^{t_1}\n",
        "\\begin{bmatrix}\n",
        "e^{\\frac{-\\tau}{R_1C_1}}&0\\\\\n",
        "0&e^{\\frac{-\\tau}{R_2C_2}}\n",
        "\\end{bmatrix}\n",
        "\\begin{bmatrix}\n",
        "\\frac{1}{R_1^2C_1^2} & \\frac{1}{R_1C_1R_2C_2}\\\\\n",
        "\\frac{1}{R_1C_1R_2C_2} & \\frac{1}{R_2^2C_2^2}\n",
        "\\end{bmatrix}\n",
        "\\begin{bmatrix}\n",
        "e^{\\frac{-\\tau}{R_1C_1}}&0\\\\\n",
        "0&e^{\\frac{-\\tau}{R_2C_2}}\n",
        "\\end{bmatrix}\n",
        "d\\tau\n",
        "$$\n",
        "\n",
        "$$=\n",
        "\\int_{t_0}^{t_1}\n",
        "\\begin{bmatrix}\n",
        "\\frac{e^{\\frac{-\\tau}{R_1C_1}}}{R_1^2C_1^2} & \\frac{e^{\\frac{-\\tau}{R_1C_1}}}{R_1C_1R_2C_2}\\\\\n",
        "\\frac{e^{\\frac{-\\tau}{R_2C_2}}}{R_1C_1R_2C_2} & \\frac{e^{\\frac{-\\tau}{R_2C_2}}}{R_2^2C_2^2} \n",
        "\\end{bmatrix}\n",
        "\\begin{bmatrix}\n",
        "e^{\\frac{-\\tau}{R_1C_1}}&0\\\\\n",
        "0&e^{\\frac{-\\tau}{R_2C_2}}\n",
        "\\end{bmatrix}\n",
        "d\\tau\n",
        "$$\n",
        "\n",
        "$$=\n",
        "\\int_{t_0= 0}^{t_1= t_1}\n",
        "\\begin{bmatrix}\n",
        "\\frac{e^{\\frac{-2\\tau}{R_1C_1}}}{R_1^2C_1^2} & \\frac{e^{\\frac{-\\tau}{R_1C_1} + \\frac{-\\tau}{R_2C_2}}}{R_1C_1 + R_2C_2}\\\\\n",
        "\\frac{e^{\\frac{-\\tau}{R_1C_1} + \\frac{-\\tau}{R_2C_2}}}{R_1C_1R_2C_2}  & \\frac{e^{\\frac{-2\\tau}{R_2C_2}}}{R_2^2C_2^2}\n",
        "\\end{bmatrix}\n",
        "d\\tau\n",
        "$$\n",
        "Finalmente queda reemplazando el $\\tau$ y los $t_1$ y $t_0$:\n",
        "$$\n",
        "G_C(t_1)=\n",
        "\\begin{bmatrix}\n",
        "\\frac{e^{\\frac{2t_1}{R_1C_1}} - 1}{2R_1C_1} & \\frac{e^{t_1(\\frac{1}{R_1C_1} + \\frac{1}{R_2C_2})} - 1}{R_1C_1 + R_2C_2}\\\\\n",
        "\\frac{e^{t_1(\\frac{1}{R_1C_1} + \\frac{1}{R_2C_2})} - 1}{R_1C_1 + R_2C_2}  & \\frac{e^{\\frac{2t_1}{R_2C_2}} - 1}{2R_2C_2}\n",
        "\\end{bmatrix}\n",
        "$$\n",
        "\n",
        "---\n",
        "A continuación, evaluamos en $t_1$ en base a la expresión hallada y verificamos que el determinante sea no nulo:"
      ]
    },
    {
      "cell_type": "code",
      "metadata": {
        "colab": {
          "base_uri": "https://localhost:8080/"
        },
        "id": "OxKj277-5afj",
        "outputId": "2161c808-7268-47df-c0b1-ba5578848c84"
      },
      "source": [
        "def mi_gramianoC(t_f): \n",
        "  gc11 = (np.exp(2*t_f/(R1*C1))-1)/(2*R1*C1)\n",
        "  gc22 = (np.exp(2*t_final/(R2*C2))-1)/(2*R2*C2)\n",
        "  gc12 = (np.exp(t_f*(1/(R1*C1)+1/(R2*C2)))-1)/(R1*C1+R2*C2)\n",
        "  gc21 = gc12\n",
        "  Gc = np.matrix([[gc11, gc12],[gc21, gc22]])\n",
        "  print('El determinante de Gc es')\n",
        "  print(np.linalg.det(Gc))\n",
        "  return Gc\n",
        "\n",
        "Gc= mi_gramianoC(t_final)"
      ],
      "execution_count": null,
      "outputs": [
        {
          "output_type": "stream",
          "name": "stdout",
          "text": [
            "El determinante de Gc es\n",
            "4.9812405978168744e+16\n"
          ]
        }
      ]
    },
    {
      "cell_type": "markdown",
      "metadata": {
        "id": "KSQ3Mw8glef5"
      },
      "source": [
        "De la demostración de condición de suficiencia del teorema para el test de controlabilidad con gramiano, se propone una entrada u(t) que nos permite llevar al estado de $x_0 = x(t_0)$ a $x_1 = x(t_1) = 0$ cuyo valor es:\n",
        "\n",
        "$$ u(t) = -B^T e^{A^T (t_0 - t)} G_C^{-1}(t_0, t_1) x_0 $$\n",
        "\n",
        "Calculemos entonces para nuestro circuito, cuál es la entrada que nos permite llevar de:\n",
        "\n",
        "* $v_1(0) = 10$ V, \n",
        "* $v_2(0) = -3$ V \n",
        "\n",
        "a \n",
        "\n",
        "* $v_1(0{,}01) = 0$ V, \n",
        "* $v_2(0,01) = 0$ V.\n",
        "\n",
        "Es decir:\n",
        "\n",
        "$$ u(t) = -B^T e^{-t A^T} G_C^{-1}(0, 0.01) \\begin{bmatrix} 10\\\\ -3\\end{bmatrix} $$\n",
        "\n",
        "Simulemos el sistema con dicha entrada para validar que cumple el objetivo propuesto."
      ]
    },
    {
      "cell_type": "code",
      "metadata": {
        "colab": {
          "base_uri": "https://localhost:8080/",
          "height": 541
        },
        "id": "OquUvpYH-90z",
        "outputId": "65188922-fe29-4c4a-b133-c49f0b854e4c"
      },
      "source": [
        "x0 = np.array([[10], [-3]])\n",
        "\n",
        "def u_to_origin(tiempo, Gc):\n",
        "    u = -B.transpose() @ sp.linalg.expm(-tiempo*A) @ np.linalg.inv(Gc) @ x0\n",
        "    return u.item()\n",
        "\n",
        "t_inicial = 0\n",
        "paso_tiempo = t_final/10000  # Ajustar este tiempo\n",
        "tiempo = np.arange(t_inicial, t_final, paso_tiempo)\n",
        "u = np.array([u_to_origin(t, Gc) for t in tiempo])\n",
        "\n",
        "tout, yout, xout = ctrl.forced_response(sys, tiempo, u, X0=[10, -3])\n",
        "\n",
        "def graficos(t, xvect, u):  \n",
        "  plt.plot(tout, xvect[0], label='v1(t)')\n",
        "  plt.plot(tout, xvect[1], label='v2(t)')\n",
        "  plt.xlabel('Tiempo (s)')\n",
        "  plt.ylabel('Tensión (V)')\n",
        "  plt.legend(loc='best')\n",
        "  plt.grid()\n",
        "  plt.show()\n",
        "  plt.figure()\n",
        "  plt.plot(tout, u, label='u(t)')\n",
        "  plt.xlabel('Tiempo (s)')\n",
        "  plt.ylabel('Tensión de entrada (V)')\n",
        "  plt.legend()\n",
        "  plt.grid()\n",
        "  plt.show() \n",
        "\n",
        "graficos(tout, xout, u)\n"
      ],
      "execution_count": null,
      "outputs": [
        {
          "output_type": "display_data",
          "data": {
            "image/png": "[encoded data removed]",
            "text/plain": [
              "<Figure size 432x288 with 1 Axes>"
            ]
          },
          "metadata": {
            "needs_background": "light"
          }
        },
        {
          "output_type": "display_data",
          "data": {
            "image/png": "[encoded data removed]",
            "text/plain": [
              "<Figure size 432x288 with 1 Axes>"
            ]
          },
          "metadata": {
            "needs_background": "light"
          }
        }
      ]
    },
    {
      "cell_type": "markdown",
      "metadata": {
        "id": "7be0WnNSUUXg"
      },
      "source": [
        "Vemos que se logra el objetivo de alcanzar $x = 0$ en el tiempo especificado con la entrada de control calculada.\n",
        "\n",
        "Podemos utilizar directo la herramienta de simulación para calcular un gramiano del sistema que es equivalente:"
      ]
    },
    {
      "cell_type": "code",
      "metadata": {
        "colab": {
          "base_uri": "https://localhost:8080/"
        },
        "id": "AaZpEslljNtP",
        "outputId": "1b3dae25-6920-4134-a1d9-41c9f102ba6a"
      },
      "source": [
        "Gc = ctrl.gram(sys, 'c')\n",
        "print('Gc =')\n",
        "print(Gc)\n",
        "print('El determinante de Gc es:')\n",
        "print(np.linalg.det(Gc))\n",
        "#El gramiano y por lo tanto su determinante dependen del tiempo especificado\n",
        "# por lo que el el Gc anterior se usa t1 pero en el Gc provisto por gram()\n",
        "# no especificamos ningun tiempo, python usa alguna estimacion numerica por lo\n",
        "# que el gramiano será distinto  y tambien su determinante pero no la conclusion a la que se llega."
      ],
      "execution_count": null,
      "outputs": [
        {
          "output_type": "stream",
          "name": "stdout",
          "text": [
            "Gc =\n",
            "[[478.46889952 477.32696897]\n",
            " [477.32696897 476.19047619]]\n",
            "El determinante de Gc es:\n",
            "1.2977958265440566\n"
          ]
        }
      ]
    },
    {
      "cell_type": "markdown",
      "metadata": {
        "id": "X2l3R8P-rSCH"
      },
      "source": [
        "## Tarea\n",
        "\n",
        "**Ejercicio 1:**\n",
        "\n",
        "*1. Repetir las simulaciones del circuito RC para $t_1 = 0.001$ s.*\n",
        "\n"
      ]
    },
    {
      "cell_type": "code",
      "metadata": {
        "colab": {
          "base_uri": "https://localhost:8080/"
        },
        "id": "_yA3JLJS5K6X",
        "outputId": "922162e0-0600-408b-bdb4-41f3c9003319"
      },
      "source": [
        "#Cambiamos el nuevo tiempo t1.\n",
        "t_final= 0.001 #[seg]\n",
        "#Se evalua el gramiado de controlabilidad en t= t_final.\n",
        "#Para que sea controlable el determinante del gramiano debe ser distinto de cero.\n",
        "def mi_gramianoC(t_f): \n",
        "  gc11 = (np.exp(2*t_f/(R1*C1))-1)/(2*R1*C1)\n",
        "  gc22 = (np.exp(2*t_final/(R2*C2))-1)/(2*R2*C2)\n",
        "  gc12 = (np.exp(t_f*(1/(R1*C1)+1/(R2*C2)))-1)/(R1*C1+R2*C2)\n",
        "  gc21 = gc12\n",
        "  Gc = np.matrix([[gc11, gc12],[gc21, gc22]])\n",
        "  print('El determinante de Gc es')\n",
        "  print(np.linalg.det(Gc))\n",
        "  return Gc\n",
        "\n",
        "Gc= mi_gramianoC(t_final)"
      ],
      "execution_count": null,
      "outputs": [
        {
          "output_type": "stream",
          "name": "stdout",
          "text": [
            "El determinante de Gc es\n",
            "10.957920844389497\n"
          ]
        }
      ]
    },
    {
      "cell_type": "code",
      "metadata": {
        "colab": {
          "base_uri": "https://localhost:8080/",
          "height": 543
        },
        "id": "LfbQQljtCOOx",
        "outputId": "76970d51-58d7-4017-f848-d2ab8f9b1102"
      },
      "source": [
        "#Se calcula la entrada para llevar a el estado final esperado.\n",
        "paso_tiempo = t_final/10000  # Ajustar este tiempo\n",
        "tiempo = np.arange(t_inicial, t_final, paso_tiempo)\n",
        "u = np.array([u_to_origin(t,Gc) for t in tiempo])\n",
        "\n",
        "tout, yout, xout = ctrl.forced_response(sys, tiempo, u, X0=[10, -3])\n",
        "graficos(tout, xout, u)\n"
      ],
      "execution_count": null,
      "outputs": [
        {
          "output_type": "display_data",
          "data": {
            "image/png": "[encoded data removed]",
            "text/plain": [
              "<Figure size 432x288 with 1 Axes>"
            ]
          },
          "metadata": {
            "needs_background": "light"
          }
        },
        {
          "output_type": "display_data",
          "data": {
            "image/png": "[encoded data removed]",
            "text/plain": [
              "<Figure size 432x288 with 1 Axes>"
            ]
          },
          "metadata": {
            "needs_background": "light"
          }
        }
      ]
    },
    {
      "cell_type": "code",
      "metadata": {
        "colab": {
          "base_uri": "https://localhost:8080/"
        },
        "id": "r-RsaDe1M3th",
        "outputId": "18641931-de7a-4e73-cfba-45df5cd7d948"
      },
      "source": [
        "#Se calcula el gramiano del sistema, que es equivalente.\n",
        "Gc = ctrl.gram(sys, 'c')\n",
        "print('Gc =')\n",
        "print(Gc)\n",
        "print('El determinante de Gc es:')\n",
        "print(np.linalg.det(Gc))"
      ],
      "execution_count": null,
      "outputs": [
        {
          "output_type": "stream",
          "name": "stdout",
          "text": [
            "Gc =\n",
            "[[478.46889952 477.32696897]\n",
            " [477.32696897 476.19047619]]\n",
            "El determinante de Gc es:\n",
            "1.2977958265440566\n"
          ]
        }
      ]
    },
    {
      "cell_type": "markdown",
      "metadata": {
        "id": "S8Ck6EGAqn7-"
      },
      "source": [
        "*2. Repetir las simulaciones del circuito RC para $t_1 = 0.1$ s.*\n",
        "\n"
      ]
    },
    {
      "cell_type": "code",
      "metadata": {
        "colab": {
          "base_uri": "https://localhost:8080/"
        },
        "id": "lZb-xZGcNiU1",
        "outputId": "b51795a7-6862-43ea-fcfc-3407c853fbe6"
      },
      "source": [
        "#Cambiamos el nuevo tiempo t1.\n",
        "t_final= 0.1 #[seg]\n",
        "#Se evalua el gramiado de controlabilidad en t= t_final.\n",
        "#Para que sea controlable el determinante del gramiano debe ser distinto de cero.\n",
        "Gc= mi_gramianoC(t_final)"
      ],
      "execution_count": null,
      "outputs": [
        {
          "output_type": "stream",
          "name": "stdout",
          "text": [
            "El determinante de Gc es\n",
            "9.005876000515642e+165\n"
          ]
        }
      ]
    },
    {
      "cell_type": "code",
      "metadata": {
        "colab": {
          "base_uri": "https://localhost:8080/",
          "height": 552
        },
        "id": "yEYYSF6_NmS-",
        "outputId": "60e5c573-53f8-4198-bae0-412b63671a5a"
      },
      "source": [
        "#Se calcula la entrada para llevar a el estado final esperado.\n",
        "paso_tiempo = t_final/10000  # Ajustar este tiempo\n",
        "tiempo = np.arange(t_inicial, t_final, paso_tiempo)\n",
        "u = np.array([u_to_origin(t,Gc) for t in tiempo])\n",
        "\n",
        "tout, yout, xout = ctrl.forced_response(sys, tiempo, u, X0=[10, -3])\n",
        "graficos(tout, xout, u)"
      ],
      "execution_count": null,
      "outputs": [
        {
          "output_type": "display_data",
          "data": {
            "image/png": "[encoded data removed]",
            "text/plain": [
              "<Figure size 432x288 with 1 Axes>"
            ]
          },
          "metadata": {
            "needs_background": "light"
          }
        },
        {
          "output_type": "display_data",
          "data": {
            "image/png": "[encoded data removed]",
            "text/plain": [
              "<Figure size 432x288 with 1 Axes>"
            ]
          },
          "metadata": {
            "needs_background": "light"
          }
        }
      ]
    },
    {
      "cell_type": "code",
      "metadata": {
        "colab": {
          "base_uri": "https://localhost:8080/"
        },
        "id": "coDaxVWyNpIK",
        "outputId": "1b3c1ab6-69cc-4595-fb62-8e5791c44b4d"
      },
      "source": [
        "#Se calcula el gramiano del sistema, que es equivalente.\n",
        "Gc = ctrl.gram(sys, 'c')\n",
        "print('Gc =')\n",
        "print(Gc)\n",
        "print('El determinante de Gc es:')\n",
        "print(np.linalg.det(Gc))"
      ],
      "execution_count": null,
      "outputs": [
        {
          "output_type": "stream",
          "name": "stdout",
          "text": [
            "Gc =\n",
            "[[478.46889952 477.32696897]\n",
            " [477.32696897 476.19047619]]\n",
            "El determinante de Gc es:\n",
            "1.2977958265440566\n"
          ]
        }
      ]
    },
    {
      "cell_type": "markdown",
      "metadata": {
        "id": "IrDIsrlAqqwb"
      },
      "source": [
        "*3. ¿Qué conclusiones podés sacar sobre los puntos 1 y 2? ¿Qué esperarías que pase cuando $t \\to \\infty$?* \n",
        "\n",
        "**RTA:**\n",
        "\n",
        "Observando las respuesta, a medida que aumenta $t_1$ se puede observar que las amplitudes necesarias, para llevar los estados de $x(t_0)=x_0$ a un $x(t_1)=0$, disminuyen considerablemente.\n",
        "\n",
        "Eso quiere decir que a menor tiempo t1 mayor será la energía empleada y a mayor tiempo menor será la energía necesaria para llevarlo a $x(t_1)=0$.\n",
        "\n",
        "Entonces a tiempo $t \\to \\infty$ se necesita muy poca energía para llevarlo a algún $x(t^*)=0$.\n",
        "\n",
        "*Nota 1: Se puede observar los determinantes de los gramianos para comprarlos, dado que en los siguientes temas se concluye que la energía de la entrada u(t) necesaria dependerá de la inversa del gramiano, y este a su vez depende del determinante de este. entonces a mayor valor del determinante, menor la energía empleada \"es más controlable\" y a menor valor de determinante (ósea tendiendo a cero) menos controlable será porque se necesitará más energía*\n",
        "\n",
        "*Nota 2: Como el gramiano depende del tiempo en la expresión del determinante se puede sacar factor común $e^{t_1}$* y se ve a medida que el tiempo aumenta lo hace el determinante haciendo que la energía necesaria para llegar a $x(t_1)=0$ sea menor.\n",
        "\n"
      ]
    },
    {
      "cell_type": "markdown",
      "metadata": {
        "id": "500flkJYqtFC"
      },
      "source": [
        "*4. Calcular el grammiano de observabilidad para $t_1 = 0.01$ s y verificar que es observable. Repetir usando la función gram().*\n",
        "\n",
        "$$\n",
        "BB^T=\n",
        "\\begin{bmatrix}\n",
        "1 & 1\\\\\n",
        "1 & 1\n",
        "\\end{bmatrix}\n",
        "$$\n",
        "<!---->\n",
        "$$\\tau= t_0 - t$$\n",
        "$$\n",
        "G_C(t_1)=\n",
        "\\int_{t_0}^{t_1}\n",
        "\\begin{bmatrix}\n",
        "e^{\\frac{-(t-t_0)}{R_1C_1}}&0\\\\\n",
        "0&e^{\\frac{-(t-t_0)}{R_2C_2}}\n",
        "\\end{bmatrix}\n",
        "\\begin{bmatrix}\n",
        "1 & 1\\\\\n",
        "1 & 1\n",
        "\\end{bmatrix}\n",
        "\\begin{bmatrix}\n",
        "e^{\\frac{-(t-t_0)}{R_1C_1}}&0\\\\\n",
        "0&e^{\\frac{-(t-t_0)}{R_2C_2}}\n",
        "\\end{bmatrix}\n",
        "d\\tau\n",
        "$$\n",
        "\n",
        "$$=\n",
        "\\int_{t_0}^{t_1}\n",
        "\\begin{bmatrix}\n",
        "e^{\\frac{-(t-t_0)}{R_1C_1}}&e^{\\frac{-(t-t_0)}{R_1C_1}}\\\\\n",
        "e^{\\frac{-(t-t_0)}{R_2C_2}}&e^{\\frac{-(t-t_0)}{R_2C_2}}\n",
        "\\end{bmatrix}\n",
        "\\begin{bmatrix}\n",
        "e^{\\frac{-(t-t_0)}{R_1C_1}}&0\\\\\n",
        "0&e^{\\frac{-(t-t_0)}{R_2C_2}}\n",
        "\\end{bmatrix}\n",
        "d\\tau\n",
        "$$\n",
        "\n",
        "$$=\n",
        "\\int_{t_0= 0}^{t_1= t_1}\n",
        "\\begin{bmatrix}\n",
        "e^{\\frac{-2(t-t_0)}{R_1C_1}}&e^{-(t-t_0)(\\frac{1}{R_1C_1} + \\frac{1}{R_2C_2})}\\\\\n",
        "e^{-(t-t_0)(\\frac{1}{R_1C_1} + \\frac{1}{R_2C_2})}&e^{\\frac{-2(t-t_0)}{R_2C_2}}\n",
        "\\end{bmatrix}\n",
        "d\\tau\n",
        "$$\n",
        "Finalmente queda:\n",
        "$$\n",
        "G_C(t_1)=\n",
        "\\begin{bmatrix}\n",
        "\\frac{-R_1C_1}{2}[e^{\\frac{-2t_1}{R_1C_1}} - 1]&\\frac{-R_1C_1R_2C_2}{R_1C_1+R_2C_2}[e^{-t_1(\\frac{1}{R_1C_1} + \\frac{1}{R_2C_2})} - 1]\\\\\n",
        "\\frac{-R_1C_1R_2C_2}{R_1C_1 + R_2C_2}[e^{-t_1(\\frac{1}{R_1C_1} + \\frac{1}{R_2C_2})} - 1]&\\frac{-R_2C_2}{2}[e^{\\frac{-2t_1}{R_2C_2}} - 1]\n",
        "\\end{bmatrix}\n",
        "$$\n",
        "\n",
        "\n"
      ]
    },
    {
      "cell_type": "code",
      "metadata": {
        "colab": {
          "base_uri": "https://localhost:8080/"
        },
        "id": "RzeW0ghL97SH",
        "outputId": "18dcaaa5-5efb-4fe6-e9f2-dab84d2230e0"
      },
      "source": [
        "#Miremos el rango de la matriz de observabilidad, si es rango completo es observable\n",
        "Po = ctrl.obsv(A, C)\n",
        "print('\\n Po =')\n",
        "print(Po)\n",
        "\n",
        "print('El rango de P0 es', np.linalg.matrix_rank(Po), 'entonces es observable')"
      ],
      "execution_count": null,
      "outputs": [
        {
          "output_type": "stream",
          "name": "stdout",
          "text": [
            "\n",
            " Po =\n",
            "[[   1.            1.        ]\n",
            " [-956.93779904 -952.38095238]]\n",
            "El rango de P0 es 2 entonces es observable\n"
          ]
        }
      ]
    },
    {
      "cell_type": "code",
      "metadata": {
        "colab": {
          "base_uri": "https://localhost:8080/"
        },
        "id": "lKkVddiO0n6R",
        "outputId": "bd9e16b2-6908-4a96-a608-52a0349373b9"
      },
      "source": [
        "#Miremos el gramiano\n",
        "t_final= 0.01 #[Seg.]\n",
        "def mi_gramianoO(t_f): \n",
        "  gc11 = (np.exp(-2*t_f/(R1*C1)) - 1) * (-(2*R1*C1)/2)\n",
        "  gc22 = (np.exp(-2*t_f/(R2*C2)) - 1) * (-(2*R2*C2)/2)\n",
        "  gc12 = (np.exp(-t_f*(1/(R1*C1) + 1/(R2*C2))) - 1) * (-(R1*C1*R2*C2) / (R1*C1+R2*C2))\n",
        "  gc21 = gc12\n",
        "  Go = np.matrix([[gc11, gc12],[gc21, gc22]])\n",
        "  print('El determinante de Go es')\n",
        "  print(np.linalg.det(Go))\n",
        "  return Go\n",
        "\n",
        "Go= mi_gramianoC(t_final)\n",
        "print(\"|Go| no es nulo, entonces es observable\")"
      ],
      "execution_count": null,
      "outputs": [
        {
          "output_type": "stream",
          "name": "stdout",
          "text": [
            "El determinante de Gc es\n",
            "4.9812405978168744e+16\n",
            "|Go| no es nulo, entonces es observable\n"
          ]
        }
      ]
    },
    {
      "cell_type": "code",
      "metadata": {
        "colab": {
          "base_uri": "https://localhost:8080/"
        },
        "id": "iR9awbuOw-_B",
        "outputId": "5fc1f40c-a840-4bca-d2f8-f7ad0c4cb419"
      },
      "source": [
        "#Se calcula el gramiano del sistema, que es equivalente.\n",
        "Go = ctrl.gram(sys, 'o')\n",
        "print('Go =')\n",
        "print(Go)\n",
        "print('El determinante de G0 es:')\n",
        "print(np.linalg.det(Go))\n",
        "print(\"|Go| no es nulo, entonces es observable\")\n"
      ],
      "execution_count": null,
      "outputs": [
        {
          "output_type": "stream",
          "name": "stdout",
          "text": [
            "Go =\n",
            "[[0.0005225  0.00052375]\n",
            " [0.00052375 0.000525  ]]\n",
            "El determinante de G0 es:\n",
            "1.5624910999634253e-12\n",
            "|Go| no es nulo, entonces es observable\n"
          ]
        }
      ]
    },
    {
      "cell_type": "markdown",
      "metadata": {
        "id": "paeMFNNGqvav"
      },
      "source": [
        "**Ejercicio 2:** \n",
        "\n",
        "¿Puede detectar si el sistema de las siguientes ecuaciones es controlable u observable sin utilizar el test de controlabilidad y observabilidad? En caso de pérdida de controlabilidad u observabilidad, indique el o los modos que producen esta(s) pérdida(s).\n",
        "\n",
        "$$\n",
        "\\dot{x}(t)  = \\left[\\begin{array}{rrrrrrr}\n",
        "                        2 & 1 & 0 & 0 & 0 & 0 & 0 \\\\\n",
        "                        0 & 2 & 0 & 0 & 0 & 0 & 0 \\\\\n",
        "                        0 & 0 & 2 & 0 & 0 & 0 & 0 \\\\\n",
        "                        0 & 0 & 0 & 2 & 0 & 0 & 0 \\\\\n",
        "                        0 & 0 & 0 & 0 & 3 & 1 & 0 \\\\\n",
        "                        0 & 0 & 0 & 0 & 0 & 3 & 0 \\\\\n",
        "                        0 & 0 & 0 & 0 & 0 & 0 & 3 \\\\\n",
        "                   \\end{array}\\right] x(t) + \\left[\\begin{array}{rrr}\n",
        "                                                        2 & 1 & 0 \\\\\n",
        "                                                        2 & 1 & 1 \\\\\n",
        "                                                        1 & 1 & 1 \\\\\n",
        "                                                        3 & 2 & 1 \\\\\n",
        "                                                        1 & 0 & 0 \\\\\n",
        "                                                        1 & 0 & -1 \\\\\n",
        "                                                        -1 & 0 & 1 \\\\\n",
        "                                                    \\end{array}\\right] u(t) \n",
        "                                                    \\\\\n",
        "y(t) = \\left[\\begin{array}{rrrrrrr}\n",
        "                2 & 2 & 1 & 3 & -1 & 1 & 1 \\\\\n",
        "                1 & 1 & 1 & 2 & 0 & 0 & 0 \\\\\n",
        "                0 & 1 & 1 & 1 & 1 & 1 & 0 \\\\\n",
        "               \\end{array}\\right] x(t)\n",
        "$$\n",
        "\n",
        "Analizar primero y luego verificar por computadora.\n",
        "\n",
        "**RTA:**\n",
        "\n",
        "Efectivamente la forma de Jordan tiene la ventaja de que se puede ser la controlabilidad y observabilidad por inspección, el análisis será el siguiente:\n",
        "\n",
        "*Controlabilidad*\n",
        "\n",
        "Para $\\lambda = 2$ se tiene multiplicidad algebraica mayor a la geometrica, no están todos desacoplados, voy a tener que ver que las filas de **B** correspondiente a los autovalores que si desacoplaron totalmente sean filas no nulas y LI. en caso contrario las variables de estado asociadas no serían controlables.\n",
        "Las filas asociadas al autovalor $\\lambda = 2$ son: \n",
        "\\begin{bmatrix}\n",
        "      2 & 1 & 1 & 3\\\\\n",
        "      1 & 1 & 1 & 2\\\\\n",
        "      3 & 2 & 1 & 1\\\\\n",
        "\\end{bmatrix} \n",
        "Efectivamente son LI.\n",
        "\n",
        "por lo que las variables de estado asociadas a $\\lambda= 2$ son controlables.\n",
        "\n",
        "Se procede de forma análoga para $\\lambda= 3$\n",
        "\n",
        "\\begin{bmatrix}\n",
        "  1 & 0 & -1 \\\\\n",
        "  -1 & 0 & 1 \\\\\n",
        "\\end{bmatrix} y a simple vista se vé que no son LI.\n",
        "\n",
        "Entonces las variables de estado asociadas a $\\lambda= 3$ no son controlables\n",
        "\n",
        "En cuanto a las variables que no desacoplaron, mirar las filas correspondientes no me dirán nada sobre la controlabilidad de esos modos.\n",
        "\n",
        "*Obserbabilidad*\n",
        "\n",
        "En este caso se procede de una forma análoga pero mirando las columnas de **C**.\n",
        "Para $\\lambda = 2$ las comunas asociadas de **C** son: \n",
        "\\begin{bmatrix}\n",
        " 2  & 2 & 1 & 3 \\\\\n",
        " 1  & 1 & 1 & 2 \\\\\n",
        " 0  & 1 & 1 & 1\n",
        "\\end{bmatrix}\n",
        "\n",
        "Se va a mirar las columnas de **C** correspondiente a los autovalores que tengan ceros por debajo y arriba de los mismos($1^{era}$, $3^{ra}$ y $4^{ta}$.), esas columnas tienen que ser distintas de cero y LI.\n",
        "\n",
        "Entonces se observa que la primera columna y la tercera sumadas dan la cuarta.\n",
        "\n",
        "Por lo que se concluye con no son LI, y por lo tanto eso modos no son observables.\n",
        "\n",
        "Para $\\lambda= 3$ se tiene la siguiente matriz asociada:\n",
        "\n",
        "\\begin{bmatrix}\n",
        "-1 & 1 & 1 \\\\\n",
        " 0 & 0 & 0 \\\\\n",
        " 1 & 1 & 0 \\\\\n",
        "\\end{bmatrix}\n",
        "\n",
        "La $1^{er}$ y $3^{er}$ columnas deben ser LI y a simple vista lo son, entonces esos modos son observables.\n",
        "\n",
        "<!--\n",
        "Simplemente sumando la primera columna con la segunda se obtiene la tercera. claramente es no obserbable.\n",
        "\n",
        "Veamos que sucede para $\\lambda = 3$.\n",
        "\n",
        "Solo hay un autovalor que tienen ceros por debajo y por arriba, por lo tanto es obserbable.\n",
        "\n",
        "Entonces el ultimo autovalor solo le debo mirar que sus columnas asociadas no sea nula, efectivamente no lo es, es obserbable.-->\n",
        "\n",
        "\n",
        "\n"
      ]
    }
  ]
}