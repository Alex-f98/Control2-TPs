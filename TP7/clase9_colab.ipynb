{
  "nbformat": 4,
  "nbformat_minor": 0,
  "metadata": {
    "kernelspec": {
      "display_name": "control_venv",
      "language": "python",
      "name": "control_venv"
    },
    "language_info": {
      "codemirror_mode": {
        "name": "ipython",
        "version": 3
      },
      "file_extension": ".py",
      "mimetype": "text/x-python",
      "name": "python",
      "nbconvert_exporter": "python",
      "pygments_lexer": "ipython3",
      "version": "3.5.3"
    },
    "colab": {
      "name": "clase9_colab.ipynb",
      "provenance": [],
      "collapsed_sections": []
    }
  },
  "cells": [
    {
      "cell_type": "markdown",
      "metadata": {
        "id": "38xCIGHD_k-1"
      },
      "source": [
        "## Clase 9: Gramianos de controlabilidad y observabilidad\n",
        "\n",
        "Los tests de controlabilidad y observabilidad nos alcanzan para confirmar si un sistema es controlable y observable. Sin embargo, no nos indican qué tan fácil es controlar u observar el sistema. Para esto podemos utilizar los gramianos, y para más adelante tener como herramienta para establecer reducciones de órden de modelos con ese criterio.\n",
        "\n",
        "Dado un sistema LTI MIMO tal que:\n",
        "\n",
        "$$ \\dot{x} = A x + B u $$\n",
        "\n",
        "El gramiano de controlabilidad es:\n",
        "\n",
        "$$ G_C(t_0, t_1) = \\int_{t_0}^{t_1} e^{A\\left(t_0 - \\tau\\right)}B B^T e^{A^T \\left(t_0 - \\tau\\right)} d\\tau$$ \n",
        "\n",
        "Que es una matriz simétrica y semidefinida positiva. Decimos que:\n",
        "\n",
        "El sistema dado es controlable en el intervalo $[t_0, t_1]$ si y solo si:\n",
        "\n",
        "$$ |G_C(t_0, t_1)| \\neq 0  \\, \\forall t \\in [t_0, t_1]$$ \n",
        "\n",
        "Si este sistema tiene ecuación de salida dada por:\n",
        "\n",
        "$$ y = C x + D u $$\n",
        "\n",
        "El gramiano de observabilidad es:\n",
        "\n",
        "$$ G_O(t_0, t_1) = \\int_{t_0}^{t_1} e^{A^T \\left(\\tau - t_0\\right)}C^T C e^{A\\left(\\tau - t_0\\right)} d\\tau$$ \n",
        "\n",
        "Que es una matriz simétrica y semidefinida positiva. Decimos que:\n",
        "\n",
        "El sistema dado es observable en el intervalo $[t_0, t_1]$ si y solo si:\n",
        "\n",
        "$$ |G_O(t_0, t_1)| \\neq 0  \\, \\forall t \\in [t_0, t_1]$$ \n",
        "\n",
        "Volvamos al ejercicio resuelto la clase pasada y repitamos aplicando el gramiano de controlabilidad:\n",
        "\n",
        "**Ejercicio 7:**\n",
        "\n",
        "<figure>\n",
        "<center>\n",
        "<img src='https://drive.google.com/uc?id=1AWb_mm--HrIPDPQ-4vGigO235uCuOYxG'/>\n",
        "<figcaption> Ejercicio 7 </figcaption></center>\n",
        "</figure>\n",
        "\n",
        "Su ecuación de estado era:\n",
        "\n",
        "$$ \\begin{bmatrix}\\dot{v_1} \\\\ \\dot{v_2} \\end{bmatrix} = \\begin{bmatrix}-\\frac{1}{R_1 C_1} & 0 \\\\ 0 & -\\frac{1}{R_2 C_2} \\end{bmatrix}\\begin{bmatrix}v_1 \\\\ v_2 \\end{bmatrix}+ \\begin{bmatrix}\\frac{1}{R_1 C_1} \\\\ \\frac{1}{R_2 C_2} \\end{bmatrix} v(t) $$\n",
        "\n",
        "y la de salida:\n",
        "\n",
        "$$ y = \\begin{bmatrix}1 & 1\\end{bmatrix} \\begin{bmatrix}v_1 \\\\ v_2 \\end{bmatrix}$$ \n",
        "\n",
        "Tomemos algunos valores numéricos para particularizar el cálculo:\n",
        "\n",
        "* $R_1 = 950\\Omega$  \n",
        "* $R_2 = 1{,}05~\\text{k}\\Omega$  \n",
        "* $C_1 = 1{,}1~\\mu\\text{F}$  \n",
        "* $C_2 = 1~\\mu\\text{F}$\n",
        "\n",
        "Dado que $t_0 = 0$ s y $t_1 = t$, el gramiano de controlabilidad queda:\n",
        "\n",
        "$$ G_C(t) = \\int_0^t e^{-A\\tau}B B^T e^{-A^T\\tau} d\\tau$$ \n",
        "\n",
        "Empezamos utizando el test de controlabilidad que ya conocemos:"
      ]
    },
    {
      "cell_type": "code",
      "metadata": {
        "id": "pPgHAgqO_k-2",
        "colab": {
          "base_uri": "https://localhost:8080/"
        },
        "outputId": "0e2a0ca2-f10e-4cc0-9c0d-a569a0ee8c70"
      },
      "source": [
        "!pip install slycot\n",
        "!pip install control==0.8.4 # Some functions not working with 0.9.0\n",
        "import numpy as np\n",
        "import control as ctrl\n",
        "import scipy as sp\n",
        "import sympy as symb\n",
        "import matplotlib.pyplot as plt\n",
        "\n",
        "R1 = 950\n",
        "R2 = 1050\n",
        "C1 = 1.1e-6\n",
        "C2 = 1e-6\n",
        "A = np.array([[-1/R1/C1, 0], [0, -1/R2/C2]])\n",
        "B = np.array([[1/R1/C1], [1/R2/C2]])\n",
        "C = np.array([1, 1])\n",
        "D = 0\n",
        "t_final = 0.01\n",
        "\n",
        "sys = ctrl.StateSpace(A, B, C, D)\n",
        "\n",
        "P = ctrl.ctrb(A, B)\n",
        "print('\\n P =')\n",
        "print(P)\n",
        "\n",
        "print('El rango de P es', np.linalg.matrix_rank(P), 'entonces es controlable')\n"
      ],
      "execution_count": 5,
      "outputs": [
        {
          "output_type": "stream",
          "name": "stdout",
          "text": [
            "Requirement already satisfied: slycot in /usr/local/lib/python3.7/dist-packages (0.4.0)\n",
            "Requirement already satisfied: numpy in /usr/local/lib/python3.7/dist-packages (from slycot) (1.19.5)\n",
            "Requirement already satisfied: control==0.8.4 in /usr/local/lib/python3.7/dist-packages (0.8.4)\n",
            "Requirement already satisfied: numpy in /usr/local/lib/python3.7/dist-packages (from control==0.8.4) (1.19.5)\n",
            "Requirement already satisfied: scipy in /usr/local/lib/python3.7/dist-packages (from control==0.8.4) (1.4.1)\n",
            "Requirement already satisfied: matplotlib in /usr/local/lib/python3.7/dist-packages (from control==0.8.4) (3.2.2)\n",
            "Requirement already satisfied: cycler>=0.10 in /usr/local/lib/python3.7/dist-packages (from matplotlib->control==0.8.4) (0.10.0)\n",
            "Requirement already satisfied: python-dateutil>=2.1 in /usr/local/lib/python3.7/dist-packages (from matplotlib->control==0.8.4) (2.8.2)\n",
            "Requirement already satisfied: pyparsing!=2.0.4,!=2.1.2,!=2.1.6,>=2.0.1 in /usr/local/lib/python3.7/dist-packages (from matplotlib->control==0.8.4) (2.4.7)\n",
            "Requirement already satisfied: kiwisolver>=1.0.1 in /usr/local/lib/python3.7/dist-packages (from matplotlib->control==0.8.4) (1.3.2)\n",
            "Requirement already satisfied: six in /usr/local/lib/python3.7/dist-packages (from cycler>=0.10->matplotlib->control==0.8.4) (1.15.0)\n",
            "\n",
            " P =\n",
            "[[    956.93779904 -915729.95123738]\n",
            " [    952.38095238 -907029.47845805]]\n",
            "El rango de P es 2 entonces es controlable\n"
          ]
        }
      ]
    },
    {
      "cell_type": "markdown",
      "metadata": {
        "id": "0bpRyJEGijoW"
      },
      "source": [
        "Nos dice que el sistema es controlable. Evaluemos ahora el gramiano de controlabilidad para $t_1 = 0{,}01$.\n",
        "\n",
        "La cuenta da:\n",
        "\n",
        "$$ G_C(t) = \\begin{bmatrix}\\frac{e^{\\left(\\frac{2 t}{R_1 C_1} \\right)} - 1}{2 R_1 C_1} & \\frac{e^{\\left[t \\left(\\frac{1}{R_1 C_1}+\\frac{1}{R_2 C_2}\\right)\\right]} - 1}{R_1 C_1 + R_2 C_2} \\\\ \\frac{e^{\\left[t \\left(\\frac{1}{R_1 C_1}+\\frac{1}{R_2 C_2}\\right)\\right]} - 1}{R_1 C_1 + R_2 C_2} & \\frac{e^{\\left(\\frac{2 t}{R_2 C_2}\\right)} - 1}{2 R_2 C_2} \\end{bmatrix} $$\n",
        "\n",
        "**Ejercicio** Llegar a la expresión anterior a partir de la integral dada y la definición del sistema.\n",
        "\n",
        "A continuación, evaluamos en $t_1$ en base a la expresión hallada y verificamos que el determinante sea no nulo:"
      ]
    },
    {
      "cell_type": "code",
      "metadata": {
        "colab": {
          "base_uri": "https://localhost:8080/"
        },
        "id": "OxKj277-5afj",
        "outputId": "eef3c308-c6ac-4f8e-f90a-9f6da1694661"
      },
      "source": [
        "gc11 = (np.exp(2*t_final/(R1*C1))-1)/(2*R1*C1)\n",
        "gc22 = (np.exp(2*t_final/(R2*C2))-1)/(2*R2*C2)\n",
        "gc12 = (np.exp(t_final*(1/(R1*C1)+1/(R2*C2)))-1)/(R1*C1+R2*C2)\n",
        "gc21 = gc12\n",
        "Gc = np.matrix([[gc11, gc12],[gc21, gc22]])\n",
        "print('El determinante de Gc es')\n",
        "print(np.linalg.det(Gc))"
      ],
      "execution_count": 6,
      "outputs": [
        {
          "output_type": "stream",
          "name": "stdout",
          "text": [
            "El determinante de Gc es\n",
            "4.9812405978168744e+16\n"
          ]
        }
      ]
    },
    {
      "cell_type": "markdown",
      "metadata": {
        "id": "KSQ3Mw8glef5"
      },
      "source": [
        "De la demostración de condición de suficiencia del teorema para el test de controlabilidad con gramiano, se propone una entrada u(t) que nos permite llevar al estado de $x_0 = x(t_0)$ a $x_1 = x(t_1) = 0$ cuyo valor es:\n",
        "\n",
        "$$ u(t) = -B^T e^{A^T (t_0 - t)} G_C^{-1}(t_0, t_1) x_0 $$\n",
        "\n",
        "Calculemos entonces para nuestro circuito, cuál es la entrada que nos permite llevar de:\n",
        "\n",
        "* $v_1(0) = 10$ V, \n",
        "* $v_2(0) = -3$ V \n",
        "\n",
        "a \n",
        "\n",
        "* $v_1(0{,}01) = 0$ V, \n",
        "* $v_2(0,01) = 0$ V.\n",
        "\n",
        "Es decir:\n",
        "\n",
        "$$ u(t) = -B^T e^{-t A^T} G_C^{-1}(0, 0.01) \\begin{bmatrix} 10\\\\ -3\\end{bmatrix} $$\n",
        "\n",
        "Dimulemos el sistema con dicha entrada para validar que cumple el objetivo propuesto."
      ]
    },
    {
      "cell_type": "code",
      "metadata": {
        "colab": {
          "base_uri": "https://localhost:8080/",
          "height": 541
        },
        "id": "OquUvpYH-90z",
        "outputId": "0f61ca25-9e89-4514-a9f0-f4fd02f61fcf"
      },
      "source": [
        "x0 = np.array([[10], [-3]])\n",
        "\n",
        "def u_to_origin(tiempo):\n",
        "    u = -B.transpose() @ sp.linalg.expm(-tiempo*A) @ np.linalg.inv(Gc) @ x0\n",
        "    return u.item()\n",
        "\n",
        "t_inicial = 0\n",
        "paso_tiempo = t_final/10000  # Ajustar este tiempo\n",
        "tiempo = np.arange(t_inicial, t_final, paso_tiempo)\n",
        "u = np.array([u_to_origin(t) for t in tiempo])\n",
        "tout, yout, xout = ctrl.forced_response(sys, tiempo, u, X0=[10, -3])\n",
        "plt.plot(tout, xout[0], label='v1(t)')\n",
        "plt.plot(tout, xout[1], label='v2(t)')\n",
        "plt.xlabel('Tiempo (s)')\n",
        "plt.ylabel('Tensión (V)')\n",
        "plt.legend(loc='best')\n",
        "plt.grid()\n",
        "plt.show()\n",
        "plt.figure()\n",
        "plt.plot(tout, u, label='u(t)')\n",
        "plt.xlabel('Tiempo (s)')\n",
        "plt.ylabel('Tensión de entrada (V)')\n",
        "plt.legend()\n",
        "plt.grid()\n",
        "plt.show() "
      ],
      "execution_count": 7,
      "outputs": [
        {
          "output_type": "display_data",
          "data": {
            "image/png": "[encoded data removed]",
            "text/plain": [
              "<Figure size 432x288 with 1 Axes>"
            ]
          },
          "metadata": {
            "needs_background": "light"
          }
        },
        {
          "output_type": "display_data",
          "data": {
            "image/png": "[encoded data removed]",
            "text/plain": [
              "<Figure size 432x288 with 1 Axes>"
            ]
          },
          "metadata": {
            "needs_background": "light"
          }
        }
      ]
    },
    {
      "cell_type": "markdown",
      "metadata": {
        "id": "7be0WnNSUUXg"
      },
      "source": [
        "Vemos que se logra el objetivo de alcanzar $x = 0$ en el tiempo especificado con la entrada de control calculada.\n",
        "\n",
        "Podemos utilizar directo la herramienta de simulación para calcular un gramiano del sistema que es equivalente:"
      ]
    },
    {
      "cell_type": "code",
      "metadata": {
        "colab": {
          "base_uri": "https://localhost:8080/"
        },
        "id": "AaZpEslljNtP",
        "outputId": "b5a9a9d8-6679-4697-cff3-46f20d63fb31"
      },
      "source": [
        "Gc = ctrl.gram(sys, 'c')\n",
        "print('Gc =')\n",
        "print(Gc)\n",
        "print('El determinante de Gc es:')\n",
        "print(np.linalg.det(Gc))"
      ],
      "execution_count": 8,
      "outputs": [
        {
          "output_type": "stream",
          "name": "stdout",
          "text": [
            "Gc =\n",
            "[[478.46889952 477.32696897]\n",
            " [477.32696897 476.19047619]]\n",
            "El determinante de Gc es:\n",
            "1.2977958265440566\n"
          ]
        }
      ]
    },
    {
      "cell_type": "markdown",
      "metadata": {
        "id": "X2l3R8P-rSCH"
      },
      "source": [
        "## Tarea\n",
        "\n",
        "**Ejercicio 1:**\n",
        "\n",
        "1. Repetir las simulaciones del circuito RC para $t_1 = 0.001$ s.\n",
        "2. Repetir las simulaciones del circuito RC para $t_1 = 0.1$ s.\n",
        "3. ¿Qué conclusiones podés sacar sobre los puntos 1 y 2? ¿Qué esperarías que pase cuando $t \\to \\infty$? \n",
        "4. Calcular el grammiano de observabilidad para $t_1 = 0.01$ s y verificar que es observable. Repetir usando la función gram().\n",
        "\n",
        "**Ejercicio 2:** \n",
        "\n",
        "¿Puede detectar si el sistema de las siguientes ecuaciones es controlable u observable sin utilizar el test de controlabilidad y observabilidad? En caso de pérdida de controlabilidad u observabilidad, indique el o los modos que producen esta(s) pérdida(s).\n",
        "\n",
        "$$\n",
        "\\dot{x}(t)  = \\left[\\begin{array}{rrrrrrr}\n",
        "                        2 & 1 & 0 & 0 & 0 & 0 & 0 \\\\\n",
        "                        0 & 2 & 0 & 0 & 0 & 0 & 0 \\\\\n",
        "                        0 & 0 & 2 & 0 & 0 & 0 & 0 \\\\\n",
        "                        0 & 0 & 0 & 2 & 0 & 0 & 0 \\\\\n",
        "                        0 & 0 & 0 & 0 & 3 & 1 & 0 \\\\\n",
        "                        0 & 0 & 0 & 0 & 0 & 3 & 0 \\\\\n",
        "                        0 & 0 & 0 & 0 & 0 & 0 & 3 \\\\\n",
        "                   \\end{array}\\right] x(t) + \\left[\\begin{array}{rrr}\n",
        "                                                        2 & 1 & 0 \\\\\n",
        "                                                        2 & 1 & 1 \\\\\n",
        "                                                        1 & 1 & 1 \\\\\n",
        "                                                        3 & 2 & 1 \\\\\n",
        "                                                        1 & 0 & 0 \\\\\n",
        "                                                        1 & 0 & -1 \\\\\n",
        "                                                        -1 & 0 & 1 \\\\\n",
        "                                                    \\end{array}\\right] u(t) \n",
        "                                                    \\\\\n",
        "y(t) = \\left[\\begin{array}{rrrrrrr}\n",
        "                2 & 2 & 1 & 3 & -1 & 1 & 1 \\\\\n",
        "                1 & 1 & 1 & 2 & 0 & 0 & 0 \\\\\n",
        "                0 & 1 & 1 & 1 & 1 & 1 & 0 \\\\\n",
        "               \\end{array}\\right] x(t)\n",
        "$$\n",
        "\n",
        "Analizar primero y luego verificar por computadora.\n"
      ]
    }
  ]
}