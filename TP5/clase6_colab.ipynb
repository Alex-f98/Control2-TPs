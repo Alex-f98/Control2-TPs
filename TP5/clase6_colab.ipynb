{
  "nbformat": 4,
  "nbformat_minor": 0,
  "metadata": {
    "kernelspec": {
      "display_name": "control_venv",
      "language": "python",
      "name": "control_venv"
    },
    "language_info": {
      "codemirror_mode": {
        "name": "ipython",
        "version": 3
      },
      "file_extension": ".py",
      "mimetype": "text/x-python",
      "name": "python",
      "nbconvert_exporter": "python",
      "pygments_lexer": "ipython3",
      "version": "3.5.3"
    },
    "colab": {
      "name": "clase6_colab.ipynb",
      "provenance": [],
      "collapsed_sections": []
    }
  },
  "cells": [
    {
      "cell_type": "markdown",
      "metadata": {
        "id": "GfqHmQ5h1LMX"
      },
      "source": [
        "# Clase 6: Solución de la ecuación de estado y discretización\n",
        "\n",
        "## Introducción\n",
        "\n",
        "Hasta ahora encontramos diversas formas de representar sistemas con variables de estado. Descubrimos cómo llegar a estas ecuaciones a partir de la ecuación diferencial o en diferencias de un modelo. Sabemos que podemos aplicar transformaciones, que son cambios de base del espacio de estados, y que nos pueden servir para pasar de una descripción o otra. Nos puede ser útil para simplificar los problemas que vamos a encontrar o para hacer análisis de los sistemas.\n",
        "\n",
        "Además, vimos una forma particular, llamada de Jordan, que simplifica la ecuación de estados al desacoplar las ecuaciones y dejar expuestos los diversos modos de un sistema. En definitiva, de una forma u otra, llegamos a modelos de la forma:\n",
        "\n",
        "$$ \\dot{x}(t) = A x(t) + B u(t) $$\n",
        "$$ y(t) = C x(t) + D u(t) $$\n",
        "\n",
        "o\n",
        "\n",
        "$$ x(k+1) = A x(k) + B u(k) $$\n",
        "$$ y(k) = C x(k) + D u(k) $$\n",
        "\n",
        "dependiendo si el sistema es de tiempo continuo o discreto. También vimos que estos modelos describen posiblemente incrementos alrededor de las trayectorias nominales o puntos de trabajo de los sistemas físicos en estudio.\n",
        "\n",
        "Nos queda resolver una pregunta: ¿Cuál es la solución de estas ecuaciones? ¿Cómo hallamos la evolución del vector de estado en el tiempo $x(t)$ o $x(k)$?\n",
        "\n",
        "## Solución y la matriz de transición de estados\n",
        "\n",
        "Ya vimos en la teórica cuál es la solución de cada una de estas ecuaciones. Para el caso LTI en tiempo continuo:\n",
        "\n",
        "$$ x(t) = \\Phi(t-t_0)x(t_0) + \\int_{t_0}^{t} \\Phi(t-\\tau) B u(\\tau) d\\tau$$\n",
        "\n",
        "Donde \n",
        "\n",
        "$$ \\Phi(t-t_0) = e^{A(t-t_0)} $$\n",
        "\n",
        "es la matriz de transición de estado en tiempo continuo. En sistemas LTI es igual a la matriz exponencial.\n",
        "\n",
        "Para el caso LTI en tiempo discreto:\n",
        "\n",
        "$$ x(k) = \\Phi(k -k_0) x(k_0) + \\sum_{i=k_0}^{k-1} \\Phi(k-i-1) B u(i) $$\n",
        "\n",
        "Donde \n",
        "\n",
        "$$\\Phi (k-k_0) = A^{k-k_0}$$\n",
        "\n",
        "es la matriz de transición de estado en tiempo discreto.\n",
        "\n",
        "Ambas soluciones poseen dos términos, el primero es la respuesta del estado ante las condiciones iniciales no nulas, también denominada respuesta libre, o con entrada nula. El segundo corresponde a la respuesta forzada o para condiciones iniciales nulas.\n",
        "\n",
        "### ¿Cómo hallar la matriz de transición de estados?\n",
        "\n",
        "#### Tiempo continuo\n",
        "\n",
        "La definición de matriz exponencial es a través de la serie:\n",
        "\n",
        "$$ e^M = \\sum_{i=1}^{\\infty} \\frac{M^i}{i!} = I + M + \\frac{M^2}{2} + \\frac{M^3}{6} + ... $$\n",
        "\n",
        "Y de aparecer el tiempo involucrado, simplemente es un número real a los efectos de su cálculo:\n",
        "\n",
        "$$ e^{At} = \\sum_{i=1}^{\\infty} \\frac{(At)^i}{i!} = I + At + \\frac{A^2 t^2}{2} + \\frac{A^3 t^3}{6} + ... $$\n",
        "\n",
        "Es importante entonces notar que es una matriz $ \\in \\mathbb{R}^{n\\times n}$ , para un vector de estado $x \\in \\mathbb{R}^n$. Y por más que la definición lo indica, aclaramos que no es lo mismo hacer la exponencial de cada elemento de la matriz.\n",
        "\n",
        "#### Tiempo discreto\n",
        "\n",
        "La matriz de transición de estados en tiempo discreto es mucho más simple de hallar:\n",
        "\n",
        "$$ \\Phi(k - k_0) = A^{k-k_0}$$\n",
        "\n",
        "En donde la potencia $k-k_0$ es un número natural representando las $k-k_0$ transiciones del vector de estado, y en el caso que $k = k_0$, $\\Phi(0) = I_{n\\times n}$. Para obtenerla, se debe calcular simplemente de la siguiente manera:\n",
        "\n",
        "$$ \\Phi(k-k_0) = \\underbrace{A A \\dots A}_{k-k_0 \\text{veces}} $$\n",
        "\n",
        "### Ejemplo: Cálculo de la matriz exponencial con A diagonalizable.\n",
        "\n",
        "Dado el sistema:\n",
        "\n",
        "$$\\dot{x} = A x$$\n",
        "\n",
        "Con\n",
        "\n",
        "$$ A = \\begin{bmatrix} -7 & 2 & 1\\\\ 4 & -5 & -4\\\\ 0 & 0 & -6 \\end{bmatrix} $$\n",
        "\n",
        "y condición inicial $x_0 = \\begin{bmatrix} 0 & 0 & 1 \\end{bmatrix}^T$\n",
        "\n",
        "Queremos calcular la evolución del sistema desde $x(0)=x_0$ hasta $x(5)$.\n",
        "\n",
        "Para esto necesitamos la matriz de transición de estados:\n",
        "\n",
        "$$ x(t_1) = \\Phi(t_1-t_0) x(t_0) $$\n",
        "\n",
        "Que en el caso de $t_1 = 5$, $t_0 = 0$, y el sistema LTI es:\n",
        "\n",
        "$$ x(5) = e^{5A}x(t_0) $$\n",
        "\n",
        "Si A es diagonalizable:\n",
        "\n",
        "$$A = M \\Delta M^{-1}$$\n",
        "\n",
        "Luego, aplicamos la definición:\n",
        "\n",
        "$$ e^{5A} = \\sum_{i=1}^{\\infty} \\frac{(5A)^i}{i!} =  \\sum_{i=1}^{\\infty} \\frac{5^i (M \\Delta M^{-1})^i}{i!} $$\n",
        "\n",
        "Notamos que la potencia $i$ de las matrices da:\n",
        "\n",
        "$$ (M\\Delta M^{-1} )^i =  M \\Delta \\underbrace{M^{-1} M}_I \\Delta M^{-1} \\dots M \\Delta \\underbrace{^{-1} M}_I \\Delta M^{-1}= M \\Delta^i M^{-1} $$\n",
        "\n",
        "Y por ser matriz diagonal, la potencia $i$ de $\\Delta$ se calcula mucho más fácil. Salen las matrices M y su inversa de la sumatoria como factores comunes a izquierda y a derecha, y queda:\n",
        "\n",
        "$$ e^{5A} = M E M^{-1} $$\n",
        "\n",
        "Donde cada elemento de la diagonal de E será:\n",
        "\n",
        "$$ e_{jj} = \\sum_{i=1}^{\\infty} \\frac{\\lambda_j^i 5^i}{i!} = e^{5\\lambda_j}$$\n",
        "\n",
        "El cálculo de la matriz exponencial queda:\n",
        "\n",
        "$$ e^{5A} = M \\begin{bmatrix} e^{5\\lambda_1} & 0 & 0 \\\\ 0 & e^{5\\lambda_2} & 0 \\\\ 0 & 0 & e^{5\\lambda_3}\\end{bmatrix} M^{-1} $$\n",
        "\n",
        "El resultado buscado es:\n",
        "\n",
        "$$ x(5) =  M \\begin{bmatrix} e^{5\\lambda_1} & 0 & 0 \\\\ 0 & e^{5\\lambda_2} & 0 \\\\ 0 & 0 & e^{5\\lambda_3}\\end{bmatrix} M^{-1}x(t_0) $$\n",
        "\n",
        "Resolvemos por simulación:"
      ]
    },
    {
      "cell_type": "code",
      "metadata": {
        "id": "Tc29fTES1LMh",
        "colab": {
          "base_uri": "https://localhost:8080/"
        },
        "outputId": "dd6b2e84-85f5-499a-8986-9186663e0f69"
      },
      "source": [
        "import numpy as np\n",
        "from scipy.linalg import expm\n",
        "\n",
        "A = np.matrix([[-7, 2, 1],[4, -5, -4],[0, 0, -6]])\n",
        "x01 = np.matrix([[0],[0],[1]])\n",
        "t = 5\n",
        "\n",
        "autoval, M = np.linalg.eig(A)\n",
        "D = np.diag(autoval)\n",
        "print('\\n D =', D)\n",
        "print('\\n M =', M)"
      ],
      "execution_count": 1,
      "outputs": [
        {
          "output_type": "stream",
          "name": "stdout",
          "text": [
            "\n",
            " D = [[-9.  0.  0.]\n",
            " [ 0. -3.  0.]\n",
            " [ 0.  0. -6.]]\n",
            "\n",
            " M = [[-7.07106781e-01 -4.47213595e-01  7.07106781e-01]\n",
            " [ 7.07106781e-01 -8.94427191e-01  1.58187870e-17]\n",
            " [ 0.00000000e+00  0.00000000e+00  7.07106781e-01]]\n"
          ]
        }
      ]
    },
    {
      "cell_type": "markdown",
      "metadata": {
        "id": "ADHon9pX1LM6"
      },
      "source": [
        "Como es diagonalizable podemos continuar con el procedimiento propuesto."
      ]
    },
    {
      "cell_type": "code",
      "metadata": {
        "id": "842k4kD91LM8",
        "colab": {
          "base_uri": "https://localhost:8080/"
        },
        "outputId": "088ce9af-2e76-4300-b7b3-42a4b8cd3f35"
      },
      "source": [
        "D_5 = np.diag(np.exp(t*autoval))\n",
        "x5 = M*D_5*np.linalg.inv(M)*x01\n",
        "print('El estado en t =', t, 'vale \\n x=\\n', x5)"
      ],
      "execution_count": 2,
      "outputs": [
        {
          "output_type": "stream",
          "name": "stdout",
          "text": [
            "El estado en t = 5 vale \n",
            " x=\n",
            " [[-1.01967347e-07]\n",
            " [-2.03934880e-07]\n",
            " [ 9.35762297e-14]]\n"
          ]
        }
      ]
    },
    {
      "cell_type": "markdown",
      "metadata": {
        "id": "803c4HJd1LPc"
      },
      "source": [
        "Podemos verificar con el cálculo directo:"
      ]
    },
    {
      "cell_type": "code",
      "metadata": {
        "id": "HloglXQf1LPe",
        "colab": {
          "base_uri": "https://localhost:8080/"
        },
        "outputId": "a11140c9-a8e2-44af-89ba-1e98ee9f84ef"
      },
      "source": [
        "x5 = expm(t*A)*x01\n",
        "print('El estado en t =', t, 'vale \\n x=\\n', x5)"
      ],
      "execution_count": 3,
      "outputs": [
        {
          "output_type": "stream",
          "name": "stdout",
          "text": [
            "El estado en t = 5 vale \n",
            " x=\n",
            " [[-1.01967347e-07]\n",
            " [-2.03934880e-07]\n",
            " [ 9.35762297e-14]]\n"
          ]
        }
      ]
    },
    {
      "cell_type": "markdown",
      "metadata": {
        "id": "CK3hZgPA1LP2"
      },
      "source": [
        "## Discretización exacta\n",
        "\n",
        "Una aplicación interesante de la solución de la ecuación de estado en tiempo continuo es la discretización de un sistema para hallar un sistema en tiempo discreto equivalente. Repasamos primero esta idea a continuación.\n",
        "\n",
        "Queremos desarrollar un controlador en tiempo discreto del sistema:\n",
        "\n",
        "$$ \\dot{z} = A z + B u $$\n",
        "$$ y = C z + D u $$\n",
        "\n",
        "con una computadora. Para ello ya sabemos que vamos a tener que elegir un tiempo de muestreo $T_S$ acorde a nuestros objetivos de control, las características del sistema a controlar y las capacidades de cálculo de nuestra computadora. Cada $T_S$ segundos vamos a estar muestreando la señal de interés o salida $y(t). \n",
        "\n",
        "Asimismo, vamos a tener que definir cómo vamos a accionar la entrada de este sistema. El controlador va a calcular cada $T_S$ segundos un valor actualizado de acción de control $u(t)$. Una de las formas más simples de generar esta señal, es dejar su valor constante durante el período de muestreo. Es lo que se conoce como retenedor de orden cero  o ZOH, que viene del inglés _zero order hold_.\n",
        "\n",
        "El esquema que ejecuta estas dos acciones, la de muestrear $y(t)$ y la de retener el valor de $u(t)$, es el siguiente:\n",
        "\n",
        "<figure>\n",
        "<center>\n",
        "<img src='https://drive.google.com/uc?id=1IFMfkWQBZ_x4IpwSaGHSy61irY4irEM9'/>\n",
        "<figcaption>Retenedor y muestreo para discretizar</figcaption></center>\n",
        "</figure\n",
        "\n",
        "\n",
        "De donde se va a obtener un sistema en tiempo discreto equivalente de la forma:\n",
        "\n",
        "$$ z(k+1) = A_d z(k) + B_d u(k) $$\n",
        "$$ y(k) = C z(k) + D u(k) $$\n",
        "\n",
        "Esto es, nos podemos olvidar del sistema en tiempo continuo y directamente trabajar con el nuevo modelo en tiempo discreto para diseñar un controlador como indica la siguiente figura:\n",
        "\n",
        "<figure>\n",
        "<center>\n",
        "<img src='https://drive.google.com/uc?id=1n7XTkE99YPE23bjuF0YyXb65X4C7kgj_'/>\n",
        "<figcaption>Sistema equivalente con controlador digital</figcaption></center>\n",
        "</figure\n",
        "\n",
        "Y luego, volver al sistema físico y aplicar la ley de control encontrada.\n",
        "\n",
        "Partimos entonces de $t_0 = kT_S$, que en la solución de la ecuación de da que:\n",
        "\n",
        "$$ z(t) = e^{A(t-k T_S)}z(kT_S) + \\int_{kT_S}^{t} e^{A(t-\\tau)} B u(\\tau) d\\tau$$\n",
        "\n",
        "Y calculamos cómo evoluciona el estado durante un período de muestreo, o sea hasta $t = kT_S + T_S$:\n",
        "\n",
        "$$ z(kT_S+T_S) = e^{AT_S}z(kT_S) + \\int_{kT_S}^{kT_S+T_S} e^{A(kT_S+T_S-\\tau)} B u(\\tau) d\\tau$$\n",
        "\n",
        "De allí sale, si consideramos el efecto del ZOH, que:\n",
        "\n",
        "$$ z(k+1) = A_d z(k) + B_d u(k) $$\n",
        "\n",
        "Con \n",
        "\n",
        "$$ A_d = e^{AT_S} $$\n",
        "\n",
        "y \n",
        "\n",
        "$$ B_d = \\int_0^{T_S} e^{A\\alpha} d\\alpha B $$\n",
        "\n",
        "**Ejercicio:** Demostrar el paso para hallar la expresión de $B_d$.\n",
        "\n",
        "Para los casos en donde A no es inversible, no nos servirá la expresión para $B_d$ encontrada en la clase teórica. Entonces, en el caso más general deberemos hallar una expresión de la función matricial $\\Phi(t) = e^{At}$ para luego integrar y calcular $B_d$ con la expresión dada.\n",
        "\n",
        "¡Probemos esta discretización con un ejemplo!"
      ]
    },
    {
      "cell_type": "markdown",
      "metadata": {
        "id": "gDEdVOSd1LP4"
      },
      "source": [
        "## Tarea:\n",
        "\n",
        "Dado el circuito RLC de la clase 3, propongo hallar un sistema en tiempo discreto equivalente con el método de discretización exacta.\n",
        "\n",
        "La ecuación de estado era:\n",
        "\n",
        "$$ \\mathbf{\\dot{x}} =  \\begin{bmatrix} 0 & 1\\\\ -\\frac{1}{LC} & -\\frac{2}{RC} \\end{bmatrix} \\mathbf{x} + \\begin{bmatrix} 0 \\\\ 1\\end{bmatrix} u$$\n",
        "\n",
        "$$ y = \\begin{bmatrix}-\\frac{1}{LC} -\\frac{1}{RC} \\end{bmatrix} \\mathbf{x} + u $$\n",
        "\n",
        "1. Convertir el sistema a la forma de Jordan. Dejar expresada la ecuación de estado en su forma con coeficientes reales. Usar como pista el ejercicio 7 de la guía 2.\n",
        "2. Seleccionar un valor de $T_S$ que considere adecuado. Explicar el criterio adoptado.\n",
        "3. Aplicar la discretización exacta.\n",
        "4. Aplicar la discretización aproximada (repasar los primeros minutos de https://youtu.be/jkW_Lco_A50). ¿Cómo se relaciona esta aproximación con la que hicimos en la clase 3?\n",
        "5. Comparar la respuesta al escalón de las dos discretizaciones, exacta y aproximada, y con la del sistema en tiempo continuo original.\n",
        "6. Explorar la función directa que le proporciona el simulador para discretizar y verifique el método que utiliza."
      ]
    },
    {
      "cell_type": "code",
      "metadata": {
        "id": "-uOojkC71LP6",
        "colab": {
          "base_uri": "https://localhost:8080/"
        },
        "outputId": "8cfa1323-0720-4dbe-9b09-778aaf6529b7"
      },
      "source": [
        "# Aquí va tu código\n",
        "!pip install control\n",
        "import numpy as np\n",
        "import control as ctrl\n",
        "import matplotlib.pyplot as plt\n",
        "\n",
        "R = 20  # Ohm\n",
        "C = 5e-6  # F\n",
        "L = 10e-6  # H\n",
        "# Ts = ... Completá con el valor que creas adecuado"
      ],
      "execution_count": 4,
      "outputs": [
        {
          "output_type": "stream",
          "name": "stdout",
          "text": [
            "Collecting control\n",
            "  Downloading control-0.9.0.tar.gz (339 kB)\n",
            "\u001b[?25l\r\u001b[K     |█                               | 10 kB 18.3 MB/s eta 0:00:01\r\u001b[K     |██                              | 20 kB 22.7 MB/s eta 0:00:01\r\u001b[K     |███                             | 30 kB 14.8 MB/s eta 0:00:01\r\u001b[K     |███▉                            | 40 kB 10.2 MB/s eta 0:00:01\r\u001b[K     |████▉                           | 51 kB 5.7 MB/s eta 0:00:01\r\u001b[K     |█████▉                          | 61 kB 5.6 MB/s eta 0:00:01\r\u001b[K     |██████▊                         | 71 kB 6.1 MB/s eta 0:00:01\r\u001b[K     |███████▊                        | 81 kB 5.6 MB/s eta 0:00:01\r\u001b[K     |████████▊                       | 92 kB 4.8 MB/s eta 0:00:01\r\u001b[K     |█████████▋                      | 102 kB 5.3 MB/s eta 0:00:01\r\u001b[K     |██████████▋                     | 112 kB 5.3 MB/s eta 0:00:01\r\u001b[K     |███████████▋                    | 122 kB 5.3 MB/s eta 0:00:01\r\u001b[K     |████████████▋                   | 133 kB 5.3 MB/s eta 0:00:01\r\u001b[K     |█████████████▌                  | 143 kB 5.3 MB/s eta 0:00:01\r\u001b[K     |██████████████▌                 | 153 kB 5.3 MB/s eta 0:00:01\r\u001b[K     |███████████████▌                | 163 kB 5.3 MB/s eta 0:00:01\r\u001b[K     |████████████████▍               | 174 kB 5.3 MB/s eta 0:00:01\r\u001b[K     |█████████████████▍              | 184 kB 5.3 MB/s eta 0:00:01\r\u001b[K     |██████████████████▍             | 194 kB 5.3 MB/s eta 0:00:01\r\u001b[K     |███████████████████▎            | 204 kB 5.3 MB/s eta 0:00:01\r\u001b[K     |████████████████████▎           | 215 kB 5.3 MB/s eta 0:00:01\r\u001b[K     |█████████████████████▎          | 225 kB 5.3 MB/s eta 0:00:01\r\u001b[K     |██████████████████████▎         | 235 kB 5.3 MB/s eta 0:00:01\r\u001b[K     |███████████████████████▏        | 245 kB 5.3 MB/s eta 0:00:01\r\u001b[K     |████████████████████████▏       | 256 kB 5.3 MB/s eta 0:00:01\r\u001b[K     |█████████████████████████▏      | 266 kB 5.3 MB/s eta 0:00:01\r\u001b[K     |██████████████████████████      | 276 kB 5.3 MB/s eta 0:00:01\r\u001b[K     |███████████████████████████     | 286 kB 5.3 MB/s eta 0:00:01\r\u001b[K     |████████████████████████████    | 296 kB 5.3 MB/s eta 0:00:01\r\u001b[K     |█████████████████████████████   | 307 kB 5.3 MB/s eta 0:00:01\r\u001b[K     |██████████████████████████████  | 317 kB 5.3 MB/s eta 0:00:01\r\u001b[K     |███████████████████████████████ | 327 kB 5.3 MB/s eta 0:00:01\r\u001b[K     |███████████████████████████████▉| 337 kB 5.3 MB/s eta 0:00:01\r\u001b[K     |████████████████████████████████| 339 kB 5.3 MB/s \n",
            "\u001b[?25hRequirement already satisfied: numpy in /usr/local/lib/python3.7/dist-packages (from control) (1.19.5)\n",
            "Requirement already satisfied: scipy in /usr/local/lib/python3.7/dist-packages (from control) (1.4.1)\n",
            "Requirement already satisfied: matplotlib in /usr/local/lib/python3.7/dist-packages (from control) (3.2.2)\n",
            "Requirement already satisfied: kiwisolver>=1.0.1 in /usr/local/lib/python3.7/dist-packages (from matplotlib->control) (1.3.2)\n",
            "Requirement already satisfied: python-dateutil>=2.1 in /usr/local/lib/python3.7/dist-packages (from matplotlib->control) (2.8.2)\n",
            "Requirement already satisfied: pyparsing!=2.0.4,!=2.1.2,!=2.1.6,>=2.0.1 in /usr/local/lib/python3.7/dist-packages (from matplotlib->control) (2.4.7)\n",
            "Requirement already satisfied: cycler>=0.10 in /usr/local/lib/python3.7/dist-packages (from matplotlib->control) (0.10.0)\n",
            "Requirement already satisfied: six in /usr/local/lib/python3.7/dist-packages (from cycler>=0.10->matplotlib->control) (1.15.0)\n",
            "Building wheels for collected packages: control\n",
            "  Building wheel for control (setup.py) ... \u001b[?25l\u001b[?25hdone\n",
            "  Created wheel for control: filename=control-0.9.0-py2.py3-none-any.whl size=344928 sha256=344d1a5f23776191e0926912be8363bcdff6862659e0b04c2728f8047778e574\n",
            "  Stored in directory: /root/.cache/pip/wheels/5b/64/54/70faad181d7baff1184541ca00c9a2efa633acd0a811831d30\n",
            "Successfully built control\n",
            "Installing collected packages: control\n",
            "Successfully installed control-0.9.0\n"
          ]
        }
      ]
    }
  ]
}