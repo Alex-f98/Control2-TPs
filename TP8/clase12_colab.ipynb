{
 "cells": [
  {
   "cell_type": "markdown",
   "metadata": {
    "id": "U24AvR2aI7UN"
   },
   "source": [
    "## Alumno: Brian Alex Fuentes Acuña.\n",
    "## Padron: 101785."
   ]
  },
  {
   "cell_type": "markdown",
   "metadata": {
    "id": "bmMHMFi4BCRB"
   },
   "source": [
    "# Clase 12: Realimentación MIMO y seguimiento de referencias"
   ]
  },
  {
   "cell_type": "markdown",
   "metadata": {
    "id": "t-wOvcwB_g1U"
   },
   "source": [
    "## Realimentación en sistemas MIMO\n",
    "\n",
    "Mirar el video de la [clase teórica](https://www.youtube.com/watch?v=Lkcl_9C5WfE) y aplicar lo visto en la resolución del siguiente ejercicio.\n",
    "\n",
    "Un sistema LTI continuo de dos entradas viene dado por la siguiente ecuación:\n",
    "\n",
    "$$\n",
    "    \\dot{x}(t) = \\left[\\begin{matrix}0 & 1\\\\7 & -4\\end{matrix}\\right] x(t) + \\left[\\begin{matrix}1  & 1\\\\1 & 0\\end{matrix}\\right] u(t)\n",
    "$$\n",
    "$$\n",
    "    y = \\left[\\begin{matrix}1 & 3\\end{matrix}\\right] x(t)\n",
    "$$\n",
    "\n",
    "Buscar dos matrices $k$ distintas tal que los autovalores a lazo cerrado sean $\\lambda_1 = -4$ y $\\lambda_2 = -6$ y con los siguientes métodos:\n",
    "\n",
    "* El dado en ejemplo de la clase teórica, con transformación a la forma canónica multivariable.\n",
    "* Calcular con las funciones dadas por las bibliotecas de control utilizadas (por ejemplo, ctrl.place()).\n",
    "\n",
    "Simular la respuesta de $u(t)$ ante las condiciones iniciales no nulas y comparar los resultados obtenidos. ¿Cuál creés que es la mejor y en qué sentido? \n"
   ]
  },
  {
   "cell_type": "code",
   "execution_count": 1,
   "metadata": {
    "id": "bS-n_cw7DsB2"
   },
   "outputs": [
    {
     "name": "stdout",
     "output_type": "stream",
     "text": [
      "Requirement already satisfied: control in c:\\users\\brian\\anaconda3\\lib\\site-packages (0.9.0)\n",
      "Requirement already satisfied: scipy in c:\\users\\brian\\anaconda3\\lib\\site-packages (from control) (1.2.1)\n",
      "Requirement already satisfied: numpy in c:\\users\\brian\\anaconda3\\lib\\site-packages (from control) (1.16.4)\n",
      "Requirement already satisfied: matplotlib in c:\\users\\brian\\anaconda3\\lib\\site-packages (from control) (3.1.0)\n",
      "Requirement already satisfied: cycler>=0.10 in c:\\users\\brian\\anaconda3\\lib\\site-packages (from matplotlib->control) (0.10.0)\n",
      "Requirement already satisfied: kiwisolver>=1.0.1 in c:\\users\\brian\\anaconda3\\lib\\site-packages (from matplotlib->control) (1.1.0)\n",
      "Requirement already satisfied: pyparsing!=2.0.4,!=2.1.2,!=2.1.6,>=2.0.1 in c:\\users\\brian\\anaconda3\\lib\\site-packages (from matplotlib->control) (2.4.0)\n",
      "Requirement already satisfied: python-dateutil>=2.1 in c:\\users\\brian\\anaconda3\\lib\\site-packages (from matplotlib->control) (2.8.0)\n",
      "Requirement already satisfied: six in c:\\users\\brian\\anaconda3\\lib\\site-packages (from cycler>=0.10->matplotlib->control) (1.12.0)\n",
      "Requirement already satisfied: setuptools in c:\\users\\brian\\anaconda3\\lib\\site-packages (from kiwisolver>=1.0.1->matplotlib->control) (41.0.1)\n"
     ]
    }
   ],
   "source": [
    "!pip install control \n",
    "import control as ctrl\n",
    "import numpy as np\n",
    "import sympy as symb\n",
    "%matplotlib inline\n",
    "import matplotlib.pyplot as plt\n",
    "import scipy as sp\n",
    "# Completa aquí con tu código\n"
   ]
  },
  {
   "cell_type": "markdown",
   "metadata": {
    "id": "BHOBxLFxZyEG"
   },
   "source": [
    "Veamos primero que es sistema sea controlable"
   ]
  },
  {
   "cell_type": "code",
   "execution_count": 2,
   "metadata": {
    "colab": {
     "base_uri": "https://localhost:8080/",
     "height": 0
    },
    "id": "lA4I3EieZn_r",
    "outputId": "c64dd10b-376d-47de-c6dc-09728c82fe55"
   },
   "outputs": [
    {
     "name": "stdout",
     "output_type": "stream",
     "text": [
      "P:\n",
      " [[1. 1. 1. 0.]\n",
      " [1. 0. 3. 7.]]\n",
      "El rango de P es:  2\n",
      "La matriz es controlable\n"
     ]
    }
   ],
   "source": [
    "#El sistemas es:\n",
    "A= symb.Matrix( [[0, 1], [7, -4]] )\n",
    "B= symb.Matrix( [[1, 1], [1, 0]] )\n",
    "C= symb.Matrix( [[1, 3]] )\n",
    "D= symb.Matrix( [[0, 0]] )\n",
    "\n",
    "sys = ctrl.StateSpace(A, B, C, D)\n",
    "                                                #P=[b1 b2 |Ab1 Ab2]\n",
    "P= ctrl.ctrb(A,B)\n",
    "print('P:'); symb.pprint(P)\n",
    "print('El rango de P es: ', np.linalg.matrix_rank(P) )\n",
    "print('La matriz es controlable')"
   ]
  },
  {
   "cell_type": "markdown",
   "metadata": {
    "id": "xRGuOfrQZ6RI"
   },
   "source": [
    "Se procede a ubicar los autovalores de $A+BK$ en los autovalores pedidos, $\\lambda= -4$ y $\\lambda= -6$.\n",
    "\n",
    "Segun la teorica, busco la forma cacnonica multivariable y procedo:   "
   ]
  },
  {
   "cell_type": "code",
   "execution_count": 3,
   "metadata": {
    "colab": {
     "base_uri": "https://localhost:8080/",
     "height": 0
    },
    "id": "AzAaF90NtU1b",
    "outputId": "6df0179f-7058-429d-99ba-a156cccd5e0d"
   },
   "outputs": [
    {
     "name": "stdout",
     "output_type": "stream",
     "text": [
      "U: \n",
      " [[1. 1.]\n",
      " [1. 0.]]\n",
      "rango de U:  2\n",
      "V: \n",
      " [[1. 1.]\n",
      " [1. 0.]]\n",
      "A_: \n",
      "⎡3.0   7.0 ⎤\n",
      "⎢          ⎥\n",
      "⎣-2.0  -7.0⎦\n",
      "B_ :\n",
      "⎡1.0   0 ⎤\n",
      "⎢        ⎥\n",
      "⎣ 0   1.0⎦\n",
      "Ades_ :\n",
      "⎡  0      1  ⎤\n",
      "⎢            ⎥\n",
      "⎣-24.0  -10.0⎦\n",
      "matriz K_:\n",
      "⎡-3   -6⎤\n",
      "⎢       ⎥\n",
      "⎣-22  -3⎦\n",
      "Autovalores de A_ + B_.K_ {-4: 1, -6: 1}\n",
      "Autovalores de A_ + B_.K_ {-4: 1, -6: 1}\n",
      "K: \n",
      "⎡-6.0   3.0 ⎤\n",
      "⎢           ⎥\n",
      "⎣-3.0  -19.0⎦\n"
     ]
    }
   ],
   "source": [
    "#P=[b1 b2 |Ab1 Ab2]-->U =[b1 b2]\n",
    "U= P[ :,[0, 1] ]                                \n",
    "print('U: '); symb.pprint(U)\n",
    "print('rango de U: ', np.linalg.matrix_rank(U) )\n",
    "\n",
    "#separo las asociadas a la 1er y 2da entrada, [b1  b2 ]   mu1=1,  mu2=1\n",
    "V= U   \n",
    "# cant_mu1 + cant_mu2 = rg(P).\n",
    "Vi= np.linalg.inv(V)                            #inversa de V\n",
    "print('V: '); symb.pprint(V)\n",
    "#de V obtengo las ultimas filas asociadas a las entradas.\n",
    "#en este caso es unica para cada entrada por lo que T^-1= vi.\n",
    "Ti= Vi\n",
    "T= np.linalg.inv(Ti)\n",
    "\n",
    "A_ = Ti*A*T\n",
    "print('A_: '); symb.pprint(A_)\n",
    "\n",
    "B_= Ti*B\n",
    "print('B_ :'); symb.pprint(B_)\n",
    "\n",
    "#Ades_= A_ + B_.K_\n",
    "\n",
    "#El polinomio caracteristico deseado es:\n",
    "FiDes= np.poly([-4, -6])\n",
    "alphaDes= np.flip(FiDes)\n",
    "\n",
    "Ades_= symb.Matrix([ [0, 1], [-alphaDes[0], -alphaDes[1]] ])\n",
    "print('Ades_ :'); symb.pprint( Ades_ )\n",
    "\n",
    " #Quiero lograr A_ + B_.K_= Ades_ \n",
    " # A_ + B_.K_ = A_ + [K1 K2; K3 K4]\n",
    " #              [0 1; 7 -4] + [K1 0; 0 K2]= [ (K1+3)   (K2+7)  ]\n",
    " #                                          [ (K3-2)   (K4-7)  ]\n",
    " \n",
    " ##--> K1+3=0 ; K2+7=1; K3-2= -24; K4-7= -10\n",
    " ##### K1=-3   #K2=-6   #K3= -22   #K4= -3.\n",
    "K_= symb.Matrix([[-3, -6],[-22, -3]])\n",
    "print('matriz K_:'); symb.pprint(K_)\n",
    "\n",
    "print('Autovalores de A_ + B_.K_', (A_ + B_*K_).eigenvals())#Todo OK.\n",
    "#Volvamos a las variables de estado originales.\n",
    "K= K_*Ti\n",
    "#Vuelvo a comprobar:\n",
    "print('Autovalores de A_ + B_.K_', (A + B*K).eigenvals())#Todo OK.\n",
    "print('K: '); symb.pprint(K)"
   ]
  },
  {
   "cell_type": "markdown",
   "metadata": {
    "id": "ZUxNREv4atAK"
   },
   "source": [
    "La matriz $K$ necesaria para ubicar los polos es: \n",
    "\n",
    "Según el metodo teorico:\n",
    "$$  K= \\begin{bmatrix} -3 & -6 \\\\ -22 & -3 \\end{bmatrix} $$\n",
    "\n",
    "Segun el metodo brindado por el sofware, *place()*\n",
    "$$  KK= \\begin{bmatrix} -7 & 0 \\\\ 1 & -1 \\end{bmatrix} $$\n",
    "(la funcion place da resultado distinto en python y matlab)"
   ]
  },
  {
   "cell_type": "code",
   "execution_count": 4,
   "metadata": {
    "colab": {
     "base_uri": "https://localhost:8080/",
     "height": 0
    },
    "id": "hu_ouJwjVZxW",
    "outputId": "4513b85f-bb54-4894-c9b0-a2ee5de6419b"
   },
   "outputs": [
    {
     "name": "stdout",
     "output_type": "stream",
     "text": [
      "KK\n",
      " [[-7.00000000e+00  7.85046229e-17]\n",
      " [ 1.00000000e+00 -1.00000000e+00]]\n",
      "Numero de cond. de K:  sqrt(13*sqrt(661)/2 + 415/2)/sqrt(415/2 - 13*sqrt(661)/2)\n",
      "Numero de cond de KK:  7.14577138149692\n",
      "Autovalores de A + B.KK: {-6: 1, -4: 1}\n"
     ]
    }
   ],
   "source": [
    "##Probamos con otro metodo brindado por el sofware.\n",
    "\n",
    "A = symb.Matrix([[0, 1], [7, -4]])\n",
    "B = symb.Matrix([[1, 1], [1, 0]] )\n",
    "\n",
    "KK = -ctrl.place([[0, 1], [7, -4]] , [[1, 1], [1, 0]] , [-4, -6])\n",
    "print('KK'); symb.pprint(KK)\n",
    "\n",
    "print('Numero de cond. de K: ', K.condition_number() )\n",
    "print('Numero de cond de KK: ', np.linalg.cond(KK) )\n",
    "\n",
    "KK= symb.Matrix([[-7, 0], [1, -1]])\n",
    "#print('KK'); symb.pprint(KK)\n",
    "\n",
    "#ES MEJOR LA RELACION DE K, DADO POR EL METODO HALLADO.\n",
    "#print('Autovalores de A+BK:' ( A + B*KK ).eigenvals())\n",
    "print('Autovalores de A + B.KK:', (A + B*KK).eigenvals() )\n"
   ]
  },
  {
   "cell_type": "markdown",
   "metadata": {
    "id": "_f6mrpUTdOLz"
   },
   "source": [
    "Calculemos las respuestas temporales de los estados $x_1(t)$ y $x_2(t)$ para condiciones iniciales, el particular se eligio $x_0= [2, 1]$"
   ]
  },
  {
   "cell_type": "code",
   "execution_count": 5,
   "metadata": {
    "colab": {
     "base_uri": "https://localhost:8080/",
     "height": 122
    },
    "id": "n_cydx6NE19l",
    "outputId": "175ccc9d-606f-43ca-b5fd-3f9779f4e1f1"
   },
   "outputs": [
    {
     "data": {
      "text/plain": [
       "\"\\n#FORMA ALTERNATIVA DE HACERLO\\ndef f_mimo(t, x):\\n    #u(t) = Kx(t)\\n    #K=       [K1 K2; K3 K4]\\n    #(A+BK)=  ( [ K1 + K3,  K2 + K4 + 1]; [  K1 + 7,       K2 - 4] )\\n\\n    f1= (K1 + K3) * x[0] +  (K2 + K4 + 1) * x[1]\\n    f2= (K1 + 7) * x[0] + (K2 - 4) * x[1]\\n    return [f1, f2]  #.item()\\n#################################\\n#scipy.integrate.solve_ivp(fun, t_span, y0, method='RK45', t_eval=None, dense_output=False, events=None, vectorized=False, args=None, **options)\\n#--------------------------------------------------------------------------------------------------------------------------------------------------------\\nsol = sp.integrate.solve_ivp(f_mimo, (0, 1.5), x0, t_eval= np.arange(0, 1.5, 0.01), dense_output=True, rtol=1e-5, atol=1e-5)\\n\\nx1=               sol.y[0]\\nx2=               sol.y[1]\\ntiempo =          sol.t\\n\""
      ]
     },
     "execution_count": 5,
     "metadata": {},
     "output_type": "execute_result"
    }
   ],
   "source": [
    "K= symb.Matrix([ [-6, 3], [-3, -19] ]) #lo harcodeo por que quiero y por que puedo.\n",
    "K1= K[0, 0]; K2= K[0, 1]; K3=K[1, 0]; K4=K[1, 1];\n",
    "\n",
    "'''\n",
    "#FORMA ALTERNATIVA DE HACERLO\n",
    "def f_mimo(t, x):\n",
    "    #u(t) = Kx(t)\n",
    "    #K=       [K1 K2; K3 K4]\n",
    "    #(A+BK)=  ( [ K1 + K3,  K2 + K4 + 1]; [  K1 + 7,       K2 - 4] )\n",
    "\n",
    "    f1= (K1 + K3) * x[0] +  (K2 + K4 + 1) * x[1]\n",
    "    f2= (K1 + 7) * x[0] + (K2 - 4) * x[1]\n",
    "    return [f1, f2]  #.item()\n",
    "#################################\n",
    "#scipy.integrate.solve_ivp(fun, t_span, y0, method='RK45', t_eval=None, dense_output=False, events=None, vectorized=False, args=None, **options)\n",
    "#--------------------------------------------------------------------------------------------------------------------------------------------------------\n",
    "sol = sp.integrate.solve_ivp(f_mimo, (0, 1.5), x0, t_eval= np.arange(0, 1.5, 0.01), dense_output=True, rtol=1e-5, atol=1e-5)\n",
    "\n",
    "x1=               sol.y[0]\n",
    "x2=               sol.y[1]\n",
    "tiempo =          sol.t\n",
    "'''"
   ]
  },
  {
   "cell_type": "code",
   "execution_count": 6,
   "metadata": {
    "colab": {
     "base_uri": "https://localhost:8080/",
     "height": 564
    },
    "id": "1iChItU2ugqh",
    "outputId": "54619261-fef4-4820-f5ff-bba4bf8fae31"
   },
   "outputs": [
    {
     "name": "stdout",
     "output_type": "stream",
     "text": [
      "A = [[ -9. -15.]\n",
      "     [  1.  -1.]]\n",
      "\n",
      "B = [[1. 1.]\n",
      "     [1. 0.]]\n",
      "\n",
      "C = [[1. 3.]]\n",
      "\n",
      "D = [[0. 0.]]\n",
      "\n",
      "Los autovalores a lazo cerrado son:  [-6. -4.]\n"
     ]
    },
    {
     "data": {
      "image/png": "[encoded data removed]",
      "text/plain": [
       "<Figure size 720x360 with 2 Axes>"
      ]
     },
     "metadata": {
      "needs_background": "light"
     },
     "output_type": "display_data"
    }
   ],
   "source": [
    "A_realimentado = sys.A + sys.B*K\n",
    "C_realimentado = C + D*K\n",
    "sys_realimentado = ctrl.ss(A_realimentado, B, C_realimentado, D)\n",
    "print(sys_realimentado)\n",
    "\n",
    "print('Los autovalores a lazo cerrado son: ', np.linalg.eigvals(sys_realimentado.A))\n",
    "\n",
    "t_ini = 0\n",
    "t_final = 1.5\n",
    "t_step = 1e-3\n",
    "t = np.arange(t_ini, t_final, t_step)\n",
    "\n",
    "x0 = [2, 1] # Selecciono condiciones iniciales para el estado. Pensar: ¿por qué me da y(0) = 1?\n",
    "\n",
    "tiempo, y, estados = ctrl.initial_response(sys_realimentado, t, x0, return_x=True)\n",
    "x1= estados[0, :] \n",
    "x2= estados[1, :]\n",
    "\n",
    "fig, axs = plt.subplots(1, 2, figsize=(10,5))\n",
    "fig.suptitle('x1(t) y x2(t) con realimentacion de estados')\n",
    "axs[0].plot(tiempo, x1)\n",
    "axs[0].set_title('x1')\n",
    "axs[1].plot(tiempo, x2, 'tab:orange')\n",
    "axs[1].set_title('x2')\n",
    "\n",
    "for ax in axs.flat:\n",
    "    ax.set(xlabel='Tiempo(Seg)')\n",
    "\n",
    "# Hide x labels and tick labels for top plots and y ticks for right plots.\n",
    "fig.tight_layout()\n"
   ]
  },
  {
   "cell_type": "code",
   "execution_count": 7,
   "metadata": {
    "colab": {
     "base_uri": "https://localhost:8080/",
     "height": 373
    },
    "id": "-RiCkEgNRp24",
    "outputId": "8c531a10-e558-49ee-f76b-e73ce45b3cd9"
   },
   "outputs": [
    {
     "data": {
      "image/png": "[encoded data removed]",
      "text/plain": [
       "<Figure size 720x360 with 2 Axes>"
      ]
     },
     "metadata": {
      "needs_background": "light"
     },
     "output_type": "display_data"
    }
   ],
   "source": [
    "#Apartir de las soluciones X1 y X2 se puede obtener la señal de entrada dado que U=K*X\n",
    "#U=K*X U= [K1 K2; K3 K4]*[x1 x2]'= [ (K1*x1 + K2*x2) ; (K3*x1 + K4*x2) ]\n",
    "U1= K1*x1 + K2*x2\n",
    "U2= K3*x1 + K4*x2\n",
    "\n",
    "fig, axs = plt.subplots(1, 2, figsize=(10,5))\n",
    "fig.suptitle('U1(t) y U2(t): tal que U(t)= K.X(t)')\n",
    "axs[0].plot(tiempo, U1)\n",
    "axs[0].set_title('U1')\n",
    "axs[1].plot(tiempo, U2, 'tab:orange')\n",
    "axs[1].set_title('U2')\n",
    "\n",
    "for ax in axs.flat:\n",
    "    ax.set(xlabel='Tiempo(Seg)')\n",
    "\n",
    "# Hide x labels and tick labels for top plots and y ticks for right plots.\n",
    "fig.tight_layout()"
   ]
  },
  {
   "cell_type": "markdown",
   "metadata": {
    "id": "hcsa7D1y76au"
   },
   "source": [
    "Finalmente pongamos a la vista las respuestas temporales de las $U$ obtenidas con $K$ y $KK$, metodo teorico y por *ctrl.place()* respectivamente."
   ]
  },
  {
   "cell_type": "code",
   "execution_count": 8,
   "metadata": {
    "colab": {
     "base_uri": "https://localhost:8080/",
     "height": 0
    },
    "id": "O2DRNmrcBOPd",
    "outputId": "f5fd3fac-1c27-4b73-8ef5-2f88457d31f6"
   },
   "outputs": [
    {
     "name": "stdout",
     "output_type": "stream",
     "text": [
      "Los autovalores a lazo cerrado son:  [-6. -4.]\n"
     ]
    }
   ],
   "source": [
    "#Defino el sistema para el  KK\n",
    "A_realimentadop = sys.A + sys.B*KK\n",
    "C_realimentadop = C + D*KK\n",
    "sys_realimentadop = ctrl.ss(A_realimentadop, B, C_realimentadop, D)\n",
    "\n",
    "print('Los autovalores a lazo cerrado son: ', np.linalg.eigvals(sys_realimentadop.A))\n",
    "\n",
    "tiempo, yp, estadosp = ctrl.initial_response(sys_realimentadop, t, x0, return_x=True)\n",
    "x1p= estados[0, :] \n",
    "x2p= estados[1, :]\n"
   ]
  },
  {
   "cell_type": "markdown",
   "metadata": {
    "id": "UeNMgVfjh9ok"
   },
   "source": [
    "Luego graficando juntas las señales de entrada para $K$ y $KK$."
   ]
  },
  {
   "cell_type": "code",
   "execution_count": 9,
   "metadata": {
    "colab": {
     "base_uri": "https://localhost:8080/",
     "height": 373
    },
    "id": "lL3yyx2x8LCZ",
    "outputId": "58552fde-aba9-4710-d046-6e325882103d"
   },
   "outputs": [
    {
     "data": {
      "image/png": "[encoded data removed]",
      "text/plain": [
       "<Figure size 720x360 with 4 Axes>"
      ]
     },
     "metadata": {
      "needs_background": "light"
     },
     "output_type": "display_data"
    }
   ],
   "source": [
    "\n",
    "KK1= KK[0, 0]; KK2= KK[0, 1]; KK3=KK[1, 0]; KK4=KK[1, 1];\n",
    "\n",
    "U1p= KK1*x1p + KK2*x2p\n",
    "U2p= KK3*x1p + KK4*x2p\n",
    "\n",
    "fig, axs = plt.subplots(2, 2, figsize=(10,5))\n",
    "fig.suptitle('U1(t) y U2(t):señales de entrada')\n",
    "\n",
    "axs[0,0].plot(tiempo, U1)\n",
    "axs[0,0].set_title('U1: (U=K.X)')\n",
    "axs[0,1].plot(tiempo, U2, 'tab:orange')\n",
    "axs[0,1].set_title('U2: (U=K.X)')\n",
    "\n",
    "axs[1,0].plot(tiempo, U1p)\n",
    "axs[1,0].set_title('U1: (U=KK.X)')\n",
    "axs[1,1].plot(tiempo, U2p, 'tab:orange')\n",
    "axs[1,1].set_title('U2: (U=KK.X)')\n",
    "\n",
    "for ax in axs.flat:\n",
    "    ax.set(xlabel='Tiempo(Seg)')\n",
    "\n",
    "# Hide x labels and tick labels for top plots and y ticks for right plots.\n",
    "fig.tight_layout()"
   ]
  },
  {
   "cell_type": "markdown",
   "metadata": {
    "id": "X0-SNlwoEidj"
   },
   "source": [
    "Observando las respuestas $U_1$ Y $U_2$ para ambas constantes de realimentacion.\n",
    "\n",
    "Comparando las señales $U_1(t)$ se observa que quien requiere mayor energia es la correspondiente a $KK$ pero analizando las señales $U_2(T)$ se ve que la que requiere mayor energia es la correspondiente a $K$.\n",
    "\n",
    "Entonces mirar las señales puede ser un dificil para distintigir cual \"K\" usar ya que depende del sistema analizar cual es el mejor.\n",
    "por suerte tambien se puede usar el numero de condicion, el cual nos dice cuan disperso estan los autovalores y un criterio para saber cual es la mejor solucion.\n",
    "\n",
    "Vemos que $Cond(K) < Cond(KK)$ por lo que se puede decir que para este sistema es mejor el metodo teorico que el brindado por *place()*."
   ]
  },
  {
   "cell_type": "markdown",
   "metadata": {
    "id": "txijMXYqK5uo"
   },
   "source": [
    "## Regulación y seguimiento robusto de referencias constantes\n",
    "\n",
    "Si definimos la realimentación de estados del sistema:\n",
    "\n",
    "$$\\dot{x} = Ax+Bu$$\n",
    "$$ y = Cx + Du $$\n",
    "\n",
    "de la siguiente manera\n",
    "\n",
    "$$u(t) = Kx(t)$$\n",
    "\n",
    "El sistema a lazo cerrado queda:\n",
    "\n",
    "$$\\dot{x} = (A+BK)x$$\n",
    "$$ y = (C+DK)x $$\n",
    "\n",
    "Y por lo tanto $x \\underset{t \\to \\infty}{\\longrightarrow} 0$ y también  $y \\underset{t \\to \\infty}{\\longrightarrow} 0$, si se elije $K$ que hace exponencialmente estable al sistema a lazo cerrado.\n",
    "\n",
    "Esto muestra que todo sistema lineal a lazo cerrado exponencialmente estable genera una regulación sin error del punto de equilibrio $x = 0$.\n",
    "\n",
    "Con regulación nos referimos a la capacidad que tiene un sistema de que su salida llegue a un valor constante deseado. En el ejemplo general recién expuesto, el sistema lineal tiene buena regulación para $y = 0$.\n",
    "\n",
    "¿Qué sucede si no queremos obtener regulación en $y = 0$ solamente? Para empezar vamos a tener que poder pedirle que alcence otro valor, y ahí entra en juego la entrada de referencia. Es decir, ahora realimentaremos con:\n",
    "\n",
    "$$u(t) = Kx(t) + r(t)$$\n",
    "\n",
    "Y las ecuaciones a lazo cerrado quedan:\n",
    "\n",
    "$$\\dot{x} = (A+BK)x + Br$$\n",
    "$$ y = (C+DK)x + Dr $$\n",
    "\n",
    "Donde $r(t)$ es la entrada de ajuste de la referencia que queremos que siga la salida. Si $r(t) = r_0$ para $t \\geq 0$ entonces buscaremos la forma de lograr que $y \\underset{t \\to \\infty}{\\longrightarrow} r_0$.\n",
    "\n",
    "¿A qué valor llega realmente $y(t)$ cuando $t \\to \\infty$? Vayamos a un ejemplo concreto para responder esta pregunta, y para evaluar los métodos que nos permiten diseñar un buen regulador."
   ]
  },
  {
   "cell_type": "markdown",
   "metadata": {
    "id": "4kfi81GyQXKZ"
   },
   "source": [
    "### Ejemplo: Motor de CC\n",
    "\n",
    "Queremos controlar la posición de un motor de corriente continua y tenemos como información la siguiente transferencia aproximada, que fue obtenida experimentalmente:\n",
    "\n",
    "$$ T(s) = \\frac{\\theta(s)}{V(s)} =  \\frac{50}{s (s + 5)} $$\n",
    "\n",
    "Donde $\\theta(s)=\\mathscr{L}\\{ \\theta(t) \\}$ es el desplazamiento angular del eje respecto de un ángulo origen y $V(s) = \\mathscr{L} \\{v(t)\\}$ es la tensión de armadura aplicada. Asumamos que contamos con un actuador lineal capaz de ajustar dicha tensión y un sensor para medir el desplazamiento angular $\\theta(t)$.\n",
    "\n",
    "Vamos a obtener directamente una realización en variables de estado por computadora para simplificar el trabajo y los cálculos."
   ]
  },
  {
   "cell_type": "code",
   "execution_count": 10,
   "metadata": {
    "colab": {
     "base_uri": "https://localhost:8080/",
     "height": 0
    },
    "id": "qEHLjU4WVHV4",
    "outputId": "39cfbd0b-3356-4eaf-de34-15734fcfc4cf"
   },
   "outputs": [
    {
     "name": "stdout",
     "output_type": "stream",
     "text": [
      "T(s)= \n",
      "   50\n",
      "---------\n",
      "s^2 + 5 s\n",
      "\n",
      "A = [[-5. -0.]\n",
      "     [ 1.  0.]]\n",
      "\n",
      "B = [[1.]\n",
      "     [0.]]\n",
      "\n",
      "C = [[ 0. 50.]]\n",
      "\n",
      "D = [[0.]]\n",
      "\n"
     ]
    }
   ],
   "source": [
    "num = [50]\n",
    "den = [1, 5, 0]\n",
    "T = ctrl.tf(num, den)\n",
    "print('T(s)=', T)\n",
    "sys = ctrl.tf2ss(T)\n",
    "print(sys)"
   ]
  },
  {
   "cell_type": "markdown",
   "metadata": {
    "id": "kDgaqpyVXSE-"
   },
   "source": [
    "Analizamos el sistema: ¿Es controlable?"
   ]
  },
  {
   "cell_type": "code",
   "execution_count": 11,
   "metadata": {
    "colab": {
     "base_uri": "https://localhost:8080/",
     "height": 0
    },
    "id": "1NfC8rKwXijT",
    "outputId": "09bc863d-df33-438b-fce1-9f44340384e1"
   },
   "outputs": [
    {
     "name": "stdout",
     "output_type": "stream",
     "text": [
      "El rango de P es: 2\n"
     ]
    }
   ],
   "source": [
    "P = ctrl.ctrb(sys.A, sys.B)\n",
    "print('El rango de P es:', np.linalg.matrix_rank(P))"
   ]
  },
  {
   "cell_type": "markdown",
   "metadata": {
    "id": "5uxR9vcWXm2J"
   },
   "source": [
    "Es controlable. ¿Cuál es nuestro objetivo de control? \n",
    "\n",
    "Notar que a lazo abierto el motor presenta un polo en el origen, que viene del siguiente comportamiento: al aplicar una tensión de armadura el motor empieza a girar indefinidamente a una velocidad proporcional a dicha tensión. A lazo abierto no actúa como un regulador de posición. Tratemos de convertirlo en uno mediante realimentación de las variables de estado.\n",
    "\n",
    "Elijamos los autovalores a lazo cerrado en $\\lambda_1 = \\lambda_2 = -5$. "
   ]
  },
  {
   "cell_type": "code",
   "execution_count": 12,
   "metadata": {
    "colab": {
     "base_uri": "https://localhost:8080/",
     "height": 0
    },
    "id": "ujF3Us6iY3ml",
    "outputId": "11db4452-2364-4389-c935-b6658c0de0aa"
   },
   "outputs": [
    {
     "name": "stdout",
     "output_type": "stream",
     "text": [
      "Las ganancias del controlador son: k = [[ -5. -25.]]\n"
     ]
    }
   ],
   "source": [
    "l_closed_loop = [-5, -5]\n",
    "K = -ctrl.acker(sys.A, sys.B, l_closed_loop) #es SISO.\n",
    "print('Las ganancias del controlador son: k =', K)"
   ]
  },
  {
   "cell_type": "markdown",
   "metadata": {
    "id": "-EEqhaeiZ-5K"
   },
   "source": [
    "Verifiquemos cuál es el sistema a lazo cerrado que obtenemos con estas ganancias. ¿Quedaron los autovalores a lazo cerrado donde queremos? ¿Cuál es la respuesta a las condiciones iniciales no nulas de este sistema?"
   ]
  },
  {
   "cell_type": "code",
   "execution_count": 13,
   "metadata": {
    "colab": {
     "base_uri": "https://localhost:8080/",
     "height": 488
    },
    "id": "kOx-o73aaKhN",
    "outputId": "4cffbe40-8f84-48ed-cf12-76c641690832"
   },
   "outputs": [
    {
     "name": "stdout",
     "output_type": "stream",
     "text": [
      "A = [[-10. -25.]\n",
      "     [  1.   0.]]\n",
      "\n",
      "B = [[1.]\n",
      "     [0.]]\n",
      "\n",
      "C = [[ 0. 50.]]\n",
      "\n",
      "D = [[0.]]\n",
      "\n",
      "Los autovalores a lazo cerrado son:  [-5. -5.]\n"
     ]
    },
    {
     "data": {
      "image/png": "[encoded data removed]",
      "text/plain": [
       "<Figure size 432x288 with 1 Axes>"
      ]
     },
     "metadata": {
      "needs_background": "light"
     },
     "output_type": "display_data"
    }
   ],
   "source": [
    "A_closed_loop = sys.A+sys.B*K\n",
    "C_closed_loop = sys.C+sys.D*K\n",
    "sys_closed_loop = ctrl.ss(A_closed_loop, sys.B, C_closed_loop, sys.D)\n",
    "print(sys_closed_loop)\n",
    "\n",
    "print('Los autovalores a lazo cerrado son: ', np.linalg.eigvals(sys_closed_loop.A))\n",
    "\n",
    "t_ini = 0\n",
    "t_final = 2\n",
    "t_step = 1e-3\n",
    "t = np.arange(t_ini, t_final, t_step)\n",
    "x0 = [0, 1/50] # Selecciono condiciones iniciales para el estado. Pensar: ¿por qué me da y(0) = 1?\n",
    "_, y = ctrl.initial_response(sys_closed_loop, t, x0)\n",
    "plt.plot(t, y)\n",
    "plt.grid()\n",
    "plt.xlabel('Tiempo (s)')\n",
    "plt.ylabel(r'$y = \\theta(t)$ (s)')\n",
    "plt.title(r'Respuesta transitoria a lazo cerrado para $\\theta_0 = 1$')\n",
    "plt.show()"
   ]
  },
  {
   "cell_type": "markdown",
   "metadata": {
    "id": "WRmBE4qedyx4"
   },
   "source": [
    "Notar que como predijimos originalmente, la salida sistema a lazo cerrado converge al origen. Ahora podemos explorar qué pasa si usamos una señal de referencia $r(t) \\neq 0$. Por ejemplo, queremos llegar a $\\theta_{final} = y_{t \\to \\infty} = \\frac{pi}{2}$ y asumimos ingenuamente que el sistema va a llegar a cumplir esa condición si aplicamos un escalón de amplitud $\\frac{pi}{2}$.\n"
   ]
  },
  {
   "cell_type": "code",
   "execution_count": 14,
   "metadata": {
    "colab": {
     "base_uri": "https://localhost:8080/",
     "height": 297
    },
    "id": "GMnioBL1d20F",
    "outputId": "258b2216-ae6f-44a6-ac13-9c11ad567dda"
   },
   "outputs": [
    {
     "data": {
      "image/png": "[encoded data removed]",
      "text/plain": [
       "<Figure size 432x288 with 1 Axes>"
      ]
     },
     "metadata": {
      "needs_background": "light"
     },
     "output_type": "display_data"
    }
   ],
   "source": [
    "r_final = np.pi/2\n",
    "r = r_final*np.ones((1, len(t)))\n",
    "_ , yr = ctrl.forced_response(sys_closed_loop, t, r)\n",
    "plt.plot(t, yr, label=r'$\\theta(t)$')\n",
    "plt.plot(t, r.transpose(), label=r'$r(t)$')\n",
    "plt.grid()\n",
    "plt.legend()\n",
    "plt.xlabel('Tiempo (s)')\n",
    "plt.ylabel(r'$y = \\theta(t)$ (s)')\n",
    "plt.title(r'Respuesta al escalón con valor final $\\pi/2$ a lazo cerrado')\n",
    "plt.show()"
   ]
  },
  {
   "cell_type": "markdown",
   "metadata": {
    "id": "e1YRDj4Rg_Bj"
   },
   "source": [
    "A simple vista se nota que nuestra suposición fue errónea. La posición final del eje parece estar convergiendo a un valor distinto del esperado. ¿A qué valor parece estar llegando? Evaluemos el último valor simulado:"
   ]
  },
  {
   "cell_type": "code",
   "execution_count": 15,
   "metadata": {
    "colab": {
     "base_uri": "https://localhost:8080/",
     "height": 0
    },
    "id": "HFD2W_huhZav",
    "outputId": "31198f25-fb4b-43dd-fa96-6365ceb85101"
   },
   "outputs": [
    {
     "name": "stdout",
     "output_type": "stream",
     "text": [
      "El último valor de y(t) es: 3.140016597172135\n"
     ]
    }
   ],
   "source": [
    "print('El último valor de y(t) es:', yr[-1])"
   ]
  },
  {
   "cell_type": "markdown",
   "metadata": {
    "id": "yDrGYoqXhp1Y"
   },
   "source": [
    "¡Parecería tener una ganacia en continua cercana a 2! La forma más simple de arreglar la diferencia observada es diseñar un bloque precompensador, es decir, ajustarle la entrada de referencia en base a ese factor de corrección. Veamos cómo funciona.\n",
    "\n",
    "Si definimos $u = Kx + Er$, en donde e corrige la ganancia en continua del sistema. Se llega a:\n",
    "\n",
    "$$\\dot{x} = (A+BK)x + (BE)r$$\n",
    "$$ y = (C+DK)x + (DE)r $$\n",
    "\n",
    "En este caso, debemos multiplicar por un factor de 1/2 para eliminar el error final observado. Redefinamos el sistema a lazo cerrado con precompensación y simulemos, ahora para otro valor final para el regulador, por ejemplo, $\\theta_{final}$ = -3."
   ]
  },
  {
   "cell_type": "code",
   "execution_count": 16,
   "metadata": {
    "colab": {
     "base_uri": "https://localhost:8080/",
     "height": 295
    },
    "id": "W_b0bKmfiKNl",
    "outputId": "f16ff08d-001d-4f2d-f083-8b7edca08137"
   },
   "outputs": [
    {
     "data": {
      "image/png": "[encoded data removed]",
      "text/plain": [
       "<Figure size 432x288 with 1 Axes>"
      ]
     },
     "metadata": {
      "needs_background": "light"
     },
     "output_type": "display_data"
    }
   ],
   "source": [
    "E = 1/2 # Obtenido por exploración del valor final en la simulación\n",
    "B_prec = E*sys_closed_loop.B\n",
    "D_prec = E*sys_closed_loop.D\n",
    "sys_closed_loop_prec = ctrl.ss(sys_closed_loop.A, B_prec, sys_closed_loop.C, D_prec)\n",
    "r_final = -3\n",
    "r = r_final*np.ones((1, len(t)))\n",
    "_ , yr = ctrl.forced_response(sys_closed_loop_prec, t, r)\n",
    "plt.plot(t, yr, label=r'$\\theta(t)$')\n",
    "plt.plot(t, r.transpose(), label=r'$r(t)$')\n",
    "plt.grid()\n",
    "plt.legend()\n",
    "plt.xlabel('Tiempo (s)')\n",
    "plt.ylabel(r'$y = \\theta(t)$ (s)')\n",
    "plt.title(r'Respuesta al escalón con valor final -3 a lazo cerrado')\n",
    "plt.show()"
   ]
  },
  {
   "cell_type": "markdown",
   "metadata": {
    "id": "7BayUMlQlcVL"
   },
   "source": [
    "**Ejercicio:**\n",
    "Usá alguna de las formas propuestas en la clase teórica para obtener el valor exacto del precompensador. Resolvelo mediante la computadora y compará con el valor hallado.\n",
    "\n",
    "----\n",
    "\n",
    "**RTA:**\n",
    "\n",
    "*En la practica se a visto 2 metodos, que en escencia son lo mismo pero dado que estamos trabajando con matrices es mas directo el siguiente metodo:*\n",
    "\n",
    "Dado que hay un offset, debido a la amplitud de la trasnferencia, entonces se busca la respuesta de y(t) al escalon en tiempo infinito pero es mas facil hacerlo en el dominio de la frecuencia.\n",
    "\n",
    "Apelando al teorema del valor final:\n",
    "\n",
    "$$ lim_{t -> \\infty} y(t)= lin _{s -> 0} S.Y(s)$$\n",
    "\n",
    "Por lo que se va a querer buscar la foncion de transferencia $H=\\frac{Y(s)}{R(s)}$ de forma de obtener $Y(s)= H(s).R(s)$\n",
    "Definiendo: **$A_{des}$= A + B.K**, **$B_{des}$= B.E**, **$C_{des}$= C + D.K** y **$D_{des}$= D.E**\n",
    "\n",
    "$$ H(s)= C_{des}[sI - A_{des}]^{-1} B_{des} + D_{des} $$\n",
    "\n",
    "Como quiero que siga la referencia, escalon unitario, entonces pido $lim_{t->\\infty} y(t)= 1$, entonces:\n",
    "\n",
    "$$lim_{s -> 0} s.Y(s)= s.H(s).R(s)$$\n",
    " con $R(s)= \\frac{1}{s}$\n",
    "\n",
    "entonces la ecuacion completa es: \n",
    "$$lim_{s -> 0} s.Y(s)= s.\\{ (C+D.K) [sI - A_{des}]^{-1} B.E + D.E \\}.R(s)= 1$$\n",
    "$$= s.\\{ (C+D.K) [sI - A_{des}]^{-1} B + D\\}E.R(s)= 1$$\n",
    "reemplazo $R(s)$\n",
    "$$= s.\\{ (C+D.K) [sI - A_{des}]^{-1} B + D\\}E.\\frac{1}{s}= 1$$\n",
    "cancelo las $s$ y aplico el limite.\n",
    "$$= \\{ (C+D.K) [- A_{des}]^{-1} B + D\\}E= 1$$\n",
    "Finalmente despejo E de la ecuacion:\n",
    "$$ E= \\frac{1}{ (C+D.K) [- A_{des}]^{-1} B + D} $$\n",
    "termino de reemplazar lo que queda:\n",
    "\n",
    "$$ E= \\frac{1}{ -(C+D.K) (A+BK)^{-1} B + D} $$\n"
   ]
  },
  {
   "cell_type": "code",
   "execution_count": 17,
   "metadata": {
    "colab": {
     "base_uri": "https://localhost:8080/",
     "height": 0
    },
    "id": "FrxIEZUTlzZL",
    "outputId": "fe7075ea-0ded-4238-d2fa-87d7391705fa"
   },
   "outputs": [
    {
     "name": "stdout",
     "output_type": "stream",
     "text": [
      "El valor de E: Matrix([[1.00000000000000]])\n"
     ]
    }
   ],
   "source": [
    "# Inserta tu código aquí\n",
    "#Rescribo las matrices por problemas de paquetes.\n",
    "A = symb.Matrix( [[-10, -25], [  1,   0]] )\n",
    "B = symb.Matrix( [[1], [0]] )\n",
    "C = symb.Matrix( [[ 0, 50]] )\n",
    "D =symb.Matrix( [[0]] )\n",
    "\n",
    "E= ( D - (C + D*K) * (A + B*K).inv() * B ).inv()\n",
    "print('El valor de E:',E)\n"
   ]
  },
  {
   "cell_type": "markdown",
   "metadata": {
    "id": "YOlRC98ek-fq"
   },
   "source": [
    "Parecería que a simple vista logramos el objetivo buscado. ¿Qué problema puede tener este enfoque? \n",
    "\n",
    "¿Qué sucede si nuestra estimación de la función transferencia tenía un error? ¿o si con el pasar del tiempo el motor se degrada? Supongamos que por alguna de estas razones pasa a tener la siguiente función transferencia:\n",
    "\n",
    "$$ T(s) = \\frac{55}{s (s+5)}$$\n",
    "\n",
    "Repetimos la simulación pero con los mismos K y E diseñados originalmente:\n"
   ]
  },
  {
   "cell_type": "code",
   "execution_count": 18,
   "metadata": {
    "colab": {
     "base_uri": "https://localhost:8080/",
     "height": 295
    },
    "id": "NYojLIOgnZaZ",
    "outputId": "1fc09355-e08a-43e5-f385-2407b00396c1"
   },
   "outputs": [
    {
     "data": {
      "image/png": "[encoded data removed]",
      "text/plain": [
       "<Figure size 432x288 with 1 Axes>"
      ]
     },
     "metadata": {
      "needs_background": "light"
     },
     "output_type": "display_data"
    }
   ],
   "source": [
    "num = [55]\n",
    "den = [1, 5, 0]\n",
    "T = ctrl.tf(num, den)\n",
    "sys = ctrl.tf2ss(T)\n",
    "A_closed_loop = sys.A+sys.B*K\n",
    "C_closed_loop = sys.C+sys.D*K\n",
    "B_closed_loop = sys.B*E\n",
    "D_closed_loop = sys.D*E\n",
    "sys_closed_loop_prec = ctrl.ss(A_closed_loop, B_closed_loop, C_closed_loop, D_closed_loop)\n",
    "r_final = -3\n",
    "r = r_final*np.ones((1, len(t)))\n",
    "_ , yr = ctrl.forced_response(sys_closed_loop_prec, t, r)\n",
    "plt.plot(t, yr, label=r'$\\theta(t)$')\n",
    "plt.plot(t, r.transpose(), label=r'$r(t)$')\n",
    "plt.grid()\n",
    "plt.legend()\n",
    "plt.xlabel('Tiempo (s)')\n",
    "plt.ylabel(r'$y = \\theta(t)$ (s)')\n",
    "plt.title(r'Respuesta al escalón con valor final -3 a lazo cerrado y motor con cambios')\n",
    "plt.show()"
   ]
  },
  {
   "cell_type": "markdown",
   "metadata": {
    "id": "o8SLxIETomBs"
   },
   "source": [
    "Notamos que el sistema no va a poder tener una buena regulación. Para lograr esto vamos a tener que recurrir al otro método propuesto en la teórica.\n"
   ]
  },
  {
   "cell_type": "markdown",
   "metadata": {
    "id": "ytCsjGfXpckT"
   },
   "source": [
    "### Motor de CC con seguimiento de referencia robusto\n",
    "\n",
    "El esquema de control propuesto es el de la siguiente figura:\n",
    "\n",
    "<figure>\n",
    "<center>\n",
    "<img src='https://drive.google.com/uc?id=1xPUFeSKUKmRiAqr8GLJCyK7286iVLvwb' width='700'/>\n",
    "<figcaption>Realimentación de variables de estado con acción integral</figcaption></center>\n",
    "</figure>\n",
    "\n",
    "Debemos agrandar el vector de estado de acuerdo a lo visto en la clase teórica. Queda:\n",
    "\n",
    "$$ \\tilde{x} = \\begin{bmatrix} x \\\\ x_a \\end{bmatrix} $$\n",
    "\n",
    "Para diseñar el control necesitamos definir primero el sistema con estado aumentado:\n",
    "\n",
    "$$ \\dot{\\tilde{x}} = \\begin{bmatrix} A & 0\\\\ -C & 0\\end{bmatrix} x + \\begin{bmatrix} B \\\\ -D \\end{bmatrix} u(t) + \\begin{bmatrix} 0 \\\\ 1\\end{bmatrix} r(t)$$\n",
    "\n",
    "Y al calcular K se llega al sistema completo a lazo cerrado y con acción integral:\n",
    "\n",
    "$$ \\dot{\\tilde{x}} = \\begin{bmatrix} A+BK & BK_a\\\\ -C-DK & -DK_a\\end{bmatrix} x + \\begin{bmatrix} 0 \\\\ 1 \\end{bmatrix} r(t)$$\n",
    "\n",
    "que nos va a servir para realizar simulaciones.\n",
    "\n",
    "Armemos la matriz por computadora y calculemos el vector de ganancias aumentado:\n",
    "\n",
    "$$ \\tilde{K} = \\begin{bmatrix} K & K_a\\end{bmatrix} $$\n",
    "\n",
    "Redefinimos los dos sistemas, el original y el que resulta de un posible corrimiento de un parámetro medido."
   ]
  },
  {
   "cell_type": "code",
   "execution_count": 19,
   "metadata": {
    "colab": {
     "base_uri": "https://localhost:8080/",
     "height": 0
    },
    "id": "NWsZC97xsh0r",
    "outputId": "9c2dca70-bdd7-4f34-d6f9-0909512b6cf4"
   },
   "outputs": [
    {
     "name": "stdout",
     "output_type": "stream",
     "text": [
      "Requirement already satisfied: control in c:\\users\\brian\\anaconda3\\lib\\site-packages (0.9.0)\n",
      "Requirement already satisfied: scipy in c:\\users\\brian\\anaconda3\\lib\\site-packages (from control) (1.2.1)\n",
      "Requirement already satisfied: matplotlib in c:\\users\\brian\\anaconda3\\lib\\site-packages (from control) (3.1.0)\n",
      "Requirement already satisfied: numpy in c:\\users\\brian\\anaconda3\\lib\\site-packages (from control) (1.16.4)\n",
      "Requirement already satisfied: cycler>=0.10 in c:\\users\\brian\\anaconda3\\lib\\site-packages (from matplotlib->control) (0.10.0)\n",
      "Requirement already satisfied: kiwisolver>=1.0.1 in c:\\users\\brian\\anaconda3\\lib\\site-packages (from matplotlib->control) (1.1.0)\n",
      "Requirement already satisfied: pyparsing!=2.0.4,!=2.1.2,!=2.1.6,>=2.0.1 in c:\\users\\brian\\anaconda3\\lib\\site-packages (from matplotlib->control) (2.4.0)\n",
      "Requirement already satisfied: python-dateutil>=2.1 in c:\\users\\brian\\anaconda3\\lib\\site-packages (from matplotlib->control) (2.8.0)\n",
      "Requirement already satisfied: six in c:\\users\\brian\\anaconda3\\lib\\site-packages (from cycler>=0.10->matplotlib->control) (1.12.0)\n",
      "Requirement already satisfied: setuptools in c:\\users\\brian\\anaconda3\\lib\\site-packages (from kiwisolver>=1.0.1->matplotlib->control) (41.0.1)\n",
      "T(s)= \n",
      "   50\n",
      "---------\n",
      "s^2 + 5 s\n",
      "\n",
      "T_delta(s)= \n",
      "   55\n",
      "---------\n",
      "s^2 + 5 s\n",
      "\n"
     ]
    }
   ],
   "source": [
    "!pip install control\n",
    "import control as ctrl\n",
    "import numpy as np\n",
    "import matplotlib.pyplot as plt\n",
    "\n",
    "num = [50]\n",
    "den = [1, 5, 0]\n",
    "T = ctrl.tf(num, den)\n",
    "delta = 5\n",
    "T_delta = ctrl.tf(num[0]+delta, den)\n",
    "print('T(s)=', T)\n",
    "print('T_delta(s)=', T_delta)\n",
    "sys = ctrl.tf2ss(T)\n",
    "sys_delta = ctrl.tf2ss(T_delta)"
   ]
  },
  {
   "cell_type": "markdown",
   "metadata": {
    "id": "jtn0NfDMvncV"
   },
   "source": [
    "Como tenemos que hallar una ganancia adicional, le pasamos tres autovalores en lugar de dos. Con ellos, calculamos las ganancias de la realimentación de estados y la descomponemos en sus dos partes."
   ]
  },
  {
   "cell_type": "code",
   "execution_count": 20,
   "metadata": {
    "colab": {
     "base_uri": "https://localhost:8080/",
     "height": 0
    },
    "id": "WItRJO9dvpl7",
    "outputId": "d7c49bf6-68de-4388-fce0-212af900c0cd"
   },
   "outputs": [
    {
     "name": "stdout",
     "output_type": "stream",
     "text": [
      "Las ganancias del controlador son: k = [[-10.  -75.    2.5]]\n"
     ]
    }
   ],
   "source": [
    "l_closed_loop = [-5, -5, -5]\n",
    "A_tilde = np.bmat([[sys.A, np.zeros((2,1))],[-sys.C, np.zeros((1,1))]])\n",
    "B_tilde = np.bmat([[sys.B], [-sys.D]])\n",
    "K_tilde = -ctrl.acker(A_tilde, B_tilde, l_closed_loop)\n",
    "print('Las ganancias del controlador son: k =', K_tilde)\n",
    "\n",
    "K = K_tilde[0, 0:-1]\n",
    "K_a = K_tilde[0, -1]"
   ]
  },
  {
   "cell_type": "markdown",
   "metadata": {
    "id": "dTD_3uJT4qkt"
   },
   "source": [
    "A continuación, podemos definir el sistema a lazo cerrado con la acción integral calculada, de acuerdo a la ecuación del sistema antes escrita. Hacemos lo mismo para el sistema que tiene un pequeño corrimiento en un parámetro."
   ]
  },
  {
   "cell_type": "code",
   "execution_count": 21,
   "metadata": {
    "colab": {
     "base_uri": "https://localhost:8080/",
     "height": 0
    },
    "id": "3v9kCjmV4oUA",
    "outputId": "b2a4054b-06ae-4dfb-e979-0f6f6751ed44"
   },
   "outputs": [
    {
     "name": "stdout",
     "output_type": "stream",
     "text": [
      "El sistema a lazo cerrado con acción integral es:  A = [[-15.  -75.    2.5]\n",
      "     [  1.    0.    0. ]\n",
      "     [  0.  -50.   -0. ]]\n",
      "\n",
      "B = [[0.]\n",
      "     [0.]\n",
      "     [1.]]\n",
      "\n",
      "C = [[ 0. 50.  0.]]\n",
      "\n",
      "D = [[0.]]\n",
      "\n",
      "El sistema (+delta) a lazo cerrado con acción integral es:  A = [[-15.  -75.    2.5]\n",
      "     [  1.    0.    0. ]\n",
      "     [  0.  -55.   -0. ]]\n",
      "\n",
      "B = [[0.]\n",
      "     [0.]\n",
      "     [1.]]\n",
      "\n",
      "C = [[ 0. 55.  0.]]\n",
      "\n",
      "D = [[0.]]\n",
      "\n"
     ]
    }
   ],
   "source": [
    "A_closed_loop = np.bmat([[sys.A+sys.B*K, sys.B*K_a], [-sys.C-sys.D*K, -sys.D*K_a]])\n",
    "B_closed_loop = np.bmat([[np.zeros((2,1))],[np.ones((1,1))]])\n",
    "C_closed_loop = np.bmat([[sys.C, np.zeros((1,1))]])\n",
    "D_closed_loop = np.zeros((1,1))\n",
    "sys_closed_loop = ctrl.ss(A_closed_loop, B_closed_loop, C_closed_loop, D_closed_loop)\n",
    "print('El sistema a lazo cerrado con acción integral es: ', sys_closed_loop)\n",
    "\n",
    "A_closed_loop_delta = np.bmat([[sys_delta.A+sys_delta.B*K, sys_delta.B*K_a], [-sys_delta.C-sys_delta.D*K, -sys_delta.D*K_a]])\n",
    "B_closed_loop_delta = np.bmat([[np.zeros((2,1))],[np.ones((1,1))]])\n",
    "C_closed_loop_delta = np.bmat([[sys_delta.C, np.zeros((1,1))]])\n",
    "D_closed_loop_delta = np.zeros((1,1))\n",
    "sys_closed_loop_delta = ctrl.ss(A_closed_loop_delta, B_closed_loop_delta, C_closed_loop_delta, D_closed_loop_delta)\n",
    "print('El sistema (+delta) a lazo cerrado con acción integral es: ', sys_closed_loop_delta)"
   ]
  },
  {
   "cell_type": "markdown",
   "metadata": {
    "id": "y2EYZ3v85OTx"
   },
   "source": [
    "Nos queda comparar las respuestas al escalón en ambos casos. Lo hacemos para obtener la misma salida del caso del precompensador: $\\theta_{final} = -3$.\n"
   ]
  },
  {
   "cell_type": "code",
   "execution_count": 22,
   "metadata": {
    "colab": {
     "base_uri": "https://localhost:8080/",
     "height": 295
    },
    "id": "X8GKqDvt5qA_",
    "outputId": "2d329ec3-5f05-4d17-b60b-7f2a574d412b"
   },
   "outputs": [
    {
     "data": {
      "image/png": "[encoded data removed]",
      "text/plain": [
       "<Figure size 432x288 with 1 Axes>"
      ]
     },
     "metadata": {
      "needs_background": "light"
     },
     "output_type": "display_data"
    }
   ],
   "source": [
    "t_ini = 0\n",
    "t_final = 2\n",
    "t_step = 1e-3\n",
    "t = np.arange(t_ini, t_final, t_step)\n",
    "r_final = -3\n",
    "r = r_final*np.ones((1, len(t)))\n",
    "_ , yr = ctrl.forced_response(sys_closed_loop, t, r)\n",
    "_ , yr_delta = ctrl.forced_response(sys_closed_loop_delta, t, r)\n",
    "plt.plot(t, yr, label=r'$\\theta(t)$')\n",
    "plt.plot(t, yr_delta, label=r'$\\theta_{\\delta}(t)$')\n",
    "plt.plot(t, r.transpose(), label=r'$r(t)$')\n",
    "plt.grid()\n",
    "plt.legend()\n",
    "plt.xlabel('Tiempo (s)')\n",
    "plt.ylabel(r'$y = \\theta(t)$ (s)')\n",
    "plt.title(r'Respuesta al escalón con valor final -3 a lazo cerrado para el sistema original y el corrido')\n",
    "plt.show()\n"
   ]
  },
  {
   "cell_type": "markdown",
   "metadata": {
    "id": "lyyHh16y6XEF"
   },
   "source": [
    "Notamos que para ambos casos se alcanza el valor final sin error, aunque uno de ellos parece tener una respuesta un poco más rápida que el otro, posiblemente debido al corrimiento del sistema a controlar propuesto."
   ]
  },
  {
   "cell_type": "markdown",
   "metadata": {
    "id": "qblGGp3N54jN"
   },
   "source": [
    "## Tarea\n",
    "\n",
    "**Ejercicio 1:**\n",
    "\n",
    "Simulación del ejercicio de realimentación MIMO (ver enunciado al inicio del notebook).\n",
    "\n",
    "**Ejercicio 2:**\n",
    "\n",
    "Cálculo teórico del precompensador del ejemplo y verificación por simulación."
   ]
  }
 ],
 "metadata": {
  "colab": {
   "collapsed_sections": [],
   "name": "clase12_colab.ipynb",
   "provenance": []
  },
  "kernelspec": {
   "display_name": "Python 3",
   "language": "python",
   "name": "python3"
  },
  "language_info": {
   "codemirror_mode": {
    "name": "ipython",
    "version": 3
   },
   "file_extension": ".py",
   "mimetype": "text/x-python",
   "name": "python",
   "nbconvert_exporter": "python",
   "pygments_lexer": "ipython3",
   "version": "3.7.3"
  }
 },
 "nbformat": 4,
 "nbformat_minor": 1
}
