{
 "cells": [
  {
   "cell_type": "markdown",
   "metadata": {
    "id": "DSEobE7YR-9N"
   },
   "source": [
    "# Clase 2: Modelos en variables de estado\n",
    "\n",
    "La clase pasada vimos cómo resolver un problema de control (aunque no con la solución más típica). Diseñamos una especie de compensador que permitía anular una perturbación de un sistema, en base al problema que tenía Ogata en la fábrica con un puente grúa. Pasamos por todos los pasos del proceso de diseño en ingeniería de control (y en realidad de muchas otras áreas dentro de la ingeniería), quizás sin darnos cuenta:\n",
    "\n",
    "1. Modelado\n",
    "2. Análisis\n",
    "3. Diseño\n",
    "4. Implementación y análisis de los resultados (aunque de manera simulada)\n",
    "\n",
    "De paso, usamos el ejercicio para repasar algunas herramientas de análisis básicas en control clásico.\n",
    "\n",
    "El problema fue resuelto desde el punto de vista de la función de transferencia, que es un modelo que relaciona entradas y salidas. Es el método usual del control clásico: primero plantear la ecuación o ecuaciones diferenciales del sistema (o en diferencias) y luego transformar al dominio de Laplace o de la frecuencia compleja s (o z) para realizar el análisis, y a partir de ahí, proponer soluciones.\n",
    "\n",
    "El último ítem del problema, introducía otro tipo de modelo, que es uno en el dominio del tiempo: la ecuación de estado.\n",
    "\n",
    "## Ecuación de estado\n",
    "\n",
    "En este \"nuevo\" enfoque vamos a describir a un sistema en el dominio del tiempo y a partir de la famosa ecuación de estado, que es nada mas y nada menos que $n$ ecuaciones diferenciales de primer orden para el caso de un sistema descripto por $n$ variables de estado. Pero no tienen cualquier forma esas $n$ ecuaciones diferenciales.\n",
    "\n",
    "En general, en muchos sistemas de variables concentradas podremos llegar a ecuaciones diferenciales de primer orden de este estilo:\n",
    "\n",
    "$$ \\frac{d x_{1}}{d t} = f_{1}(x_1(t), x_2(t), \\dots, x_n(t),t,u)$$\n",
    "$$ \\vdots $$\n",
    "$$ \\frac{d x_{n}}{d t} = f_{n}(x_1(t), x_2(t), \\dots, x_n(t),t,u)$$\n",
    "\n",
    "Por simplicidad $u$ la consideramos de dimensión 1, es decir única entrada. Estas ecuaciones dependen de funciones arbitrarias $f_{1} \\dots f_{n}$, e indirectamente dependen de las variables $x_{1}\\dots x_{n}$, llamadas variables de estado.\n",
    "\n",
    "Es una manera complicada de decir que la ecuación de estado relaciona la derivada en el tiempo de cada una de estas variables de estado, con la variable misma, las otras variables, la entrada o entradas y el tiempo. Si llegamos a dicha relación, todas esas ecuaciones forman la ecuación de estados, que en forma vectorial se escribe como:\n",
    "\n",
    "$$ \\frac{d \\mathbf{x}}{d t} = \\mathbf{f} (\\mathbf{x}, u, t) $$\n",
    "\n",
    "Donde $\\mathbf{x}$ es el vector de estado del sistema:\n",
    "\n",
    "$$\\mathbf{x} = \\begin{bmatrix} x_{1} \\\\ x_{2} \\\\  \\vdots\\\\  x_{n} \\end{bmatrix}$$\n",
    "\n",
    "Formado por las $n$ variables de estado.\n",
    "\n",
    "Hablamos del estado del sistema, o vector de estado, como el valor que toman dichas variables en un instante de tiempo dado:\n",
    " \n",
    "$$\\mathbf{x}(t_0) = \\begin{bmatrix} x_{1}(t_0) \\\\ x_{2}(t_0) \\\\  \\vdots\\\\  x_{n}(t_0) \\end{bmatrix}$$\n",
    "\n",
    "Y en general, en función del tiempo t cuando nos referimos a las soluciones de la ecuación de estado, dada una condición inicial $\\mathbf{x}_0 = \\mathbf{x}(t_0)$ y una entrada $u(t)$:\n",
    "\n",
    "$$\\mathbf{x}(t) = \\begin{bmatrix} x_{1}(t) \\\\ x_{2}(t) \\\\  \\vdots\\\\  x_{n}(t) \\end{bmatrix}$$\n",
    "\n",
    "Nos referiremos a éstas como trayectoria en el espacio de estado determinada por las soluciones $x_1(t) \\dots x_n(t)$, componentes del vector de estado solución.\n",
    "\n",
    "### Modelo interno\n",
    "\n",
    "Notar que hasta ahora no hablamos de la señal o variable de salida. ¿Qué define la salida? En general, es una variable física de interés que eventualmente en esta materia vamos a querer controlar. Por ejemplo, la tensión en el capacitor de salida de una fuente, la temperatura o temperaturas de un sistema térmico, las corrientes en un motor trifásico, o las coordenadas que definen la orientación en un satélite.\n",
    "\n",
    "Eso significa que, en el caso más general que presentamos, podremos tener $l$ variables de interés y queda definida la salida de la siguiente forma:\n",
    "\n",
    "$$ \\mathbf{y} = \\begin{bmatrix} y_1 \\\\ \\vdots \\\\ y_l \\end{bmatrix} = \\begin{bmatrix} g_1(x_1, \\dots, x_n, u, t) \\\\ \\vdots \\\\ g_l(x_1, \\dots, x_n, u, t) \\end{bmatrix}$$\n",
    "\n",
    "Además, esto nos muestra que la salida está formada por información del vector de estado. \n",
    "\n",
    "Es por eso, que los modelos en variables de estado definen un modelo con información interna al sistema, además de dejar claramente definidas entradas y salidas. \n",
    "\n",
    "Con el modelo de función de transferencia, además de perder información sobre la condición inicial del sistema, también se puede estar perdiendo información importante sobre variables internas del sistema. Esta es otra ventaja del modelo en variables de estado.\n",
    "\n",
    "### Caso lineal\n",
    "\n",
    "Para los sistemas lineales, las funciones $f_i$ y $g_j$ de las ecuaciones de estado, son combinaciones lineales de las variables de estado y de las entradas, y se pueden simplificar como se indica a continuación:\n",
    "\n",
    "Ecuación de estado\n",
    "\n",
    "$$ \\frac{d \\mathbf{x}}{d t} = \\mathbf{A}(t) \\mathbf{x} + \\mathbf{B}(t) \\mathbf{u} $$\n",
    "\n",
    "Ecuación de salida\n",
    "\n",
    "$$ \\mathbf{y} = \\mathbf{C}(t) \\mathbf{x} + \\mathbf{D}(t) \\mathbf{u} $$\n",
    "\n",
    "Ahora, ¿qué son las variables de estado? Vayamos a un ejemplo físico intuitivo, aunque después veremos que no necesariamente las variables de estado van a tener un correlato o una interpretación física.\n",
    "\n",
    "Probablemente en el futuro eliminemos la notación en negrita para los vectores y matrices para simplificar, pero deberemos estar atentos a las dimensiones de las variables y constantes en cada caso.\n",
    "\n",
    "### Ejemplo intuitivo\n",
    "\n",
    "Tomemos un circuito RC sin entrada, con una condición inicial data por la tensión en el capacitor $v_C(0)=1~$V:\n",
    "\n",
    "<figure>\n",
    "<center>\n",
    "<img src='https://drive.google.com/uc?id=1upxlMzJH-KvxEFsStUZu0Qe7kcxm8qIs' />\n",
    "<figcaption>Circuito RC</figcaption></center>\n",
    "</figure>\n",
    "\n",
    "La ecuación de este sistema, es la siguiente (demostrar):\n",
    "\n",
    "$$ \\frac{dv_C}{dt} = -\\frac{1}{RC} v_C $$\n",
    "\n",
    "Y sin duda, ésta es una ecuación de estado del sistema y la variable de estado es $v_C$. Como sabemos (demostrar) la solución para la condición inicial dada:\n",
    "\n",
    "$$ v_C(t) = e^{-t/RC}, t \\geq 0$$\n",
    "\n",
    "Que es solución de la ecuación de estado.\n",
    "\n",
    "La intuición con este problema, ya muy analizado en nuestra carrera, nos indica que conocido el valor de $v_C$ en un instante determinado $t_1$, la evolución del sistema queda determinada para $t > t_1$. Y esa es la idea o el concepto de variable de estado, y de vector de estado en sistemas de mayor orden. El vector de estado contiene todas las variables importantes del sistema y la ecuación de estado determina la relación entre dichas variables, y la entrada o entradas, que en este ejemplo fue omitida para simplificarlo.\n",
    "\n",
    "\n",
    "Suficiente introducción teórica. ¡Manos a la obra! Empecemos por un ejemplo de la guía de ejercicios."
   ]
  },
  {
   "cell_type": "markdown",
   "metadata": {
    "id": "gZoXdZygR-9P"
   },
   "source": [
    "## Ejemplo: \n",
    "\n",
    "Con este ejemplo buscamos:\n",
    "* Empezar con un modelo simple e intuitivo en variables de estado\n",
    "* Analizar el orden de un modelo\n",
    "* Introducir los diagramas de simulación\n",
    "\n",
    "<figure>\n",
    "<center>\n",
    "<img src='https://drive.google.com/uc?id=1Azll11-l10caRq50Be8j2DAw8lyO40v1' />\n",
    "<figcaption>Ejercicio 1</figcaption></center>\n",
    "</figure>\n",
    "\n",
    "Este ejercicio ya fue expuesto en la clase teórica. Lo repetimos a manera de repaso. Tratemos de ir planteando los diagramas de simulación en cada caso y repasar el concepto de orden del sistema, es decir la cantidad de condiciones iniciales para obtener $y(t)$ en cada caso.\n",
    "\n",
    "a) $u = F$  con  $y = \\dot{x}$\n",
    "\n",
    "Nos interesa (salida) la velocidad de la masa. Entonces, al menos su velocidad debe ser variable de estado.\n",
    "\n",
    "$$ x_1 = \\dot{x} $$\n",
    "\n",
    "Y la física del problema, nos indica que $F = u = M \\ddot{x}$, que es la ecuación de estado. Es decir:\n",
    "\n",
    "$$ \\dot{x}_1 = \\frac{u}{M} $$\n",
    "\n",
    "Y su ecuación de salida es:\n",
    "\n",
    "$$ y = \\dot{x}_1 $$\n",
    "\n",
    "Es decir:\n",
    "\n",
    "$$ \\mathbf{A} = 0 $$\n",
    "$$ \\mathbf{B} = 1/M $$\n",
    "$$ \\mathbf{C} = 1 $$\n",
    "$$ \\mathbf{D} = 0 $$\n",
    "\n",
    "El diagrama de simulación es:\n",
    "\n",
    "<figure>\n",
    "<center>\n",
    "<img src='https://drive.google.com/uc?id=1X7h6S93sKtDQDFa0EvBEXP3wTaYZC9da' />\n",
    "<figcaption>Ejercicio 1 a): Diagrama de simulación</figcaption></center>\n",
    "</figure>\n",
    "\n",
    "**Para pensar:**\n",
    "\n",
    "* ¿Cuántas condiciones iniciales son necesarias para hallar $y(t)$?\n",
    "\n",
    "    *Necesito una condicion inicial, necesito la velocidad inicial*\n",
    "\n",
    "* ¿Cómo deberías definir el vector de estado para que el bloque $\\frac{1}{M}$ quede del otro lado del integrador en el diagrama de simulación?\n",
    "\n",
    "    *Con definir x_1=M $\\dot{x}$*\n",
    "* ¿Podrías haber definido una ecuación de estado de mayor orden? Si no se te ocurre, mirá el siguiente caso y volvé a pensarlo.\n",
    "\n",
    "    *Si. simplemente eligiciendo las posicion y velocidad como variables de estado y de ahi eligiendo la matriz C para tener la salida indicada*\n",
    "\n",
    "b) $u = F$  con  $y = x$\n",
    "\n",
    "En este caso, la variable de interés es la posición de la masa. Empezamos entonces por definirla como variable de estado:\n",
    "\n",
    "$$ x_1 = x $$\n",
    "\n",
    "Esta hace que quede definida una ecuación de estado:\n",
    "\n",
    "$$ \\dot{x}_1 = \\dot{x} $$\n",
    "\n",
    "Y aparece la velocidad, que también tendremos que definir como variable de estado para que la ecuación anterior sea parte de una ecuación de estado. Es decir:\n",
    "\n",
    "$$ x_2 = \\dot{x} $$\n",
    "\n",
    "tal que\n",
    "\n",
    "$$ \\dot{x}_1 = x_2$$\n",
    "\n",
    "Y al ser variable de estado, también es necesario que:\n",
    "\n",
    "$$ \\dot{x}_2 = \\ddot{x} = \\frac{u}{M}$$\n",
    "\n",
    "Y con estas últimas dos ecuaciones diferenciales de primer orden, llegamos a la ecuación de estado:\n",
    "\n",
    "$$\\mathbf{\\dot{x}} = \\begin{bmatrix}\\dot{x}_1\\\\\\dot{x}_2\\end{bmatrix}= \\begin{bmatrix} 0 & 1 \\\\ 0 & 0 \\end{bmatrix} \\mathbf{x} +  \\begin{bmatrix}0\\\\1/M\\end{bmatrix} u$$\n",
    "\n",
    "Y la ecuación de salida queda:\n",
    "\n",
    "$$ y = x_1 $$\n",
    "\n",
    "Es decir:\n",
    "\n",
    "$$ \\mathbf{A} = \\begin{bmatrix}0 & 1\\\\0 & 0\\end{bmatrix} $$\n",
    "$$ \\mathbf{B} = \\begin{bmatrix}0 \\\\ 1/M \\end{bmatrix} $$\n",
    "$$ \\mathbf{C} = \\begin{bmatrix} 1 & 0\\end{bmatrix} $$\n",
    "$$ \\mathbf{D} = 0 $$\n",
    "\n",
    "El diagrama de simulación es:\n",
    "\n",
    "<figure>\n",
    "<center>\n",
    "<img src='https://drive.google.com/uc?id=1E6nHPBonAvHbs-FUy96Osxo4OZumUk1_' />\n",
    "<figcaption>Ejercicio 1 b): Diagrama de simulación</figcaption></center>\n",
    "</figure>\n",
    "\n",
    "**Responder:**\n",
    "\n",
    "* ¿Cómo se llama esa asignación de variables de estado?\n",
    "\n",
    "    *...canonica?...BUSCAR*\n",
    "* ¿Cuántas condiciones iniciales son necesarias para hallar $y(t)$ en este caso?\n",
    "\n",
    "    *Dos, la velocidad inicial y la posicion inicial.*\n",
    "\n",
    "**Ejercicio**\n",
    "\n",
    "Terminá de resolver el ejercicio:\n",
    "\n",
    "c) $u = F$  con  $y = \\ddot{x}$\n",
    "\n",
    "sera:\n",
    "\n",
    "$$ y=\\frac{1}{M}u $$\n",
    "este sistema no tiene dinamica, si tuviera que expresarlo en forma matricial la matriz **B= 0_{1x2}** y la matriz **D=1/M**"
   ]
  },
  {
   "cell_type": "markdown",
   "metadata": {
    "id": "dGO_orKGR-9Q"
   },
   "source": [
    "## Ejemplo: \n",
    "\n",
    "Con este ejemplo buscamos:\n",
    "* Seguir practicando con modelos en variables de estado\n",
    "* Evaluar la reducción de orden de un modelo\n",
    "\n",
    "<figure>\n",
    "<center>\n",
    "<img src='https://drive.google.com/uc?id=12ZZF-o797o6AKPHSzsra_8tGEa9WXXja' />\n",
    "<figcaption>Ejercicio 2</figcaption></center>\n",
    "</figure>\n",
    "\n",
    "Para ambos casos a) y b), debemos primero plantear las ecuaciones físicas. Asumiremos que ambas masas se encuentran en la posición de equilibrio, y como son puntuales es el origen de coordenadas.\n",
    "\n",
    "**Ejercicio**\n",
    "\n",
    "Verificá analíticamente que llegás a las siguientes ecuaciones:\n",
    "\n",
    "$$ F - K (x_1 - x_2) - B (\\dot{x}_1 - \\dot{x_2}) = M_1 \\ddot{x}_1 $$\n",
    "$$ K (x_1 - x_2) + B (\\dot{x}_1 - \\dot{x}_2) = M_2 \\ddot{x}_2 $$\n",
    "\n",
    "Nos preguntamos cuántas y qué variables de estado necesitamos utilizar en el modelo para poder obtener $y = x_1$ como variable de salida, o sea la posición de la masa $M_1$.\n",
    "\n",
    "Por defecto, y si nos guiamos por el ejercicio anterior con un sistema de posicionamiento de masas puntuales, deberíamos utilizar posición y velocidad de cada masa como variables de estado, es decir:\n",
    "\n",
    "$$ \\mathbf{z} = \\begin{bmatrix} x_1\\\\ \\dot{x}_1\\\\  x_2 \\\\ \\dot{x}_2 \\end{bmatrix} $$\n",
    "\n",
    "Notar que podríamos definirlas en otro orden y las ecuaciones de estado serían distintas.\n",
    "\n",
    "**Ejercicio**\n",
    "\n",
    "Demostrá que:\n",
    "\n",
    "**RTA:**\n",
    "reordenamos las ecuaciones\n",
    "$$ \\ddot{x}_1= \\frac{F}{M_1} -\\frac{K}{M_1} (x_1 - x_2) -\\frac{B}{M_1} (\\dot{x}_1 - \\dot{x_2})  $$\n",
    "$$ \\ddot{x}_2= \\frac{K}{M_2} (x_1 - x_2) + \\frac{B}{M_2} (\\dot{x}_1 - \\dot{x}_2)  $$\n",
    "\n",
    "reemplazamos por las variables de estado seleccionadas.\n",
    "\n",
    "$$ \\dot{z}_2= \\frac{F}{M_1} -\\frac{K}{M_1} (z_1 - z_3) -\\frac{B}{M_1} (z_2 - z_4)  $$\n",
    "$$ \\dot{z}_4= \\frac{K}{M_2} (z_1 - z_3) + \\frac{B}{M_2} (z_2 - z_4)  $$\n",
    "\n",
    "y luego visto en forma matricial sera:\n",
    "\n",
    "$$ \\mathbf{A} = \\begin{bmatrix} 0 & 1 & 0 & 0 \\\\ -K/M_1 & -B/M_1 & K/M_1 & B/M_1\\\\ 0 & 0 & 0 & 1\\\\ K/M_2 & B/M_2 & -K/M_2 & -B/M_2 \\end{bmatrix} $$\n",
    "\n",
    "$$ \\mathbf{B} = \\begin{bmatrix} 0 \\\\ 1/M_1 \\\\ 0 \\\\ 0 \\end{bmatrix}$$\n",
    "\n",
    "**Ejercicio**\n",
    "\n",
    "¿Cómo queda la ecuación de salida en el caso a) y el caso b)?\n",
    "\n",
    "**RTA-a)**\n",
    "\n",
    "$$ \\mathbf{y} =\\begin{bmatrix}1& 0& 0& 0\\end{bmatrix} \\begin{bmatrix} x_1\\\\ \\dot{x}_1\\\\  x_2 \\\\ \\dot{x}_2 \\end{bmatrix} $$\n",
    "\n",
    "En el caso b) debemos observar que el sistema tiene 4 variables de estado, pero en realidad, si lo que importa es la posición relativa de las dos masas, hay un sistema de menor órden que representa ese problema. Acá van unas pistas.\n",
    "\n",
    "Planteá como variable de estado:\n",
    "\n",
    "$$ w_1 = y = x_1 - x_2 $$\n",
    "\n",
    "Notá que la ecuación de estado, deberá contener:\n",
    "\n",
    "$$ \\dot{w}_1 = \\dot{x}_1 - \\dot{x}_2 = w_2 $$\n",
    "\n",
    "**RTA-b)**\n",
    "\n",
    "$$ \\mathbf{w} =\\begin{bmatrix} x_1-x_2\\\\ \\dot{w}_1\\\\ \\dot{w}_2 \\end{bmatrix} $$\n",
    "entonces habrá que reordenar las ecuaciones que teniamos para poder crear nuestra nueva representacion en espacio de estados.\n",
    "en este caso coinciden las cantidades de variables de estado con el numero de condiciones iniciales.\n",
    "\n",
    "$$ \\begin{bmatrix} \\dot{w}_1\\\\ \\dot{w}_2\\\\ \\dot{w}_3 \\end{bmatrix} =\n",
    "   \\begin{bmatrix} 0 & -1& 1\\\\ \\frac{K}{M_1} & -\\frac{B}{M_1}& \\frac{B}{M_1}\\\\ -\\frac{K}{M_2} & \\frac{B}{M_2}& -\\frac{B}{M_2} \\end{bmatrix} \n",
    "   \\begin{bmatrix} w_1\\\\ w_2\\\\ w_3 \\end{bmatrix} + \\begin{bmatrix} 0\\\\ \\frac{1}{M_1}\\\\ 0 \\end{bmatrix}\n",
    "$$\n",
    "\n",
    "$$ \\mathbf{y} = \\begin{bmatrix} 1& 0& 0 \\end{bmatrix} \\begin{bmatrix} w_1\\\\ w_2\\\\  w_3  \\end{bmatrix} $$\n",
    "**Ejercicio**\n",
    "\n",
    "¿Podés hallar $\\dot{w}_2$? ¿Alcanzan estas dos variables de estado? Encontrá las matrices $\\mathbf{A}$, $\\mathbf{B}$, $\\mathbf{C}$ y $\\mathbf{D}$."
   ]
  },
  {
   "cell_type": "markdown",
   "metadata": {
    "id": "p6TZf_w2R-9S"
   },
   "source": [
    "## Ejemplo: \n",
    "\n",
    "Con este ejemplo buscamos:\n",
    "* Comparar dos tipos de asignaciones de variables de estado: variables de estado asociadas a elementos acumuladores de energía y variables de estado de fase\n",
    "* Hallar ecuaciones de estado a partir de ecuaciones diferenciales con derivadas de las entrada u\n",
    "\n",
    "<figure>\n",
    "<center>\n",
    "<img src='https://drive.google.com/uc?id=1Q_5eabxWihse0yWKcxFN5t2ClszF6k4y' />\n",
    "<figcaption>Ejercicio 4</figcaption></center>\n",
    "</figure>\n",
    "\n",
    "**Ejercicio**\n",
    "\n",
    "a) Primero, planteá como indica el ejercicio las ecuaciones del circuito (mallas y nodos) para llegar a una ecuación diferencial única en función de la variable $y = v_L$ salida con $u = v$ entrada.\n",
    "\n",
    "Deberías llegar a la siguiente ecuación diferencial:\n",
    "\n",
    "$$ \\frac{d^2 v}{dt^2} + \\frac{1}{RC} \\frac{dv}{dt} = \\frac{d^2 v_L}{dt^2} + \\frac{2}{RC} \\frac{d v_L}{dt} + \\frac{v_L}{LC}$$\n",
    "\n",
    "Como vimos en la clase teórica, en este caso no es directa la asignación de variables de estado de fase. Usemos el método de la transformada de Laplace (suponer condiciones iniciales nulas):\n",
    "\n",
    "$$ s^2 V(s) + \\frac{1}{RC} s V(s) = s^2 V_L(s) + \\frac{2}{RC} s V_L(s) + \\frac{1}{LC} V_L(s)$$\n",
    "\n",
    "Como $ U(s) = V(s)$ y $Y(s) = V_L(s)$, y si además sacamos factor común y definimos polinomios numerador y denominador:\n",
    "\n",
    "$$ b(s) U(s) = a(s) Y(s) $$\n",
    "\n",
    "Con:\n",
    "\n",
    "$$b(s) = s^2 + \\frac{1}{RC} s$$\n",
    "\n",
    "y\n",
    "\n",
    "$$a(s) = s^2+ \\frac{2}{RC} s + \\frac{1}{LC} $$\n",
    "\n",
    "Definimos:\n",
    "\n",
    "$$Z(s) \\overset{\\Delta}{=} \\frac{U(s)}{a(s)}$$\n",
    "\n",
    "De manera tal que:\n",
    "\n",
    "$$ Y(s) = b(s) \\frac{U(s)}{a(s)} = b(s)Z(s) $$ \n",
    "\n",
    "tiene como transformada inversa de Laplace:\n",
    "\n",
    "$$ y = \\frac{d^2 z}{dt^2} + \\frac{1}{RC} \\frac{dz}{dt} $$\n",
    "\n",
    "y $ U(s) = a(s) Z(s) $ vale en el dominio del tiempo:\n",
    "\n",
    "$$ u = \\frac{d^2 z}{dt^2} + \\frac{2}{RC} \\frac{d z}{dt} + \\frac{z}{LC}$$\n",
    "\n",
    "Con estas dos ecuaciones se construye un diagrama de simulación como el siguiente:\n",
    "\n",
    "<figure>\n",
    "<center>\n",
    "<img src='https://drive.google.com/uc?id=1PuWRSkL2EjVmRSgvGlAlJQ3GvfJXoUZU' />\n",
    "<figcaption>Ejercicio 4 a): Diagrama de simulación</figcaption></center>\n",
    "</figure>\n",
    "\n",
    "Verificá que a partir del diagrama se obtiene el siguiente sistema:\n",
    "\n",
    "$$ \\mathbf{\\dot{x}} =  \\begin{bmatrix} 0 & 1\\\\ -\\frac{1}{LC} & -\\frac{2}{RC} \\end{bmatrix} \\mathbf{x} + \\begin{bmatrix} 0 \\\\ 1\\end{bmatrix} u$$\n",
    "\n",
    "$$ y = \\begin{bmatrix}-\\frac{1}{LC} -\\frac{1}{RC} \\end{bmatrix} \\mathbf{x} + u $$\n",
    "\n",
    "**Ejercicio**\n",
    "\n",
    "b) Resolvé para las variables de estado de los acumuladores de energía independientes del circuito. Dibujá el diagrama de simulación.\n",
    "\n",
    "**Para pensar:**\n",
    "\n",
    "* ¿Cómo redibujarías el diagrama de simulación para que queden explícitos los coeficientes de la matriz C en el mismo?\n",
    "* ¿Cómo se puede usar el hecho de que el la ecuación diferencial es lineal para hallar de una manera más rápida el diagrama de simulación en a) y la descripción en variables de estado de fase?\n",
    "* ¿Podés hallar una transformación de variables de estado que lleve de una a otra descripción? Este tema lo veremos más adelante, pero puede ser un buen desafío encontrarla."
   ]
  },
  {
   "cell_type": "markdown",
   "metadata": {
    "id": "jyYZ8Wp8R-9T"
   },
   "source": [
    "## Tarea:\n",
    "\n",
    "Dada la tarea de la semana 1 en la que diseñaron un amortiguador de masa para el puente grúa:\n",
    "\n",
    "1. Hallar la ecuación de estado del sistema completo amortiguado, siendo la entrada f(t), la fuerza de perturbación, y la salida z(t), el desplazamiento de la masa del puente (M1) respecto del punto de equilibrio.\n",
    "\n",
    "**RTA:**\n",
    "a partir de la de las ecuaciones obtenidas para el TP1:\n",
    "$$ \\ddot{y_1}= \\frac{F}{M} -\\frac{K}{M}y_1 -\\frac{B}{M}\\dot{y_1} -\\frac{K_a}{M}(y_1 - y_2)$$\n",
    "\n",
    "$$ \\ddot{y_2}= -\\frac{K_a}{M_a}(y_2 - y_1) $$\n",
    "\n",
    "Para el cual se usan las siguientes variables de estado.\n",
    "$$ \\mathbf{z} = \\begin{bmatrix} x_1\\\\ \\dot{x}_1\\\\  x_2 \\\\ \\dot{x}_2 \\end{bmatrix} $$\n",
    "\n",
    "Reemplazando se obtienen las ecuaciones en variables de estados:\n",
    "\n",
    "$$ \\dot{x_2}= \\frac{F}{M} -\\frac{K}{M}x_1 -\\frac{B}{M}x_2 -\\frac{K_a}{M}(x_1 - x_3)$$\n",
    "\n",
    "$$ \\dot{x_4}= -\\frac{K_a}{M_a}(x_3 - x_1) $$\n",
    "\n",
    "Con lo que finalmente se puede obtener la representacion en espacio de estados matricial, donde A es:\n",
    "\n",
    "$$ \\mathbf{A} = \\begin{bmatrix} 0 & 1 & 0 & 0 \n",
    "                  \\\\ -\\frac{K}{M}-\\frac{K_a}{M} & -\\frac{B}{M} & \\frac{K_a}{M} & 0\n",
    "                  \\\\ 0 & 0 & 0 & 1\n",
    "                  \\\\ \\frac{K_a}{M_a} & 0 & -\\frac{K_a}{M_a} & 0 \\end{bmatrix} $$\n",
    "con **u=f** entonces B sera:\n",
    "$$ \\mathbf{B} = \\begin{bmatrix} 0 \\\\ \\frac{1}{M} \\\\ 0 \\\\ 0 \\end{bmatrix}$$\n",
    "y la salida sera: **y=C.z**\n",
    "\n",
    "$$ \\mathbf{C} = \\begin{bmatrix} 1 & 0 & 0 & 0 \\end{bmatrix}$$\n",
    "\n",
    "\n",
    "    \n",
    "2. Simular dicha ecuación de estados y verificar que este nuevo modelo sigue respondiendo al objetivo de eliminar la perturbación. Graficar además las variables de estado.\n"
   ]
  },
  {
   "cell_type": "code",
   "execution_count": 14,
   "metadata": {
    "colab": {
     "base_uri": "https://localhost:8080/"
    },
    "id": "B_NhvlN-R-9U",
    "outputId": "05163211-bd7b-4108-ccb4-2ca3815dccce"
   },
   "outputs": [
    {
     "name": "stdout",
     "output_type": "stream",
     "text": [
      "Requirement already satisfied: control in c:\\users\\brian\\anaconda3\\lib\\site-packages (0.9.0)\n",
      "Requirement already satisfied: scipy in c:\\users\\brian\\anaconda3\\lib\\site-packages (from control) (1.2.1)\n",
      "Requirement already satisfied: matplotlib in c:\\users\\brian\\anaconda3\\lib\\site-packages (from control) (3.1.0)\n",
      "Requirement already satisfied: numpy in c:\\users\\brian\\anaconda3\\lib\\site-packages (from control) (1.16.4)\n",
      "Requirement already satisfied: cycler>=0.10 in c:\\users\\brian\\anaconda3\\lib\\site-packages (from matplotlib->control) (0.10.0)\n",
      "Requirement already satisfied: kiwisolver>=1.0.1 in c:\\users\\brian\\anaconda3\\lib\\site-packages (from matplotlib->control) (1.1.0)\n",
      "Requirement already satisfied: pyparsing!=2.0.4,!=2.1.2,!=2.1.6,>=2.0.1 in c:\\users\\brian\\anaconda3\\lib\\site-packages (from matplotlib->control) (2.4.0)\n",
      "Requirement already satisfied: python-dateutil>=2.1 in c:\\users\\brian\\anaconda3\\lib\\site-packages (from matplotlib->control) (2.8.0)\n",
      "Requirement already satisfied: six in c:\\users\\brian\\anaconda3\\lib\\site-packages (from cycler>=0.10->matplotlib->control) (1.12.0)\n",
      "Requirement already satisfied: setuptools in c:\\users\\brian\\anaconda3\\lib\\site-packages (from kiwisolver>=1.0.1->matplotlib->control) (41.0.1)\n",
      "SS =  A = [[ 0.000e+00  1.000e+00  0.000e+00  0.000e+00]\n",
      "     [-8.101e+02 -1.000e+00  8.100e+02  0.000e+00]\n",
      "     [ 0.000e+00  0.000e+00  0.000e+00  1.000e+00]\n",
      "     [ 8.100e+03  0.000e+00 -8.100e+03  0.000e+00]]\n",
      "\n",
      "B = [[0.        ]\n",
      "     [3.33333333]\n",
      "     [0.        ]\n",
      "     [0.        ]]\n",
      "\n",
      "C = [[1. 0. 0. 0.]]\n",
      "\n",
      "D = [[0.]]\n",
      "\n"
     ]
    }
   ],
   "source": [
    "# Recordá incluir todos los imports y cargar el software que necesites con pip\n",
    "!pip install control\n",
    "import control as ctrl\n",
    "import numpy as np # Numpy es la biblioteca de computos científicos más usada en pyhon\n",
    "import matplotlib.pyplot as plt # Matplotlib es la biblioteca que nos va a permitir grafica\n",
    "\n",
    "# Definición de valores de parámetros del modelo\n",
    "M = 0.3 # kg\n",
    "K = 0.03 # N/m\n",
    "B = 0.3 # Ns/m\n",
    "Ma = 0.03  # kg\n",
    "A = 1 # N\n",
    "omega = 90 # rad/s\n",
    "Ka = 243 \n",
    "#var('M K B Ma A Ka')\n",
    "# Completá con tu código a partir de acá\n",
    "\n",
    "AA= np.array ([[0, 1, 0, 0], [-K/M -Ka/M, -B/M, Ka/M, 0], [0, 0, 0, 1], [Ka/Ma, 0, -Ka/Ma, 0]])\n",
    "BB= np.array ([[0], [1/M],[0] , [0]])\n",
    "CC= np.array ([[1, 0, 0, 0]])\n",
    "DD= np.array([[0]])\n",
    "\n",
    "#creo el modelo en espacio de estados.\n",
    "SS= ctrl.ss(AA, BB, CC, DD)\n",
    "print('SS = ', SS)\n"
   ]
  },
  {
   "cell_type": "code",
   "execution_count": 11,
   "metadata": {},
   "outputs": [
    {
     "data": {
      "text/plain": [
       "(70, 100)"
      ]
     },
     "execution_count": 11,
     "metadata": {},
     "output_type": "execute_result"
    },
    {
     "data": {
      "image/png": "[encoded data removed]",
      "text/plain": [
       "<Figure size 432x288 with 2 Axes>"
      ]
     },
     "metadata": {
      "needs_background": "light"
     },
     "output_type": "display_data"
    }
   ],
   "source": [
    "# Diagrama de Bode\n",
    "mag, phase, omega = ctrl.bode_plot(SS)\n",
    "plt.xlim([70, 100])"
   ]
  },
  {
   "cell_type": "markdown",
   "metadata": {},
   "source": [
    "Vemos que tenemos la misma respuesta en frecuencia que teniamos en el TP1, por lo que se podria concluir que el la representacion es espacio de estados es correcta, pero aun asi veamos como es la solucion forzada."
   ]
  },
  {
   "cell_type": "code",
   "execution_count": 15,
   "metadata": {
    "scrolled": true
   },
   "outputs": [
    {
     "data": {
      "image/png": "[encoded data removed]",
      "text/plain": [
       "<Figure size 432x288 with 1 Axes>"
      ]
     },
     "metadata": {
      "needs_background": "light"
     },
     "output_type": "display_data"
    },
    {
     "data": {
      "image/png": "[encoded data removed]",
      "text/plain": [
       "<Figure size 432x288 with 1 Axes>"
      ]
     },
     "metadata": {
      "needs_background": "light"
     },
     "output_type": "display_data"
    }
   ],
   "source": [
    "t0=0\n",
    "t1=80\n",
    "nt= 50000\n",
    "t= np . linspace ( t0 , t1 , nt )\n",
    "f= A*np.sin(omega*t)\n",
    "t, zout= ctrl.forced_response(SS,t, f )\n",
    "\n",
    "# Respuesta a la perturbacion senoidal, la solucion forzada.\n",
    "plt.plot(t, zout)\n",
    "plt.ylabel('z(t) (m)')\n",
    "plt.xlabel('Tiempo (s)')\n",
    "plt.title('Respuesta a f(t) = s(t), Asen(w.t)')\n",
    "plt.grid()\n",
    "plt.show()\n",
    "\n",
    "#Solucion forzada entre los 76 a 78 segundos.\n",
    "plt.plot(t, zout)\n",
    "plt.ylim([-0.001, 0.001])\n",
    "plt.xlim([76, 78])\n",
    "plt.ylabel('z(t) (m)')\n",
    "plt.xlabel('Tiempo (s)')\n",
    "plt.title('Respuesta a f(t) = s(t), Asen(w.t), regimen permanente')\n",
    "plt.grid()\n",
    "plt.show()\n"
   ]
  },
  {
   "cell_type": "markdown",
   "metadata": {},
   "source": [
    "Se reafirma que es el mismo.\n",
    "entonces queda hacer el grafico de las variables de estado, para ello se opta por cambiar la matriz **C** por la matriz identidad 4x4 de forma de obtener todas las salidas desacopladas."
   ]
  },
  {
   "cell_type": "code",
   "execution_count": 18,
   "metadata": {
    "scrolled": true
   },
   "outputs": [
    {
     "data": {
      "image/png": "[encoded data removed]",
      "text/plain": [
       "<Figure size 432x288 with 4 Axes>"
      ]
     },
     "metadata": {
      "needs_background": "light"
     },
     "output_type": "display_data"
    }
   ],
   "source": [
    "CC= np.identity(4)\n",
    "DD= np.zeros((4,1))\n",
    "#Modifico el modelo en espacio de estados.\n",
    "SS2= ctrl.ss(AA, BB, CC, DD)\n",
    "#print('SS = ', SS)\n",
    "#X0= np.zeros((4,1))\n",
    "\n",
    "t, zout= ctrl.forced_response(SS2, t, f)\n",
    "# Respuesta a la perturbacion senoidal, la solucion forzada.\n",
    "x1 = zout [0 ,:]\n",
    "x2 = zout [1 ,:]\n",
    "x3 = zout [2 ,:]\n",
    "x4 = zout [3 ,:]\n",
    "\n",
    "#plt.plot(t, x1)\n",
    "#plt.ylabel('z(t) (m)')\n",
    "#plt.xlabel('Tiempo (s)')\n",
    "#plt.title('Respuesta a f(t) = s(t), Asen(w.t)')\n",
    "#plt.grid()\n",
    "#plt.show()\n",
    "\n",
    "fig, ((ax1, ax2), (ax3, ax4)) = plt.subplots(2, 2)\n",
    "fig.suptitle('graficos X1, X2, X3 y X4')\n",
    "ax1.plot(t, x1)\n",
    "ax1.set_title(\"X1,Posicion_1\")\n",
    "ax2.plot(t, x2, 'tab:orange')\n",
    "ax2.set_title(\"X2,Velocidad_2\")\n",
    "ax3.plot(t, x3, 'tab:green')\n",
    "ax3.set_title(\"X3,Posicion_3\")\n",
    "ax4.plot(t, x4, 'tab:red')\n",
    "ax4.set_title(\"X1,Velocidad_4\")\n",
    "\n",
    "for ax in fig.get_axes():\n",
    "    ax.label_outer()\n"
   ]
  },
  {
   "cell_type": "markdown",
   "metadata": {},
   "source": [
    "3. Utilizar las funciones de la biblioteca de control para convertir de descripción en variables de estado a modelo en transferencia y verificar que se obtiene la transferencia esperada."
   ]
  },
  {
   "cell_type": "code",
   "execution_count": 104,
   "metadata": {},
   "outputs": [
    {
     "data": {
      "text/latex": [
       "$$\\frac{-2.22 \\times 10^{-15} s^3 + 3.333 s^2 - 1.364 \\times 10^{-11} s + 2.7 \\times 10^{4}}{s^4 + s^3 + 8910 s^2 + 8100 s + 810}$$"
      ],
      "text/plain": [
       "TransferFunction(array([-2.22044605e-15,  3.33333333e+00, -1.36424205e-11,  2.70000000e+04]), array([1.0000e+00, 1.0000e+00, 8.9101e+03, 8.1000e+03, 8.1000e+02]))"
      ]
     },
     "execution_count": 104,
     "metadata": {},
     "output_type": "execute_result"
    }
   ],
   "source": [
    "ctrl.ss2tf(SS)"
   ]
  },
  {
   "cell_type": "code",
   "execution_count": 23,
   "metadata": {},
   "outputs": [],
   "source": [
    "polos = ctrl.pole(SS)\n",
    "ceros = ctrl.zero(SS)"
   ]
  },
  {
   "cell_type": "code",
   "execution_count": 26,
   "metadata": {},
   "outputs": [
    {
     "name": "stdout",
     "output_type": "stream",
     "text": [
      "El sistema tiene ceros en C1 =  90j , C2 = -90j .\n",
      "El sistema tiene polos en s1 =  (-0.04545125705060671+94.39239580122364j) , s2 = (-0.04545125705060671-94.39239580122364j), s3 =  (-0.11439478019465321+0j) y s4 = (-0.7947027057041337+0j) .\n"
     ]
    }
   ],
   "source": [
    "print('El sistema tiene ceros en C1 =  {} , C2 = {} .'.format(ceros[0],ceros[1]))\n",
    "print('El sistema tiene polos en s1 =  {} , s2 = {}, s3 =  {} y s4 = {} .'.format(polos[0],polos[1],polos[2],polos[3]))"
   ]
  },
  {
   "cell_type": "markdown",
   "metadata": {},
   "source": [
    "estos ceros y polos son los mismos obtenidos en el TP1 por lo que es la misma transferencia."
   ]
  },
  {
   "cell_type": "code",
   "execution_count": null,
   "metadata": {},
   "outputs": [],
   "source": []
  }
 ],
 "metadata": {
  "colab": {
   "collapsed_sections": [],
   "name": "clase2_colab.ipynb",
   "provenance": []
  },
  "kernelspec": {
   "display_name": "Python 3",
   "language": "python",
   "name": "python3"
  },
  "language_info": {
   "codemirror_mode": {
    "name": "ipython",
    "version": 3
   },
   "file_extension": ".py",
   "mimetype": "text/x-python",
   "name": "python",
   "nbconvert_exporter": "python",
   "pygments_lexer": "ipython3",
   "version": "3.7.3"
  }
 },
 "nbformat": 4,
 "nbformat_minor": 1
}
