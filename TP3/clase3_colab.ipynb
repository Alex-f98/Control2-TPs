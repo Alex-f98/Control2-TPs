{
  "nbformat": 4,
  "nbformat_minor": 0,
  "metadata": {
    "kernelspec": {
      "name": "python3",
      "display_name": "Python 3"
    },
    "colab": {
      "name": "clase3_colab.ipynb",
      "provenance": [],
      "collapsed_sections": []
    }
  },
  "cells": [
    {
      "cell_type": "markdown",
      "metadata": {
        "id": "DSEobE7YR-9N"
      },
      "source": [
        "# Clase 3: Modelos en variables de estado en tiempo discreto\n",
        "\n",
        "Los modelos en variables de estado en tiempo discreto pueden provenir de sistemas que son inherentemente sampleados en momentos fijos en el tiempo, o porque al ser llevados al mundo de las computadoras digitales, es la forma más simple de representarlos.\n",
        "\n",
        "Más adelante veremos cómo llevar modelos de sistemas físicos de tiempo continuo a modelos equivalentes en tiempo discreto, que nos permitirán analizar en el dominio discreto y controlarlos por computadora.\n",
        "\n",
        "## Ecuación de estado en tiempo discreto\n",
        "\n",
        "Los sistemas de variables concentradas sampleados podemos llevarlos a una forma de ecuaciones en diferencias de primer orden de este estilo:\n",
        "\n",
        "$$ x_{1}(k+1) = f_{1}(x_1(k), x_2(k), \\dots, x_n(k),k,u(k))$$\n",
        "$$ \\vdots $$\n",
        "$$ x_{n}(k+1) = f_{n}(x_1(k), x_2(k), \\dots, x_n(k),k,u(k))$$\n",
        "\n",
        "Por simplicidad $u$ la consideramos de dimensión 1, es decir única entrada, para simplificar la notación. Sin embargo, podrían ser múltiples entradas. Estas ecuaciones dependen de funciones arbitrarias $f_{1} \\dots f_{n}$, e indirectamente dependen de las variables $x_{1}\\dots x_{n}$, llamadas variables de estado.\n",
        "\n",
        "Notamos cómo en este caso bien general el siguiente valor de la variable de estado, depende de los valores actuales de dichas variables, del instante actual de simulación $k$ y de el valor de la entrada (o entradas) en el instante $k$. Ese conjunto o sistema de ecuaciones en diferencias definen la ecuación de estados, que en forma vectorial se escribe como:\n",
        "\n",
        "$$ \\mathbf{x}(k+1) = \\mathbf{f} (\\mathbf{x}(k), u(k), k) $$\n",
        "\n",
        "Usaremos indistintamente esta notación con paréntesis o directamente con subíndices:\n",
        "\n",
        "$$ \\mathbf{x}_{k+1} = \\mathbf{f} (\\mathbf{x}_k, u_k, k) $$\n",
        "\n",
        "Donde $\\mathbf{x}_k$ es el vector de estado del sistema en el instante $k$:\n",
        "\n",
        "$$\\mathbf{x}_k = \\begin{bmatrix} {x_{1}}_k \\\\ {x_{2}}_k \\\\  \\vdots\\\\  {x_{n}}_k \\end{bmatrix}$$\n",
        "\n",
        "Formado por las $n$ variables de estado.\n",
        "\n",
        "La nomenclatura es similar a los sistemas de tiempo continuo y en muchos casos notaremos que se repetirán los métodos de manera casi directa a través de la notación matricial. \n",
        "\n",
        "La ecuación de salida tendrá la misma forma, pero estará definida para el instante $k$:\n",
        "\n",
        "$$ \\mathbf{y}_k = \\begin{bmatrix} {y_1}_k \\\\ \\vdots \\\\ {y_l}_k \\end{bmatrix} = \\begin{bmatrix} g_1({x_1}_k, \\dots, {x_n}_k, u_k, k) \\\\ \\vdots \\\\ g_l({x_1}_k, \\dots, {x_n}_k, u_k, k) \\end{bmatrix}$$\n",
        "\n",
        "Cabe aclarar, que el \"instante de tiempo k\" corresponder a un tiempo:\n",
        "\n",
        "$$ t_k = k \\, T + t_0 $$\n",
        "\n",
        "Donde:\n",
        "\n",
        "* $T$ es el período de muestreo\n",
        "* $t_0$ es el tiempo inicial, que para sistemas invariantes en el tiempo puede ser arbitrario y por ende en general conviene tomar 0.\n",
        "\n",
        "Esto es particularmente útil para sistemas que provienen del muestreo periódico de sistemas de tiempo continuo, como se da en los sistemas de control digitales o por computadora.\n",
        "\n",
        "### Caso lineal\n",
        "\n",
        "Para los sistemas lineales, las funciones $f_i$ y $g_j$ de las ecuaciones de estado, son combinaciones lineales de las variables de estado y de las entradas, y se pueden simplificar como se indica a continuación:\n",
        "\n",
        "Ecuación de estado\n",
        "\n",
        "$$ \\mathbf{x}_{k+1} = \\mathbf{A}_k \\mathbf{x}_k + \\mathbf{B}_k \\mathbf{u}_k $$\n",
        "\n",
        "Ecuación de salida\n",
        "\n",
        "$$ \\mathbf{y}_k = \\mathbf{C}_k \\mathbf{x}_k + \\mathbf{D}_k \\mathbf{u}_k $$\n",
        "\n",
        "Probablemente en el futuro eliminemos la notación en negrita para los vectores y matrices para simplificar, pero deberemos estar atentos a las dimensiones de las variables y constantes en cada caso.\n",
        "\n",
        "A continuación vamos a repetir el ejemplo de la clase pasada a modo de tarea, pero realizando primero una discretización intuitiva."
      ]
    },
    {
      "cell_type": "markdown",
      "metadata": {
        "id": "p6TZf_w2R-9S"
      },
      "source": [
        "## Ejemplo: \n",
        "\n",
        "Con este ejemplo buscamos:\n",
        "* Mostrar que se puede usar un método similar de asignación de variables de estado de fase a partir de una ecuación en diferencias\n",
        "* Hallar ecuaciones de estado a partir de ecuaciones en diferencias con $u_{k+1}, u_{k+2}, ...$\n",
        "\n",
        "<figure>\n",
        "<center>\n",
        "<img src='https://drive.google.com/uc?id=1Q_5eabxWihse0yWKcxFN5t2ClszF6k4y' />\n",
        "<figcaption>Ejercicio 4</figcaption></center>\n",
        "</figure>\n",
        "\n",
        "**Ejercicio**\n",
        "\n",
        "Primero, volvé al cálculo de la clase pasada para obtener la ecuación diferencial siguiente:\n",
        "\n",
        "$$ \\frac{d^2 v}{dt^2} + \\frac{1}{RC} \\frac{dv}{dt} = \\frac{d^2 v_L}{dt^2} + \\frac{2}{RC} \\frac{d v_L}{dt} + \\frac{v_L}{LC}$$\n",
        "\n",
        "En donde simplificamos el problema al hacer $R_1 = R_2 = R$.\n",
        "\n",
        "Verficar que se puede usar una aproximación de primera diferencia para las derivadas:\n",
        "\n",
        "$$ \\frac{df}{dt} = \\dot{f} \\simeq \\frac{f(t+\\Delta t)-f(t)}{\\Delta t} $$\n",
        "$$ \\frac{d^2f}{dt^2} \\simeq \\frac{\\dot{f}(t+\\Delta t)-\\dot{f}(t)}{\\Delta t} $$\n",
        "\n",
        "para obtener la siguiente ecuación en diferencias:\n",
        "\n",
        "$$u_{k+2}+ b_1 u_{k+1} + b_0 u_{k} = y_{k+2}+ a_1 y_{k+1} + a_0 y_{k}$$\n",
        "\n",
        "Donde:\n",
        "\n",
        "$$a_1 = \\frac{2 T_S}{RC}- 2$$\n",
        "$$a_0 = 1 - \\frac{2 T_S}{RC} + \\frac{T_S^2}{LC} $$\n",
        "$$b_1 = \\frac{T_S}{RC} - 2 $$\n",
        "$$b_0 = 1 - \\frac{T_S}{RC} $$"
      ]
    },
    {
      "cell_type": "markdown",
      "metadata": {
        "id": "jyYZ8Wp8R-9T"
      },
      "source": [
        "## Tarea:\n",
        "Dado el circuito discretizado set toman los siguientes valores:\n",
        "\n",
        "$$ R_1 = R_2 = 20~\\Omega $$\n",
        "$$ C = 5~\\mu\\text{F} $$\n",
        "$$ L = 10~\\mu \\text{H} $$\n",
        "$$ T_S = 200~\\text{ns} $$\n",
        "\n",
        "para resolver los siguientes puntos:\n",
        "\n",
        "1. Hallá una descripción en variables de estado de fase del sistema discretizado. Usar un método similar al de la clase anterior pero con transformada Z. El método también está explicado en el video de la clase teórica.\n",
        "2. Dibujá el diagrama de simulación.\n",
        "3. Simulá el sistema original (circuito) y el discretizado aproximado. Compará respuestas al escalón en el mismo gráfico superpuesto. ¿Qué tan buena es la aproximación? ¿Cómo creés que se puede mejorar la aproximación?"
      ]
    },
    {
      "cell_type": "code",
      "metadata": {
        "id": "B_NhvlN-R-9U"
      },
      "source": [
        "# Recordá incluir todos los imports y cargar el software que necesites con pip\n",
        "R = 20  # Ohm\n",
        "C = 5e-6  # F\n",
        "L = 10e-6  # H\n",
        "Ts = 2e-7 # s. Si te interesa, podrías cambiar el valor y ver lo que sucede con la aproximación del sistema en tiempo discreto\n",
        "\n",
        "# Definir el sistema en variables de estado\n",
        "\n",
        "# Simulación de respuesta al escalón del sistema original\n",
        "\n",
        "# Simulación de respuesta al escalón del sistema discretizado equivalente\n",
        "\n",
        "# Gráfico de ambas respuestas superpuestas en tiempos equivalentes"
      ],
      "execution_count": null,
      "outputs": []
    }
  ]
}